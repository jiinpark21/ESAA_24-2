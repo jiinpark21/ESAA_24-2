{
  "nbformat": 4,
  "nbformat_minor": 0,
  "metadata": {
    "colab": {
      "provenance": [],
      "mount_file_id": "16UG6G2RiEM5YOxd5H6afKDsYeRl_9_mI",
      "authorship_tag": "ABX9TyPZeUrVVcPOCduXFWyGHrlu",
      "include_colab_link": true
    },
    "kernelspec": {
      "name": "python3",
      "display_name": "Python 3"
    },
    "language_info": {
      "name": "python"
    }
  },
  "cells": [
    {
      "cell_type": "markdown",
      "metadata": {
        "id": "view-in-github",
        "colab_type": "text"
      },
      "source": [
        "<a href=\"https://colab.research.google.com/github/jiinpark21/ESAA_24-2/blob/main/5%EC%A3%BC%EC%B0%A8_%EA%B3%BC%EC%A0%9C_0930_%ED%85%8D%EC%8A%A4%ED%8A%B8%EB%B6%84%EC%84%9D3.ipynb\" target=\"_parent\"><img src=\"https://colab.research.google.com/assets/colab-badge.svg\" alt=\"Open In Colab\"/></a>"
      ]
    },
    {
      "cell_type": "markdown",
      "source": [
        "파이썬 머신러닝 완벽 가이드 개정2판 ch8. 6, 8~9\n",
        "\n",
        "p.534-538, 550-565"
      ],
      "metadata": {
        "id": "ZXXQ0liOHDXN"
      }
    },
    {
      "cell_type": "markdown",
      "source": [
        "# [Chapter 8] 텍스트 분석"
      ],
      "metadata": {
        "id": "QlNKDtVAHZg-"
      }
    },
    {
      "cell_type": "markdown",
      "source": [
        "## 8-6. 토픽 모델링(Topic Modeling) - 20 뉴스그룹"
      ],
      "metadata": {
        "id": "qoDlGEEYHgBd"
      }
    },
    {
      "cell_type": "markdown",
      "source": [
        "- 토픽 모델링 : 문서 집합에 숨어 있는 주제를 찾아내는 것\n",
        "  - 머신러닝 기반의 토픽 모델링은 숨겨진 주제를 효과적으로 표현할 수 있는 중심 단어를 함축적으로 추출\n",
        "  - LSA(Latent Semantic Analysis)\n",
        "  - LDA(Latent Dirichlet Allocation)"
      ],
      "metadata": {
        "id": "xiU41_H8RCmo"
      }
    },
    {
      "cell_type": "markdown",
      "source": [
        "- LDA\n",
        "  - Count 기반의 벡터화만 사용"
      ],
      "metadata": {
        "id": "0QQb-GcrRdR3"
      }
    },
    {
      "cell_type": "code",
      "execution_count": 3,
      "metadata": {
        "colab": {
          "base_uri": "https://localhost:8080/"
        },
        "id": "0jU7yzPKG6J6",
        "outputId": "bbcc162a-e88e-4cbc-ab06-051191b50140"
      },
      "outputs": [
        {
          "output_type": "stream",
          "name": "stdout",
          "text": [
            "CountVectorizer Shape: (7862, 1000)\n"
          ]
        }
      ],
      "source": [
        "from sklearn.datasets import fetch_20newsgroups\n",
        "from sklearn.feature_extraction.text import CountVectorizer\n",
        "from sklearn.decomposition import LatentDirichletAllocation\n",
        "\n",
        "# 모터사이클, 야구, 그래픽스, 윈도우즈, 중동, 기독교, 전자공학, 의학 8개 주제를 추출.\n",
        "cats = ['rec.motorcycles', 'rec.sport.baseball', 'comp.graphics', 'comp.windows.x',\n",
        "        'talk.politics.mideast', 'soc.religion.christian', 'sci.electronics', 'sci.med']\n",
        "\n",
        "# 위에서 cats 변수로 기재된 카테고리만 추출. fetch_20newsgroups()의 categories에 cats 입력\n",
        "news_df = fetch_20newsgroups(subset='all', remove=('headers', 'footers', 'quotes',),\n",
        "                             categories=cats, random_state=0)\n",
        "\n",
        "# LDA는 Count 기반의 벡터화만 적용합니다.\n",
        "count_vect = CountVectorizer(max_df=0.95, max_features=1000, min_df=2, stop_words='english',\n",
        "                             ngram_range=(1,2))\n",
        "\n",
        "feat_vect = count_vect.fit_transform(news_df.data)\n",
        "print('CountVectorizer Shape:', feat_vect.shape)"
      ]
    },
    {
      "cell_type": "code",
      "source": [
        "lda = LatentDirichletAllocation(n_components=8, random_state=0)\n",
        "lda.fit(feat_vect)"
      ],
      "metadata": {
        "colab": {
          "base_uri": "https://localhost:8080/",
          "height": 80
        },
        "id": "sSOi4c-tSGSF",
        "outputId": "55c3dabc-1d53-479e-d51a-595d1907af89"
      },
      "execution_count": 4,
      "outputs": [
        {
          "output_type": "execute_result",
          "data": {
            "text/plain": [
              "LatentDirichletAllocation(n_components=8, random_state=0)"
            ],
            "text/html": [
              "<style>#sk-container-id-1 {\n",
              "  /* Definition of color scheme common for light and dark mode */\n",
              "  --sklearn-color-text: black;\n",
              "  --sklearn-color-line: gray;\n",
              "  /* Definition of color scheme for unfitted estimators */\n",
              "  --sklearn-color-unfitted-level-0: #fff5e6;\n",
              "  --sklearn-color-unfitted-level-1: #f6e4d2;\n",
              "  --sklearn-color-unfitted-level-2: #ffe0b3;\n",
              "  --sklearn-color-unfitted-level-3: chocolate;\n",
              "  /* Definition of color scheme for fitted estimators */\n",
              "  --sklearn-color-fitted-level-0: #f0f8ff;\n",
              "  --sklearn-color-fitted-level-1: #d4ebff;\n",
              "  --sklearn-color-fitted-level-2: #b3dbfd;\n",
              "  --sklearn-color-fitted-level-3: cornflowerblue;\n",
              "\n",
              "  /* Specific color for light theme */\n",
              "  --sklearn-color-text-on-default-background: var(--sg-text-color, var(--theme-code-foreground, var(--jp-content-font-color1, black)));\n",
              "  --sklearn-color-background: var(--sg-background-color, var(--theme-background, var(--jp-layout-color0, white)));\n",
              "  --sklearn-color-border-box: var(--sg-text-color, var(--theme-code-foreground, var(--jp-content-font-color1, black)));\n",
              "  --sklearn-color-icon: #696969;\n",
              "\n",
              "  @media (prefers-color-scheme: dark) {\n",
              "    /* Redefinition of color scheme for dark theme */\n",
              "    --sklearn-color-text-on-default-background: var(--sg-text-color, var(--theme-code-foreground, var(--jp-content-font-color1, white)));\n",
              "    --sklearn-color-background: var(--sg-background-color, var(--theme-background, var(--jp-layout-color0, #111)));\n",
              "    --sklearn-color-border-box: var(--sg-text-color, var(--theme-code-foreground, var(--jp-content-font-color1, white)));\n",
              "    --sklearn-color-icon: #878787;\n",
              "  }\n",
              "}\n",
              "\n",
              "#sk-container-id-1 {\n",
              "  color: var(--sklearn-color-text);\n",
              "}\n",
              "\n",
              "#sk-container-id-1 pre {\n",
              "  padding: 0;\n",
              "}\n",
              "\n",
              "#sk-container-id-1 input.sk-hidden--visually {\n",
              "  border: 0;\n",
              "  clip: rect(1px 1px 1px 1px);\n",
              "  clip: rect(1px, 1px, 1px, 1px);\n",
              "  height: 1px;\n",
              "  margin: -1px;\n",
              "  overflow: hidden;\n",
              "  padding: 0;\n",
              "  position: absolute;\n",
              "  width: 1px;\n",
              "}\n",
              "\n",
              "#sk-container-id-1 div.sk-dashed-wrapped {\n",
              "  border: 1px dashed var(--sklearn-color-line);\n",
              "  margin: 0 0.4em 0.5em 0.4em;\n",
              "  box-sizing: border-box;\n",
              "  padding-bottom: 0.4em;\n",
              "  background-color: var(--sklearn-color-background);\n",
              "}\n",
              "\n",
              "#sk-container-id-1 div.sk-container {\n",
              "  /* jupyter's `normalize.less` sets `[hidden] { display: none; }`\n",
              "     but bootstrap.min.css set `[hidden] { display: none !important; }`\n",
              "     so we also need the `!important` here to be able to override the\n",
              "     default hidden behavior on the sphinx rendered scikit-learn.org.\n",
              "     See: https://github.com/scikit-learn/scikit-learn/issues/21755 */\n",
              "  display: inline-block !important;\n",
              "  position: relative;\n",
              "}\n",
              "\n",
              "#sk-container-id-1 div.sk-text-repr-fallback {\n",
              "  display: none;\n",
              "}\n",
              "\n",
              "div.sk-parallel-item,\n",
              "div.sk-serial,\n",
              "div.sk-item {\n",
              "  /* draw centered vertical line to link estimators */\n",
              "  background-image: linear-gradient(var(--sklearn-color-text-on-default-background), var(--sklearn-color-text-on-default-background));\n",
              "  background-size: 2px 100%;\n",
              "  background-repeat: no-repeat;\n",
              "  background-position: center center;\n",
              "}\n",
              "\n",
              "/* Parallel-specific style estimator block */\n",
              "\n",
              "#sk-container-id-1 div.sk-parallel-item::after {\n",
              "  content: \"\";\n",
              "  width: 100%;\n",
              "  border-bottom: 2px solid var(--sklearn-color-text-on-default-background);\n",
              "  flex-grow: 1;\n",
              "}\n",
              "\n",
              "#sk-container-id-1 div.sk-parallel {\n",
              "  display: flex;\n",
              "  align-items: stretch;\n",
              "  justify-content: center;\n",
              "  background-color: var(--sklearn-color-background);\n",
              "  position: relative;\n",
              "}\n",
              "\n",
              "#sk-container-id-1 div.sk-parallel-item {\n",
              "  display: flex;\n",
              "  flex-direction: column;\n",
              "}\n",
              "\n",
              "#sk-container-id-1 div.sk-parallel-item:first-child::after {\n",
              "  align-self: flex-end;\n",
              "  width: 50%;\n",
              "}\n",
              "\n",
              "#sk-container-id-1 div.sk-parallel-item:last-child::after {\n",
              "  align-self: flex-start;\n",
              "  width: 50%;\n",
              "}\n",
              "\n",
              "#sk-container-id-1 div.sk-parallel-item:only-child::after {\n",
              "  width: 0;\n",
              "}\n",
              "\n",
              "/* Serial-specific style estimator block */\n",
              "\n",
              "#sk-container-id-1 div.sk-serial {\n",
              "  display: flex;\n",
              "  flex-direction: column;\n",
              "  align-items: center;\n",
              "  background-color: var(--sklearn-color-background);\n",
              "  padding-right: 1em;\n",
              "  padding-left: 1em;\n",
              "}\n",
              "\n",
              "\n",
              "/* Toggleable style: style used for estimator/Pipeline/ColumnTransformer box that is\n",
              "clickable and can be expanded/collapsed.\n",
              "- Pipeline and ColumnTransformer use this feature and define the default style\n",
              "- Estimators will overwrite some part of the style using the `sk-estimator` class\n",
              "*/\n",
              "\n",
              "/* Pipeline and ColumnTransformer style (default) */\n",
              "\n",
              "#sk-container-id-1 div.sk-toggleable {\n",
              "  /* Default theme specific background. It is overwritten whether we have a\n",
              "  specific estimator or a Pipeline/ColumnTransformer */\n",
              "  background-color: var(--sklearn-color-background);\n",
              "}\n",
              "\n",
              "/* Toggleable label */\n",
              "#sk-container-id-1 label.sk-toggleable__label {\n",
              "  cursor: pointer;\n",
              "  display: block;\n",
              "  width: 100%;\n",
              "  margin-bottom: 0;\n",
              "  padding: 0.5em;\n",
              "  box-sizing: border-box;\n",
              "  text-align: center;\n",
              "}\n",
              "\n",
              "#sk-container-id-1 label.sk-toggleable__label-arrow:before {\n",
              "  /* Arrow on the left of the label */\n",
              "  content: \"▸\";\n",
              "  float: left;\n",
              "  margin-right: 0.25em;\n",
              "  color: var(--sklearn-color-icon);\n",
              "}\n",
              "\n",
              "#sk-container-id-1 label.sk-toggleable__label-arrow:hover:before {\n",
              "  color: var(--sklearn-color-text);\n",
              "}\n",
              "\n",
              "/* Toggleable content - dropdown */\n",
              "\n",
              "#sk-container-id-1 div.sk-toggleable__content {\n",
              "  max-height: 0;\n",
              "  max-width: 0;\n",
              "  overflow: hidden;\n",
              "  text-align: left;\n",
              "  /* unfitted */\n",
              "  background-color: var(--sklearn-color-unfitted-level-0);\n",
              "}\n",
              "\n",
              "#sk-container-id-1 div.sk-toggleable__content.fitted {\n",
              "  /* fitted */\n",
              "  background-color: var(--sklearn-color-fitted-level-0);\n",
              "}\n",
              "\n",
              "#sk-container-id-1 div.sk-toggleable__content pre {\n",
              "  margin: 0.2em;\n",
              "  border-radius: 0.25em;\n",
              "  color: var(--sklearn-color-text);\n",
              "  /* unfitted */\n",
              "  background-color: var(--sklearn-color-unfitted-level-0);\n",
              "}\n",
              "\n",
              "#sk-container-id-1 div.sk-toggleable__content.fitted pre {\n",
              "  /* unfitted */\n",
              "  background-color: var(--sklearn-color-fitted-level-0);\n",
              "}\n",
              "\n",
              "#sk-container-id-1 input.sk-toggleable__control:checked~div.sk-toggleable__content {\n",
              "  /* Expand drop-down */\n",
              "  max-height: 200px;\n",
              "  max-width: 100%;\n",
              "  overflow: auto;\n",
              "}\n",
              "\n",
              "#sk-container-id-1 input.sk-toggleable__control:checked~label.sk-toggleable__label-arrow:before {\n",
              "  content: \"▾\";\n",
              "}\n",
              "\n",
              "/* Pipeline/ColumnTransformer-specific style */\n",
              "\n",
              "#sk-container-id-1 div.sk-label input.sk-toggleable__control:checked~label.sk-toggleable__label {\n",
              "  color: var(--sklearn-color-text);\n",
              "  background-color: var(--sklearn-color-unfitted-level-2);\n",
              "}\n",
              "\n",
              "#sk-container-id-1 div.sk-label.fitted input.sk-toggleable__control:checked~label.sk-toggleable__label {\n",
              "  background-color: var(--sklearn-color-fitted-level-2);\n",
              "}\n",
              "\n",
              "/* Estimator-specific style */\n",
              "\n",
              "/* Colorize estimator box */\n",
              "#sk-container-id-1 div.sk-estimator input.sk-toggleable__control:checked~label.sk-toggleable__label {\n",
              "  /* unfitted */\n",
              "  background-color: var(--sklearn-color-unfitted-level-2);\n",
              "}\n",
              "\n",
              "#sk-container-id-1 div.sk-estimator.fitted input.sk-toggleable__control:checked~label.sk-toggleable__label {\n",
              "  /* fitted */\n",
              "  background-color: var(--sklearn-color-fitted-level-2);\n",
              "}\n",
              "\n",
              "#sk-container-id-1 div.sk-label label.sk-toggleable__label,\n",
              "#sk-container-id-1 div.sk-label label {\n",
              "  /* The background is the default theme color */\n",
              "  color: var(--sklearn-color-text-on-default-background);\n",
              "}\n",
              "\n",
              "/* On hover, darken the color of the background */\n",
              "#sk-container-id-1 div.sk-label:hover label.sk-toggleable__label {\n",
              "  color: var(--sklearn-color-text);\n",
              "  background-color: var(--sklearn-color-unfitted-level-2);\n",
              "}\n",
              "\n",
              "/* Label box, darken color on hover, fitted */\n",
              "#sk-container-id-1 div.sk-label.fitted:hover label.sk-toggleable__label.fitted {\n",
              "  color: var(--sklearn-color-text);\n",
              "  background-color: var(--sklearn-color-fitted-level-2);\n",
              "}\n",
              "\n",
              "/* Estimator label */\n",
              "\n",
              "#sk-container-id-1 div.sk-label label {\n",
              "  font-family: monospace;\n",
              "  font-weight: bold;\n",
              "  display: inline-block;\n",
              "  line-height: 1.2em;\n",
              "}\n",
              "\n",
              "#sk-container-id-1 div.sk-label-container {\n",
              "  text-align: center;\n",
              "}\n",
              "\n",
              "/* Estimator-specific */\n",
              "#sk-container-id-1 div.sk-estimator {\n",
              "  font-family: monospace;\n",
              "  border: 1px dotted var(--sklearn-color-border-box);\n",
              "  border-radius: 0.25em;\n",
              "  box-sizing: border-box;\n",
              "  margin-bottom: 0.5em;\n",
              "  /* unfitted */\n",
              "  background-color: var(--sklearn-color-unfitted-level-0);\n",
              "}\n",
              "\n",
              "#sk-container-id-1 div.sk-estimator.fitted {\n",
              "  /* fitted */\n",
              "  background-color: var(--sklearn-color-fitted-level-0);\n",
              "}\n",
              "\n",
              "/* on hover */\n",
              "#sk-container-id-1 div.sk-estimator:hover {\n",
              "  /* unfitted */\n",
              "  background-color: var(--sklearn-color-unfitted-level-2);\n",
              "}\n",
              "\n",
              "#sk-container-id-1 div.sk-estimator.fitted:hover {\n",
              "  /* fitted */\n",
              "  background-color: var(--sklearn-color-fitted-level-2);\n",
              "}\n",
              "\n",
              "/* Specification for estimator info (e.g. \"i\" and \"?\") */\n",
              "\n",
              "/* Common style for \"i\" and \"?\" */\n",
              "\n",
              ".sk-estimator-doc-link,\n",
              "a:link.sk-estimator-doc-link,\n",
              "a:visited.sk-estimator-doc-link {\n",
              "  float: right;\n",
              "  font-size: smaller;\n",
              "  line-height: 1em;\n",
              "  font-family: monospace;\n",
              "  background-color: var(--sklearn-color-background);\n",
              "  border-radius: 1em;\n",
              "  height: 1em;\n",
              "  width: 1em;\n",
              "  text-decoration: none !important;\n",
              "  margin-left: 1ex;\n",
              "  /* unfitted */\n",
              "  border: var(--sklearn-color-unfitted-level-1) 1pt solid;\n",
              "  color: var(--sklearn-color-unfitted-level-1);\n",
              "}\n",
              "\n",
              ".sk-estimator-doc-link.fitted,\n",
              "a:link.sk-estimator-doc-link.fitted,\n",
              "a:visited.sk-estimator-doc-link.fitted {\n",
              "  /* fitted */\n",
              "  border: var(--sklearn-color-fitted-level-1) 1pt solid;\n",
              "  color: var(--sklearn-color-fitted-level-1);\n",
              "}\n",
              "\n",
              "/* On hover */\n",
              "div.sk-estimator:hover .sk-estimator-doc-link:hover,\n",
              ".sk-estimator-doc-link:hover,\n",
              "div.sk-label-container:hover .sk-estimator-doc-link:hover,\n",
              ".sk-estimator-doc-link:hover {\n",
              "  /* unfitted */\n",
              "  background-color: var(--sklearn-color-unfitted-level-3);\n",
              "  color: var(--sklearn-color-background);\n",
              "  text-decoration: none;\n",
              "}\n",
              "\n",
              "div.sk-estimator.fitted:hover .sk-estimator-doc-link.fitted:hover,\n",
              ".sk-estimator-doc-link.fitted:hover,\n",
              "div.sk-label-container:hover .sk-estimator-doc-link.fitted:hover,\n",
              ".sk-estimator-doc-link.fitted:hover {\n",
              "  /* fitted */\n",
              "  background-color: var(--sklearn-color-fitted-level-3);\n",
              "  color: var(--sklearn-color-background);\n",
              "  text-decoration: none;\n",
              "}\n",
              "\n",
              "/* Span, style for the box shown on hovering the info icon */\n",
              ".sk-estimator-doc-link span {\n",
              "  display: none;\n",
              "  z-index: 9999;\n",
              "  position: relative;\n",
              "  font-weight: normal;\n",
              "  right: .2ex;\n",
              "  padding: .5ex;\n",
              "  margin: .5ex;\n",
              "  width: min-content;\n",
              "  min-width: 20ex;\n",
              "  max-width: 50ex;\n",
              "  color: var(--sklearn-color-text);\n",
              "  box-shadow: 2pt 2pt 4pt #999;\n",
              "  /* unfitted */\n",
              "  background: var(--sklearn-color-unfitted-level-0);\n",
              "  border: .5pt solid var(--sklearn-color-unfitted-level-3);\n",
              "}\n",
              "\n",
              ".sk-estimator-doc-link.fitted span {\n",
              "  /* fitted */\n",
              "  background: var(--sklearn-color-fitted-level-0);\n",
              "  border: var(--sklearn-color-fitted-level-3);\n",
              "}\n",
              "\n",
              ".sk-estimator-doc-link:hover span {\n",
              "  display: block;\n",
              "}\n",
              "\n",
              "/* \"?\"-specific style due to the `<a>` HTML tag */\n",
              "\n",
              "#sk-container-id-1 a.estimator_doc_link {\n",
              "  float: right;\n",
              "  font-size: 1rem;\n",
              "  line-height: 1em;\n",
              "  font-family: monospace;\n",
              "  background-color: var(--sklearn-color-background);\n",
              "  border-radius: 1rem;\n",
              "  height: 1rem;\n",
              "  width: 1rem;\n",
              "  text-decoration: none;\n",
              "  /* unfitted */\n",
              "  color: var(--sklearn-color-unfitted-level-1);\n",
              "  border: var(--sklearn-color-unfitted-level-1) 1pt solid;\n",
              "}\n",
              "\n",
              "#sk-container-id-1 a.estimator_doc_link.fitted {\n",
              "  /* fitted */\n",
              "  border: var(--sklearn-color-fitted-level-1) 1pt solid;\n",
              "  color: var(--sklearn-color-fitted-level-1);\n",
              "}\n",
              "\n",
              "/* On hover */\n",
              "#sk-container-id-1 a.estimator_doc_link:hover {\n",
              "  /* unfitted */\n",
              "  background-color: var(--sklearn-color-unfitted-level-3);\n",
              "  color: var(--sklearn-color-background);\n",
              "  text-decoration: none;\n",
              "}\n",
              "\n",
              "#sk-container-id-1 a.estimator_doc_link.fitted:hover {\n",
              "  /* fitted */\n",
              "  background-color: var(--sklearn-color-fitted-level-3);\n",
              "}\n",
              "</style><div id=\"sk-container-id-1\" class=\"sk-top-container\"><div class=\"sk-text-repr-fallback\"><pre>LatentDirichletAllocation(n_components=8, random_state=0)</pre><b>In a Jupyter environment, please rerun this cell to show the HTML representation or trust the notebook. <br />On GitHub, the HTML representation is unable to render, please try loading this page with nbviewer.org.</b></div><div class=\"sk-container\" hidden><div class=\"sk-item\"><div class=\"sk-estimator fitted sk-toggleable\"><input class=\"sk-toggleable__control sk-hidden--visually\" id=\"sk-estimator-id-1\" type=\"checkbox\" checked><label for=\"sk-estimator-id-1\" class=\"sk-toggleable__label fitted sk-toggleable__label-arrow fitted\">&nbsp;&nbsp;LatentDirichletAllocation<a class=\"sk-estimator-doc-link fitted\" rel=\"noreferrer\" target=\"_blank\" href=\"https://scikit-learn.org/1.5/modules/generated/sklearn.decomposition.LatentDirichletAllocation.html\">?<span>Documentation for LatentDirichletAllocation</span></a><span class=\"sk-estimator-doc-link fitted\">i<span>Fitted</span></span></label><div class=\"sk-toggleable__content fitted\"><pre>LatentDirichletAllocation(n_components=8, random_state=0)</pre></div> </div></div></div></div>"
            ]
          },
          "metadata": {},
          "execution_count": 4
        }
      ]
    },
    {
      "cell_type": "code",
      "source": [
        "print(lda.components_.shape)\n",
        "lda.components_"
      ],
      "metadata": {
        "colab": {
          "base_uri": "https://localhost:8080/"
        },
        "id": "_CORj3mCSNJ2",
        "outputId": "e613cd83-65ce-412f-d005-d15b5bfcc950"
      },
      "execution_count": 5,
      "outputs": [
        {
          "output_type": "stream",
          "name": "stdout",
          "text": [
            "(8, 1000)\n"
          ]
        },
        {
          "output_type": "execute_result",
          "data": {
            "text/plain": [
              "array([[3.60992018e+01, 1.35626798e+02, 2.15751867e+01, ...,\n",
              "        3.02911688e+01, 8.66830093e+01, 6.79285199e+01],\n",
              "       [1.25199920e-01, 1.44401815e+01, 1.25045596e-01, ...,\n",
              "        1.81506995e+02, 1.25097844e-01, 9.39593286e+01],\n",
              "       [3.34762663e+02, 1.25176265e-01, 1.46743299e+02, ...,\n",
              "        1.25105772e-01, 3.63689741e+01, 1.25025218e-01],\n",
              "       ...,\n",
              "       [3.60204965e+01, 2.08640688e+01, 4.29606813e+00, ...,\n",
              "        1.45056650e+01, 8.33854413e+00, 1.55690009e+01],\n",
              "       [1.25128711e-01, 1.25247756e-01, 1.25005143e-01, ...,\n",
              "        9.17278769e+01, 1.25177668e-01, 3.74575887e+01],\n",
              "       [5.49258690e+01, 4.47009532e+00, 9.88524814e+00, ...,\n",
              "        4.87048440e+01, 1.25034678e-01, 1.25074632e-01]])"
            ]
          },
          "metadata": {},
          "execution_count": 5
        }
      ]
    },
    {
      "cell_type": "markdown",
      "source": [
        "- components_\n",
        "  - 개별 토픽별로 각 word 피처가 얼마나 많이 그 토픽에 할당되었는지에 대한 수치\n",
        "  - 높을 수록 해당 word 피처는 토픽의 중심 word가 됨\n"
      ],
      "metadata": {
        "id": "MWlP_3mTRoJe"
      }
    },
    {
      "cell_type": "code",
      "source": [
        "def display_topics(model, feature_names, no_top_words):\n",
        "  for topic_index, topic in enumerate(model.components_):\n",
        "    print('Topic #', topic_index)\n",
        "\n",
        "    # components_array 에서 가장 값이 큰 순으로 정렬했을 때, 그 값의 array 인덱스를 반환.\n",
        "    topic_word_indexes = topic.argsort()[::-1]\n",
        "    top_indexes = topic_word_indexes[:no_top_words]\n",
        "\n",
        "    # top_indexes 대상인 인덱스별로 feature_names에 해당하는 word feature 추출 후 join으로 concat\n",
        "    feature_concat = ' '.join([feature_names[i] for i in top_indexes])\n",
        "    print(feature_concat)\n",
        "\n",
        "# CountVectorizer 객체 내의 전체 word의 명칭을 get_features_names()를 통해 추출\n",
        "feature_names = count_vect.get_feature_names_out()\n",
        "\n",
        "# 토픽별 가장 연관도가 높은 word를 15개만 추출\n",
        "display_topics(lda, feature_names, 15)"
      ],
      "metadata": {
        "colab": {
          "base_uri": "https://localhost:8080/"
        },
        "id": "811OaMM0SRXU",
        "outputId": "922fb205-4b45-43ec-dc49-d8f259132d51"
      },
      "execution_count": 10,
      "outputs": [
        {
          "output_type": "stream",
          "name": "stdout",
          "text": [
            "Topic # 0\n",
            "year 10 game medical health team 12 20 disease cancer 1993 games years patients good\n",
            "Topic # 1\n",
            "don just like know people said think time ve didn right going say ll way\n",
            "Topic # 2\n",
            "image file jpeg program gif images output format files color entry 00 use bit 03\n",
            "Topic # 3\n",
            "like know don think use does just good time book read information people used post\n",
            "Topic # 4\n",
            "armenian israel armenians jews turkish people israeli jewish government war dos dos turkey arab armenia 000\n",
            "Topic # 5\n",
            "edu com available graphics ftp data pub motif mail widget software mit information version sun\n",
            "Topic # 6\n",
            "god people jesus church believe christ does christian say think christians bible faith sin life\n",
            "Topic # 7\n",
            "use dos thanks windows using window does display help like problem server need know run\n"
          ]
        }
      ]
    },
    {
      "cell_type": "markdown",
      "source": [
        "- Topic # 0 : 주로 의학에 관한 주제어가 추출됨"
      ],
      "metadata": {
        "id": "IMUUBTn0R4cS"
      }
    },
    {
      "cell_type": "markdown",
      "source": [
        "## 8-8. 문서 유사도"
      ],
      "metadata": {
        "id": "r93XyFE9Tlvh"
      }
    },
    {
      "cell_type": "markdown",
      "source": [
        "### 문사 유사도 측정 방법 - 코사인 유사도"
      ],
      "metadata": {
        "id": "O-zWeNKPUSB4"
      }
    },
    {
      "cell_type": "markdown",
      "source": [
        "- 문서와 문서 간의 유사도 비교는 일반적으로 코사인 유사도(Cosine Similarity) 사용\n",
        "- 코사인 유사도 : 두 벡터 사이의 사잇각을 구해 얼마나 유사한지 수치로 적용"
      ],
      "metadata": {
        "id": "LAgCLpX6SAh3"
      }
    },
    {
      "cell_type": "markdown",
      "source": [
        "### 두 벡터 사잇각"
      ],
      "metadata": {
        "id": "51QhFHLEUbic"
      }
    },
    {
      "cell_type": "markdown",
      "source": [
        "![image.png](data:image/png;base64,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)"
      ],
      "metadata": {
        "id": "Y5Yl_kDuSR4J"
      }
    },
    {
      "cell_type": "markdown",
      "source": [
        "- 두 벡터 A와 B의 코사인 값\n",
        "\n",
        "![image.png](data:image/png;base64,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)"
      ],
      "metadata": {
        "id": "3ERiK-HPScFU"
      }
    },
    {
      "cell_type": "markdown",
      "source": [
        "- 유사도 $cos\\theta$\n",
        "\n",
        "![image.png](data:image/png;base64,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)"
      ],
      "metadata": {
        "id": "864aZSiFSVpM"
      }
    },
    {
      "cell_type": "markdown",
      "source": [
        "- 코사인 유사도를 사용하는 이유\n",
        "  - 문서를 피처 벡터화하면 차원이 매우 많은 희소 행렬이 되기 쉬움\n",
        "  - 이러한 희소 행렬 기반에서 크기에 기반한 유사도 지표는 정확도가 떨어짐"
      ],
      "metadata": {
        "id": "Y28YWPK6SziN"
      }
    },
    {
      "cell_type": "code",
      "source": [
        "import numpy as np\n",
        "\n",
        "def cos_similarity(v1, v2):\n",
        "  dot_product = np.dot(v1, v2)\n",
        "  l2_norm = (np.sqrt(sum(np.square(v1))) * np.sqrt(sum(np.square(v2))))\n",
        "  similarity = dot_product / l2_norm\n",
        "\n",
        "  return similarity"
      ],
      "metadata": {
        "id": "rfbvMSIqTJqz"
      },
      "execution_count": 1,
      "outputs": []
    },
    {
      "cell_type": "code",
      "source": [
        "from sklearn.feature_extraction.text import TfidfVectorizer\n",
        "\n",
        "doc_list = ['if you take the blue pill, the story ends',\n",
        "            'if you take the red pill, you stay in Wonderland',\n",
        "            'if you take the red pill, I show you how deep the rabbit hole goes']\n",
        "\n",
        "tfidf_vect_simple = TfidfVectorizer()\n",
        "feature_vect_simple = tfidf_vect_simple.fit_transform(doc_list)\n",
        "print(feature_vect_simple.shape)"
      ],
      "metadata": {
        "colab": {
          "base_uri": "https://localhost:8080/"
        },
        "id": "_ODriEdzU3_p",
        "outputId": "84056d00-a998-4f5f-b6a3-9066f8fbf4ad"
      },
      "execution_count": 3,
      "outputs": [
        {
          "output_type": "stream",
          "name": "stdout",
          "text": [
            "(3, 18)\n"
          ]
        }
      ]
    },
    {
      "cell_type": "code",
      "source": [
        "# TfidfVectorizer로 transform()한 결과는 희소 행렬이므로 밀집 행렬로 변환.\n",
        "feature_vect_dense = feature_vect_simple.todense()\n",
        "\n",
        "# 첫 번째 문장과 두 번째 문장의 피처 벡터 추출\n",
        "vect1 = np.array(feature_vect_dense[0]).reshape(-1, )\n",
        "vect2 = np.array(feature_vect_dense[1]).reshape(-1, )\n",
        "\n",
        "# 첫 번째 문장과 두 번째 문장의 피처 벡터로 두 개 문장의 코사인 유사도 추출\n",
        "similarity_simple = cos_similarity(vect1, vect2)\n",
        "print('문장 1, 문장 2 Cosine 유사도: {0:.3f}'.format(similarity_simple))"
      ],
      "metadata": {
        "colab": {
          "base_uri": "https://localhost:8080/"
        },
        "id": "nqRgN76m4L1w",
        "outputId": "818200a0-f342-4374-8c26-8c6195bb9a2e"
      },
      "execution_count": 7,
      "outputs": [
        {
          "output_type": "stream",
          "name": "stdout",
          "text": [
            "문장 1, 문장 2 Cosine 유사도: 0.402\n"
          ]
        }
      ]
    },
    {
      "cell_type": "code",
      "source": [
        "vect1 = np.array(feature_vect_dense[0]).reshape(-1, )\n",
        "vect3 = np.array(feature_vect_dense[2]).reshape(-1, )\n",
        "similarity_simple = cos_similarity(vect1, vect3)\n",
        "print('문장 1, 문장 3 Cosine 유사도: {0:.3f}'.format(similarity_simple))\n",
        "\n",
        "vect2 = np.array(feature_vect_dense[1]).reshape(-1, )\n",
        "vect3 = np.array(feature_vect_dense[2]).reshape(-1, )\n",
        "similarity_simple = cos_similarity(vect2, vect3)\n",
        "print('문장 2, 문장 3 Cosine 유사도: {0:.3f}'.format(similarity_simple))"
      ],
      "metadata": {
        "colab": {
          "base_uri": "https://localhost:8080/"
        },
        "id": "uU5zXx-K4zg0",
        "outputId": "508ef2a3-90bd-4d92-a1ec-c67a8ac32d01"
      },
      "execution_count": 11,
      "outputs": [
        {
          "output_type": "stream",
          "name": "stdout",
          "text": [
            "문장 1, 문장 3 Cosine 유사도: 0.404\n",
            "문장 2, 문장 3 Cosine 유사도: 0.456\n"
          ]
        }
      ]
    },
    {
      "cell_type": "markdown",
      "source": [
        "- cosine_similarity() : 비교 기준이 되는 문서의 피처 행렬, 비교되는 문서의 피처 행렬을 파라미터로 입력"
      ],
      "metadata": {
        "id": "qo9m8VL8TMGm"
      }
    },
    {
      "cell_type": "code",
      "source": [
        "from sklearn.metrics.pairwise import cosine_similarity\n",
        "\n",
        "similarity_simple_pair = cosine_similarity(feature_vect_simple[0], feature_vect_simple)\n",
        "print(similarity_simple_pair)"
      ],
      "metadata": {
        "colab": {
          "base_uri": "https://localhost:8080/"
        },
        "id": "YhSqPOs848w2",
        "outputId": "35d2135d-f451-44ce-b403-ffa0a05c82c2"
      },
      "execution_count": 9,
      "outputs": [
        {
          "output_type": "stream",
          "name": "stdout",
          "text": [
            "[[1.         0.40207758 0.40425045]]\n"
          ]
        }
      ]
    },
    {
      "cell_type": "code",
      "source": [
        "similarity_simple_pair = cosine_similarity(feature_vect_simple, feature_vect_simple)\n",
        "print(similarity_simple_pair)\n",
        "print('shape:', similarity_simple_pair.shape)"
      ],
      "metadata": {
        "colab": {
          "base_uri": "https://localhost:8080/"
        },
        "id": "VevOUA7B5Yce",
        "outputId": "6afeeb72-f572-4955-eb82-4424655d8c71"
      },
      "execution_count": 10,
      "outputs": [
        {
          "output_type": "stream",
          "name": "stdout",
          "text": [
            "[[1.         0.40207758 0.40425045]\n",
            " [0.40207758 1.         0.45647296]\n",
            " [0.40425045 0.45647296 1.        ]]\n",
            "shape: (3, 3)\n"
          ]
        }
      ]
    },
    {
      "cell_type": "markdown",
      "source": [
        "### Opinion Review 데이터 세트를 이용한 문서 유사도 측정"
      ],
      "metadata": {
        "id": "J8gt32ls5qC0"
      }
    },
    {
      "cell_type": "code",
      "source": [
        "from nltk.stem import WordNetLemmatizer\n",
        "import nltk\n",
        "import string\n",
        "nltk.download('wordnet')\n",
        "\n",
        "# 단어 원형 추출 함수\n",
        "lemmar = WordNetLemmatizer()\n",
        "def LemTokens(tokens):\n",
        "    return [lemmar.lemmatize(token) for token in tokens]\n",
        "\n",
        "# 특수 문자 사전 생성: {33: None ...}\n",
        "# ord(): 아스키 코드 생성\n",
        "remove_punct_dict = dict((ord(punct), None) for punct in string.punctuation)\n",
        "\n",
        "# 특수 문자 제거 및 단어 원형 추출\n",
        "def LemNormalize(text):\n",
        "    # 텍스트 소문자 변경 후 특수 문자 제거\n",
        "    text_new = text.lower().translate(remove_punct_dict)\n",
        "\n",
        "    # 단어 토큰화\n",
        "    word_tokens = nltk.word_tokenize(text_new)\n",
        "\n",
        "    # 단어 원형 추출\n",
        "    return LemTokens(word_tokens)"
      ],
      "metadata": {
        "colab": {
          "base_uri": "https://localhost:8080/"
        },
        "id": "I8vEsbwuPde4",
        "outputId": "b188793c-a5f3-4281-8be3-424e1044002b"
      },
      "execution_count": 21,
      "outputs": [
        {
          "output_type": "stream",
          "name": "stderr",
          "text": [
            "[nltk_data] Downloading package wordnet to /root/nltk_data...\n",
            "[nltk_data]   Package wordnet is already up-to-date!\n"
          ]
        }
      ]
    },
    {
      "cell_type": "code",
      "source": [
        "import pandas as pd\n",
        "import glob, os\n",
        "from sklearn.feature_extraction.text import TfidfVectorizer\n",
        "from sklearn.cluster import KMeans\n",
        "\n",
        "path = r'/content/drive/MyDrive/Colab Notebooks/data/topics'\n",
        "all_files = glob.glob(os.path.join(path, \"*.data\"))\n",
        "filename_list = [ ]\n",
        "opinion_text = []\n",
        "\n",
        "for file_ in all_files:\n",
        "  df = pd.read_table(file_, index_col=None, header=0, encoding='latin1')\n",
        "  filename_ = file_.split('\\\\')[-1 ]\n",
        "  filename = filename_.split('.')[0]\n",
        "  filename_list.append(filename)\n",
        "  opinion_text.append(df.to_string())\n",
        "\n",
        "document_df = pd.DataFrame({'filename':filename_list, 'opinion_text':opinion_text})\n",
        "\n",
        "tfidf_vect = TfidfVectorizer(tokenizer=LemNormalize, stop_words='english',\n",
        "                             ngram_range=(1,2), min_df=0.05, max_df=0.85)\n",
        "feature_vect = tfidf_vect.fit_transform(document_df['opinion_text'])\n",
        "\n",
        "km_cluster = KMeans(n_clusters=3, max_iter=10000, random_state=0)\n",
        "km_cluster.fit(feature_vect)\n",
        "cluster_label = km_cluster.labels_\n",
        "cluster_centers = km_cluster.cluster_centers_\n",
        "document_df['cluster_label'] = cluster_label"
      ],
      "metadata": {
        "colab": {
          "base_uri": "https://localhost:8080/"
        },
        "id": "3Z-JQrEY6uq4",
        "outputId": "b6fdc4ab-12bc-47b4-a7aa-e38bdc030cd9"
      },
      "execution_count": 22,
      "outputs": [
        {
          "output_type": "stream",
          "name": "stderr",
          "text": [
            "/usr/local/lib/python3.10/dist-packages/sklearn/feature_extraction/text.py:521: UserWarning: The parameter 'token_pattern' will not be used since 'tokenizer' is not None'\n",
            "  warnings.warn(\n",
            "/usr/local/lib/python3.10/dist-packages/sklearn/feature_extraction/text.py:406: UserWarning: Your stop_words may be inconsistent with your preprocessing. Tokenizing the stop words generated tokens ['ha', 'le', 'u', 'wa'] not in stop_words.\n",
            "  warnings.warn(\n"
          ]
        }
      ]
    },
    {
      "cell_type": "code",
      "source": [
        "from sklearn.metrics.pairwise import cosine_similarity\n",
        "\n",
        "#clusterjab인=2인 데이터는 호텔로 군집화된 데이터임. DataFrame에서 해당 인덱스를 추출\n",
        "hotel_indexes = document_df[document_df['cluster_label']==2] .index\n",
        "print('호텔로 클러스터링 된 문서들의 DataFrame Index： ', hotel_indexes)\n",
        "\n",
        "#호텔로 군집화된 데이터 중 첫 번째 문서를 추출해 파일명 표시.\n",
        "comparison_docname = document_df.iloc[hotel_indexes[0]]['filename']\n",
        "print('##### 비교 기준 문서명', comparison_docname, ' 와 타 문서 유사도######')\n",
        "\n",
        "''' document_df에서 추출한 Index 객체를 feature_vect로 입력해 호텔 군집화된 feature_vect 추출\n",
        "이를 이용해 호텔로 군집화된 문서 중 첫 번째 문서와 다른 문서 간의 코사인 유사도 측정'''\n",
        "\n",
        "similarity_pair = cosine_similarity(feature_vect[hotel_indexes[0]], feature_vect[hotel_indexes])\n",
        "print(similarity_pair)"
      ],
      "metadata": {
        "colab": {
          "base_uri": "https://localhost:8080/"
        },
        "id": "C1h0CmDr5t7i",
        "outputId": "dbefb7fb-301c-4a29-96a3-d2d8355b56f4"
      },
      "execution_count": 28,
      "outputs": [
        {
          "output_type": "stream",
          "name": "stdout",
          "text": [
            "호텔로 클러스터링 된 문서들의 DataFrame Index：  Index([20, 21, 41], dtype='int64')\n",
            "##### 비교 기준 문서명 /content/drive/MyDrive/Colab Notebooks/data/topics/mileage_honda_accord_2008  와 타 문서 유사도######\n",
            "[[1.         0.96608144 0.06738807]]\n"
          ]
        }
      ]
    },
    {
      "cell_type": "code",
      "source": [
        "import seaborn as sns\n",
        "import numpy as np\n",
        "import matplotlib.pyplot as pit\n",
        "%matplotlib inline\n",
        "\n",
        "#첫번째 문서와 타 문서간 유사도가 큰 순으로 정렬한 인덱스 추출하되 자기 자신은 제외.\n",
        "sorted_index = similarity_pair.argsort()[:,::-1]\n",
        "sorted_index = sorted_index[:, 1 :]\n",
        "\n",
        "# 유사도가 큰 순으로 hotel_indexes를 추출하여 재정렬.\n",
        "hotel_sorted_indexes = hotel_indexes[sorted_index.reshape(-1)]\n",
        "\n",
        "# 유사도가 큰 순으로 유사도 값을 재정렬하되 자기 자신은 제외\n",
        "hotel_1_sim_value = np.sort(similarity_pair.reshape(-1))[::-1 ]\n",
        "hotel_1_sim_value = hotel_1_sim_value[1:]\n",
        "\n",
        "# 유사도가 큰 순으로 정렬된 인덱스와 유사도 값을 이용해 파일명과 유사도값을 막대 그래프로 시각화\n",
        "hotel_1_sim_df = pd.DataFrame()\n",
        "hotel_1_sim_df['filename'] = document_df.iloc[hotel_sorted_indexes]['filename']\n",
        "hotel_1_sim_df['similarity'] = hotel_1_sim_value\n",
        "print('가장 유사도가 큰 파일명 및 유사도:\\n', hotel_1_sim_df.iloc[0, :])\n",
        "\n",
        "sns.barplot(x='similarity', y='filename', data=hotel_1_sim_df)\n",
        "pit.title(comparison_docname)"
      ],
      "metadata": {
        "colab": {
          "base_uri": "https://localhost:8080/",
          "height": 415
        },
        "id": "sIGjNDGpBRD2",
        "outputId": "fe85e5b0-72c6-49c8-c58b-0ea0692371bb"
      },
      "execution_count": 27,
      "outputs": [
        {
          "output_type": "stream",
          "name": "stdout",
          "text": [
            "가장 유사도가 큰 파일명 및 유사도:\n",
            " filename      /content/drive/MyDrive/Colab Notebooks/data/to...\n",
            "similarity                                             0.966081\n",
            "Name: 21, dtype: object\n"
          ]
        },
        {
          "output_type": "execute_result",
          "data": {
            "text/plain": [
              "Text(0.5, 1.0, '/content/drive/MyDrive/Colab Notebooks/data/topics/mileage_honda_accord_2008')"
            ]
          },
          "metadata": {},
          "execution_count": 27
        },
        {
          "output_type": "display_data",
          "data": {
            "text/plain": [
              "<Figure size 640x480 with 1 Axes>"
            ],
            "image/png": "[encoded data removed]"
          },
          "metadata": {}
        }
      ]
    },
    {
      "cell_type": "markdown",
      "source": [
        "## 8-9. 한글 텍스트 처리 - 네이버 영화 평정 감성 분석"
      ],
      "metadata": {
        "id": "8lwjZqkUCjM2"
      }
    },
    {
      "cell_type": "markdown",
      "source": [
        "### 한글 NLP 처리의 어려움"
      ],
      "metadata": {
        "id": "gR8Gbg6pCo4u"
      }
    },
    {
      "cell_type": "markdown",
      "source": [
        "- 한글은 '띄어쓰기'와 '조사'로 인해 영어 등의 라틴어보다 처리가 어려움"
      ],
      "metadata": {
        "id": "5Ng6bkhzTdZB"
      }
    },
    {
      "cell_type": "markdown",
      "source": [
        "### KoNLPy 소개"
      ],
      "metadata": {
        "id": "nYz-jWiUCrg3"
      }
    },
    {
      "cell_type": "markdown",
      "source": [
        "- KoNLPy : 파이썬의 대표적인 한글 형태소 패키지"
      ],
      "metadata": {
        "id": "FgMxMRQUTolx"
      }
    },
    {
      "cell_type": "code",
      "source": [
        "!pip install konlpy"
      ],
      "metadata": {
        "colab": {
          "base_uri": "https://localhost:8080/"
        },
        "id": "1-pVSTFPDyGD",
        "outputId": "fa24025f-d96d-49cd-d626-82738fe6c245"
      },
      "execution_count": 48,
      "outputs": [
        {
          "output_type": "stream",
          "name": "stdout",
          "text": [
            "Collecting konlpy\n",
            "  Downloading konlpy-0.6.0-py2.py3-none-any.whl.metadata (1.9 kB)\n",
            "Collecting JPype1>=0.7.0 (from konlpy)\n",
            "  Downloading JPype1-1.5.0-cp310-cp310-manylinux_2_17_x86_64.manylinux2014_x86_64.whl.metadata (4.9 kB)\n",
            "Requirement already satisfied: lxml>=4.1.0 in /usr/local/lib/python3.10/dist-packages (from konlpy) (4.9.4)\n",
            "Requirement already satisfied: numpy>=1.6 in /usr/local/lib/python3.10/dist-packages (from konlpy) (1.26.4)\n",
            "Requirement already satisfied: packaging in /usr/local/lib/python3.10/dist-packages (from JPype1>=0.7.0->konlpy) (24.1)\n",
            "Downloading konlpy-0.6.0-py2.py3-none-any.whl (19.4 MB)\n",
            "\u001b[2K   \u001b[90m━━━━━━━━━━━━━━━━━━━━━━━━━━━━━━━━━━━━━━━━\u001b[0m \u001b[32m19.4/19.4 MB\u001b[0m \u001b[31m42.6 MB/s\u001b[0m eta \u001b[36m0:00:00\u001b[0m\n",
            "\u001b[?25hDownloading JPype1-1.5.0-cp310-cp310-manylinux_2_17_x86_64.manylinux2014_x86_64.whl (488 kB)\n",
            "\u001b[2K   \u001b[90m━━━━━━━━━━━━━━━━━━━━━━━━━━━━━━━━━━━━━━━━\u001b[0m \u001b[32m488.6/488.6 kB\u001b[0m \u001b[31m22.3 MB/s\u001b[0m eta \u001b[36m0:00:00\u001b[0m\n",
            "\u001b[?25hInstalling collected packages: JPype1, konlpy\n",
            "Successfully installed JPype1-1.5.0 konlpy-0.6.0\n"
          ]
        }
      ]
    },
    {
      "cell_type": "markdown",
      "source": [
        "### 데이터 로딩"
      ],
      "metadata": {
        "id": "grw838tHCxpK"
      }
    },
    {
      "cell_type": "code",
      "source": [
        "import pandas as pd\n",
        "\n",
        "train_df = pd.read_csv('ratings_train.txt', sep='\\t', encoding='utf-8')\n",
        "train_df.head(3)"
      ],
      "metadata": {
        "colab": {
          "base_uri": "https://localhost:8080/",
          "height": 143
        },
        "id": "gmUI-FQaCjA8",
        "outputId": "e4fc0f78-6700-4238-e937-9222f4cec372"
      },
      "execution_count": 43,
      "outputs": [
        {
          "output_type": "execute_result",
          "data": {
            "text/plain": [
              "         id                           document  label\n",
              "0   9976970                아 더빙.. 진짜 짜증나네요 목소리      0\n",
              "1   3819312  흠...포스터보고 초딩영화줄....오버연기조차 가볍지 않구나      1\n",
              "2  10265843                  너무재밓었다그래서보는것을추천한다      0"
            ],
            "text/html": [
              "\n",
              "  <div id=\"df-971986de-deca-4a0a-9db5-51d4ddaa1c29\" class=\"colab-df-container\">\n",
              "    <div>\n",
              "<style scoped>\n",
              "    .dataframe tbody tr th:only-of-type {\n",
              "        vertical-align: middle;\n",
              "    }\n",
              "\n",
              "    .dataframe tbody tr th {\n",
              "        vertical-align: top;\n",
              "    }\n",
              "\n",
              "    .dataframe thead th {\n",
              "        text-align: right;\n",
              "    }\n",
              "</style>\n",
              "<table border=\"1\" class=\"dataframe\">\n",
              "  <thead>\n",
              "    <tr style=\"text-align: right;\">\n",
              "      <th></th>\n",
              "      <th>id</th>\n",
              "      <th>document</th>\n",
              "      <th>label</th>\n",
              "    </tr>\n",
              "  </thead>\n",
              "  <tbody>\n",
              "    <tr>\n",
              "      <th>0</th>\n",
              "      <td>9976970</td>\n",
              "      <td>아 더빙.. 진짜 짜증나네요 목소리</td>\n",
              "      <td>0</td>\n",
              "    </tr>\n",
              "    <tr>\n",
              "      <th>1</th>\n",
              "      <td>3819312</td>\n",
              "      <td>흠...포스터보고 초딩영화줄....오버연기조차 가볍지 않구나</td>\n",
              "      <td>1</td>\n",
              "    </tr>\n",
              "    <tr>\n",
              "      <th>2</th>\n",
              "      <td>10265843</td>\n",
              "      <td>너무재밓었다그래서보는것을추천한다</td>\n",
              "      <td>0</td>\n",
              "    </tr>\n",
              "  </tbody>\n",
              "</table>\n",
              "</div>\n",
              "    <div class=\"colab-df-buttons\">\n",
              "\n",
              "  <div class=\"colab-df-container\">\n",
              "    <button class=\"colab-df-convert\" onclick=\"convertToInteractive('df-971986de-deca-4a0a-9db5-51d4ddaa1c29')\"\n",
              "            title=\"Convert this dataframe to an interactive table.\"\n",
              "            style=\"display:none;\">\n",
              "\n",
              "  <svg xmlns=\"http://www.w3.org/2000/svg\" height=\"24px\" viewBox=\"0 -960 960 960\">\n",
              "    <path d=\"M120-120v-720h720v720H120Zm60-500h600v-160H180v160Zm220 220h160v-160H400v160Zm0 220h160v-160H400v160ZM180-400h160v-160H180v160Zm440 0h160v-160H620v160ZM180-180h160v-160H180v160Zm440 0h160v-160H620v160Z\"/>\n",
              "  </svg>\n",
              "    </button>\n",
              "\n",
              "  <style>\n",
              "    .colab-df-container {\n",
              "      display:flex;\n",
              "      gap: 12px;\n",
              "    }\n",
              "\n",
              "    .colab-df-convert {\n",
              "      background-color: #E8F0FE;\n",
              "      border: none;\n",
              "      border-radius: 50%;\n",
              "      cursor: pointer;\n",
              "      display: none;\n",
              "      fill: #1967D2;\n",
              "      height: 32px;\n",
              "      padding: 0 0 0 0;\n",
              "      width: 32px;\n",
              "    }\n",
              "\n",
              "    .colab-df-convert:hover {\n",
              "      background-color: #E2EBFA;\n",
              "      box-shadow: 0px 1px 2px rgba(60, 64, 67, 0.3), 0px 1px 3px 1px rgba(60, 64, 67, 0.15);\n",
              "      fill: #174EA6;\n",
              "    }\n",
              "\n",
              "    .colab-df-buttons div {\n",
              "      margin-bottom: 4px;\n",
              "    }\n",
              "\n",
              "    [theme=dark] .colab-df-convert {\n",
              "      background-color: #3B4455;\n",
              "      fill: #D2E3FC;\n",
              "    }\n",
              "\n",
              "    [theme=dark] .colab-df-convert:hover {\n",
              "      background-color: #434B5C;\n",
              "      box-shadow: 0px 1px 3px 1px rgba(0, 0, 0, 0.15);\n",
              "      filter: drop-shadow(0px 1px 2px rgba(0, 0, 0, 0.3));\n",
              "      fill: #FFFFFF;\n",
              "    }\n",
              "  </style>\n",
              "\n",
              "    <script>\n",
              "      const buttonEl =\n",
              "        document.querySelector('#df-971986de-deca-4a0a-9db5-51d4ddaa1c29 button.colab-df-convert');\n",
              "      buttonEl.style.display =\n",
              "        google.colab.kernel.accessAllowed ? 'block' : 'none';\n",
              "\n",
              "      async function convertToInteractive(key) {\n",
              "        const element = document.querySelector('#df-971986de-deca-4a0a-9db5-51d4ddaa1c29');\n",
              "        const dataTable =\n",
              "          await google.colab.kernel.invokeFunction('convertToInteractive',\n",
              "                                                    [key], {});\n",
              "        if (!dataTable) return;\n",
              "\n",
              "        const docLinkHtml = 'Like what you see? Visit the ' +\n",
              "          '<a target=\"_blank\" href=https://colab.research.google.com/notebooks/data_table.ipynb>data table notebook</a>'\n",
              "          + ' to learn more about interactive tables.';\n",
              "        element.innerHTML = '';\n",
              "        dataTable['output_type'] = 'display_data';\n",
              "        await google.colab.output.renderOutput(dataTable, element);\n",
              "        const docLink = document.createElement('div');\n",
              "        docLink.innerHTML = docLinkHtml;\n",
              "        element.appendChild(docLink);\n",
              "      }\n",
              "    </script>\n",
              "  </div>\n",
              "\n",
              "\n",
              "<div id=\"df-e4f8dc5a-13fc-4776-bf51-d0b13a737a65\">\n",
              "  <button class=\"colab-df-quickchart\" onclick=\"quickchart('df-e4f8dc5a-13fc-4776-bf51-d0b13a737a65')\"\n",
              "            title=\"Suggest charts\"\n",
              "            style=\"display:none;\">\n",
              "\n",
              "<svg xmlns=\"http://www.w3.org/2000/svg\" height=\"24px\"viewBox=\"0 0 24 24\"\n",
              "     width=\"24px\">\n",
              "    <g>\n",
              "        <path d=\"M19 3H5c-1.1 0-2 .9-2 2v14c0 1.1.9 2 2 2h14c1.1 0 2-.9 2-2V5c0-1.1-.9-2-2-2zM9 17H7v-7h2v7zm4 0h-2V7h2v10zm4 0h-2v-4h2v4z\"/>\n",
              "    </g>\n",
              "</svg>\n",
              "  </button>\n",
              "\n",
              "<style>\n",
              "  .colab-df-quickchart {\n",
              "      --bg-color: #E8F0FE;\n",
              "      --fill-color: #1967D2;\n",
              "      --hover-bg-color: #E2EBFA;\n",
              "      --hover-fill-color: #174EA6;\n",
              "      --disabled-fill-color: #AAA;\n",
              "      --disabled-bg-color: #DDD;\n",
              "  }\n",
              "\n",
              "  [theme=dark] .colab-df-quickchart {\n",
              "      --bg-color: #3B4455;\n",
              "      --fill-color: #D2E3FC;\n",
              "      --hover-bg-color: #434B5C;\n",
              "      --hover-fill-color: #FFFFFF;\n",
              "      --disabled-bg-color: #3B4455;\n",
              "      --disabled-fill-color: #666;\n",
              "  }\n",
              "\n",
              "  .colab-df-quickchart {\n",
              "    background-color: var(--bg-color);\n",
              "    border: none;\n",
              "    border-radius: 50%;\n",
              "    cursor: pointer;\n",
              "    display: none;\n",
              "    fill: var(--fill-color);\n",
              "    height: 32px;\n",
              "    padding: 0;\n",
              "    width: 32px;\n",
              "  }\n",
              "\n",
              "  .colab-df-quickchart:hover {\n",
              "    background-color: var(--hover-bg-color);\n",
              "    box-shadow: 0 1px 2px rgba(60, 64, 67, 0.3), 0 1px 3px 1px rgba(60, 64, 67, 0.15);\n",
              "    fill: var(--button-hover-fill-color);\n",
              "  }\n",
              "\n",
              "  .colab-df-quickchart-complete:disabled,\n",
              "  .colab-df-quickchart-complete:disabled:hover {\n",
              "    background-color: var(--disabled-bg-color);\n",
              "    fill: var(--disabled-fill-color);\n",
              "    box-shadow: none;\n",
              "  }\n",
              "\n",
              "  .colab-df-spinner {\n",
              "    border: 2px solid var(--fill-color);\n",
              "    border-color: transparent;\n",
              "    border-bottom-color: var(--fill-color);\n",
              "    animation:\n",
              "      spin 1s steps(1) infinite;\n",
              "  }\n",
              "\n",
              "  @keyframes spin {\n",
              "    0% {\n",
              "      border-color: transparent;\n",
              "      border-bottom-color: var(--fill-color);\n",
              "      border-left-color: var(--fill-color);\n",
              "    }\n",
              "    20% {\n",
              "      border-color: transparent;\n",
              "      border-left-color: var(--fill-color);\n",
              "      border-top-color: var(--fill-color);\n",
              "    }\n",
              "    30% {\n",
              "      border-color: transparent;\n",
              "      border-left-color: var(--fill-color);\n",
              "      border-top-color: var(--fill-color);\n",
              "      border-right-color: var(--fill-color);\n",
              "    }\n",
              "    40% {\n",
              "      border-color: transparent;\n",
              "      border-right-color: var(--fill-color);\n",
              "      border-top-color: var(--fill-color);\n",
              "    }\n",
              "    60% {\n",
              "      border-color: transparent;\n",
              "      border-right-color: var(--fill-color);\n",
              "    }\n",
              "    80% {\n",
              "      border-color: transparent;\n",
              "      border-right-color: var(--fill-color);\n",
              "      border-bottom-color: var(--fill-color);\n",
              "    }\n",
              "    90% {\n",
              "      border-color: transparent;\n",
              "      border-bottom-color: var(--fill-color);\n",
              "    }\n",
              "  }\n",
              "</style>\n",
              "\n",
              "  <script>\n",
              "    async function quickchart(key) {\n",
              "      const quickchartButtonEl =\n",
              "        document.querySelector('#' + key + ' button');\n",
              "      quickchartButtonEl.disabled = true;  // To prevent multiple clicks.\n",
              "      quickchartButtonEl.classList.add('colab-df-spinner');\n",
              "      try {\n",
              "        const charts = await google.colab.kernel.invokeFunction(\n",
              "            'suggestCharts', [key], {});\n",
              "      } catch (error) {\n",
              "        console.error('Error during call to suggestCharts:', error);\n",
              "      }\n",
              "      quickchartButtonEl.classList.remove('colab-df-spinner');\n",
              "      quickchartButtonEl.classList.add('colab-df-quickchart-complete');\n",
              "    }\n",
              "    (() => {\n",
              "      let quickchartButtonEl =\n",
              "        document.querySelector('#df-e4f8dc5a-13fc-4776-bf51-d0b13a737a65 button');\n",
              "      quickchartButtonEl.style.display =\n",
              "        google.colab.kernel.accessAllowed ? 'block' : 'none';\n",
              "    })();\n",
              "  </script>\n",
              "</div>\n",
              "\n",
              "    </div>\n",
              "  </div>\n"
            ],
            "application/vnd.google.colaboratory.intrinsic+json": {
              "type": "dataframe",
              "variable_name": "train_df"
            }
          },
          "metadata": {},
          "execution_count": 43
        }
      ]
    },
    {
      "cell_type": "markdown",
      "source": [
        "- 1: 긍정 감성\n",
        "- 2: 부정 감성"
      ],
      "metadata": {
        "id": "vl8-PV03T0Gc"
      }
    },
    {
      "cell_type": "code",
      "source": [
        "train_df['label'].value_counts()"
      ],
      "metadata": {
        "colab": {
          "base_uri": "https://localhost:8080/",
          "height": 178
        },
        "id": "Ao8c0a1qDX5H",
        "outputId": "4ea3d8ee-ac9c-4890-abc9-1e26f9478b2a"
      },
      "execution_count": 44,
      "outputs": [
        {
          "output_type": "execute_result",
          "data": {
            "text/plain": [
              "label\n",
              "0    75173\n",
              "1    74827\n",
              "Name: count, dtype: int64"
            ],
            "text/html": [
              "<div>\n",
              "<style scoped>\n",
              "    .dataframe tbody tr th:only-of-type {\n",
              "        vertical-align: middle;\n",
              "    }\n",
              "\n",
              "    .dataframe tbody tr th {\n",
              "        vertical-align: top;\n",
              "    }\n",
              "\n",
              "    .dataframe thead th {\n",
              "        text-align: right;\n",
              "    }\n",
              "</style>\n",
              "<table border=\"1\" class=\"dataframe\">\n",
              "  <thead>\n",
              "    <tr style=\"text-align: right;\">\n",
              "      <th></th>\n",
              "      <th>count</th>\n",
              "    </tr>\n",
              "    <tr>\n",
              "      <th>label</th>\n",
              "      <th></th>\n",
              "    </tr>\n",
              "  </thead>\n",
              "  <tbody>\n",
              "    <tr>\n",
              "      <th>0</th>\n",
              "      <td>75173</td>\n",
              "    </tr>\n",
              "    <tr>\n",
              "      <th>1</th>\n",
              "      <td>74827</td>\n",
              "    </tr>\n",
              "  </tbody>\n",
              "</table>\n",
              "</div><br><label><b>dtype:</b> int64</label>"
            ]
          },
          "metadata": {},
          "execution_count": 44
        }
      ]
    },
    {
      "cell_type": "markdown",
      "source": [
        "- 0, 1의 비율이 한쪽으로 치우치지 않고 균등한 분포임\n",
        "- Null 값은 공백으로 변환\n",
        "- 숫자의 경우 정규 표현식 모듈 re를 사용해 공백으로 변환"
      ],
      "metadata": {
        "id": "gjM-5NEPT3hd"
      }
    },
    {
      "cell_type": "code",
      "source": [
        "import re\n",
        "\n",
        "train_df = train_df.fillna(' ')\n",
        "# 정규 표현식을 이용해 숫자를 공백으로 변경(정규 표현식으로 \\d는 숫자를 의미함.)\n",
        "train_df['document'] = train_df['document'].apply( lambda x : re.sub(r\"\\d+\", \" \", x) )\n",
        "\n",
        "# 테스트 데이터 세트를 로딩하고 동일하게 Null 및 숫자를 공백으로 변환\n",
        "test_df = pd.read_csv('ratings_test.txt', sep='\\t', encoding='utf-8')\n",
        "test_df = test_df.fillna(' ')\n",
        "test_df['document'] = test_df['document'].apply( lambda x : re.sub(r\"\\d+\", \" \", x) )"
      ],
      "metadata": {
        "id": "D1j1PvBPDzq1"
      },
      "execution_count": 45,
      "outputs": []
    },
    {
      "cell_type": "code",
      "source": [
        "# id 칼럼 삭제 수행\n",
        "train_df.drop('id', axis=1, inplace=True)\n",
        "test_df.drop('id', axis=1, inplace=True)"
      ],
      "metadata": {
        "id": "vSL6-MxEEa7J"
      },
      "execution_count": 46,
      "outputs": []
    },
    {
      "cell_type": "code",
      "source": [
        "from konlpy.tag import Twitter\n",
        "\n",
        "twitter = Twitter()\n",
        "def tw_tokenizer(text):\n",
        "  # 입력 인자로 들어온 텍스트를 형태소 단어로 토큰화해 리스트 형태로 반환\n",
        "  tokens_ko = twitter.morphs(text)\n",
        "  return tokens_ko"
      ],
      "metadata": {
        "id": "58IJMGQbEhr3"
      },
      "execution_count": 49,
      "outputs": []
    },
    {
      "cell_type": "code",
      "source": [
        "from sklearn.feature_extraction.text import TfidfVectorizer\n",
        "from sklearn.linear_model import LogisticRegression\n",
        "from sklearn.model_selection import GridSearchCV\n",
        "\n",
        "# Twitter 객체의 morphs() 객체를 이용한 tokenizer 사용. ngram_range는 (1,2)\n",
        "tfidf_vect = TfidfVectorizer(tokenizer=tw_tokenizer, ngram_range=(1,2), min_df=3, max_df=0.9)\n",
        "tfidf_vect.fit(train_df['document'])\n",
        "tfidf_matrix_train = tfidf_vect.transform(train_df['document'])"
      ],
      "metadata": {
        "id": "rdWN-3bsE2DX"
      },
      "execution_count": 51,
      "outputs": []
    },
    {
      "cell_type": "code",
      "source": [
        "# 로지스틱 회귀를 이용해 감성 분석 분류 수행.\n",
        "lg_clf = LogisticRegression(random_state=0, solver='liblinear')\n",
        "\n",
        "# 파라미터 C 최적화를 위해 GridSearchCV를 이용.\n",
        "params = { 'C' : [1, 3.5, 4.5, 5.5, 10]}\n",
        "grid_cv = GridSearchCV(lg_clf, param_grid=params, cv=3, scoring='accuracy', verbose=1)\n",
        "grid_cv.fit(tfidf_matrix_train, train_df['label'])\n",
        "print(grid_cv.best_params_, round(grid_cv.best_score_, 4))"
      ],
      "metadata": {
        "colab": {
          "base_uri": "https://localhost:8080/"
        },
        "id": "hZY124t-FYwj",
        "outputId": "ff0e19bd-406e-4516-9b43-c316b2e43476"
      },
      "execution_count": 58,
      "outputs": [
        {
          "output_type": "stream",
          "name": "stdout",
          "text": [
            "Fitting 3 folds for each of 5 candidates, totalling 15 fits\n",
            "{'C': 3.5} 0.8593\n"
          ]
        }
      ]
    },
    {
      "cell_type": "code",
      "source": [
        "from sklearn.metrics import accuracy_score\n",
        "\n",
        "# 학습 데이터를 적용한 TfidfVectorizer를 이용해 테스트 데이터를 TF-IDF 값으로 피처 변환함.\n",
        "tfidf_matrix_test = tfidf_vect.transform(test_df['document'])\n",
        "\n",
        "# Classifier는 GridSearchCV에서 최적 파라미터로 학습된 classifier를 그대로 이용\n",
        "best_estimator = grid_cv.best_estimator_\n",
        "preds = best_estimator.predict(tfidf_matrix_test)\n",
        "\n",
        "print('Logistic Regression 정확도: ', accuracy_score(test_df['label'], preds))"
      ],
      "metadata": {
        "colab": {
          "base_uri": "https://localhost:8080/"
        },
        "id": "RWFsk94xF356",
        "outputId": "2e06f796-76a3-4ee1-d5c1-776d72de9e77"
      },
      "execution_count": 59,
      "outputs": [
        {
          "output_type": "stream",
          "name": "stdout",
          "text": [
            "Logistic Regression 정확도:  0.86172\n"
          ]
        }
      ]
    }
  ]
}