{
  "nbformat": 4,
  "nbformat_minor": 0,
  "metadata": {
    "colab": {
      "provenance": [],
      "gpuType": "V28",
      "mount_file_id": "1Aq-UoqT2jvGbMkh8s46ocutihCAS32xv",
      "authorship_tag": "ABX9TyN362q/AqVBb0W092vec8Fm",
      "include_colab_link": true
    },
    "kernelspec": {
      "name": "python3",
      "display_name": "Python 3"
    },
    "language_info": {
      "name": "python"
    },
    "accelerator": "TPU"
  },
  "cells": [
    {
      "cell_type": "markdown",
      "metadata": {
        "id": "view-in-github",
        "colab_type": "text"
      },
      "source": [
        "<a href=\"https://colab.research.google.com/github/jiinpark21/ESAA_24-2/blob/main/6%EC%A3%BC%EC%B0%A8_%EA%B3%BC%EC%A0%9C_1007_%ED%85%8D%EC%8A%A4%ED%8A%B8%EB%B6%84%EC%84%9D_5.ipynb\" target=\"_parent\"><img src=\"https://colab.research.google.com/assets/colab-badge.svg\" alt=\"Open In Colab\"/></a>"
      ]
    },
    {
      "cell_type": "markdown",
      "metadata": {
        "id": "bFL9SiDAPIOW"
      },
      "source": [
        "파이썬 머신러닝 완벽 가이드 개정2판 ch8.10-11\n",
        "\n",
        "p.566-583"
      ]
    },
    {
      "cell_type": "markdown",
      "metadata": {
        "id": "E32WsH8GPgSm"
      },
      "source": [
        "#[Chapter 8] 텍스트분석"
      ]
    },
    {
      "cell_type": "markdown",
      "metadata": {
        "id": "EJ4yalpWPrrA"
      },
      "source": [
        "## 8.10 텍스트 분석 실습 - 캐글 Mercari Price Suggestion Challenge"
      ]
    },
    {
      "cell_type": "markdown",
      "source": [
        "- train_id : 데이터 id\n",
        "- name : 제품명\n",
        "- item_condition_id : 판매자가 제공하는 제품 상태\n",
        "- category_name : 카테고리 명\n",
        "- brand_name : 브랜드 이름\n",
        "- price : 제품 가격 -> 타깃값\n",
        "- shipping : 배송비 무료 여부, 1은 무료, 0은 유료\n",
        "- item_description : 제품에 대한 설명"
      ],
      "metadata": {
        "id": "1e8J33MLGk-7"
      }
    },
    {
      "cell_type": "markdown",
      "source": [
        "- item_description과 같은 텍스트 형태의 비정형 데이터와 다른 정형 속성을 같이 적용해 회귀 수행"
      ],
      "metadata": {
        "id": "otfzXGN5HAS5"
      }
    },
    {
      "cell_type": "markdown",
      "metadata": {
        "id": "sHmNfoF9Si3x"
      },
      "source": [
        "### 데이터 전처리"
      ]
    },
    {
      "cell_type": "code",
      "execution_count": 1,
      "metadata": {
        "colab": {
          "base_uri": "https://localhost:8080/",
          "height": 321
        },
        "id": "Q3AOx9CcPCLt",
        "outputId": "916c0876-d2b4-4c78-b9b7-a7c7525940f1"
      },
      "outputs": [
        {
          "output_type": "stream",
          "name": "stdout",
          "text": [
            "(1482535, 8)\n"
          ]
        },
        {
          "output_type": "execute_result",
          "data": {
            "text/plain": [
              "   train_id                                 name  item_condition_id  \\\n",
              "0         0  MLB Cincinnati Reds T Shirt Size XL                  3   \n",
              "1         1     Razer BlackWidow Chroma Keyboard                  3   \n",
              "2         2                       AVA-VIV Blouse                  1   \n",
              "\n",
              "                                       category_name brand_name  price  \\\n",
              "0                                  Men/Tops/T-shirts        NaN   10.0   \n",
              "1  Electronics/Computers & Tablets/Components & P...      Razer   52.0   \n",
              "2                        Women/Tops & Blouses/Blouse     Target   10.0   \n",
              "\n",
              "   shipping                                   item_description  \n",
              "0         1                                 No description yet  \n",
              "1         0  This keyboard is in great condition and works ...  \n",
              "2         1  Adorable top with a hint of lace and a key hol...  "
            ],
            "text/html": [
              "\n",
              "  <div id=\"df-a6b4891b-94a0-4e7d-ae90-4bb6a1d28644\" class=\"colab-df-container\">\n",
              "    <div>\n",
              "<style scoped>\n",
              "    .dataframe tbody tr th:only-of-type {\n",
              "        vertical-align: middle;\n",
              "    }\n",
              "\n",
              "    .dataframe tbody tr th {\n",
              "        vertical-align: top;\n",
              "    }\n",
              "\n",
              "    .dataframe thead th {\n",
              "        text-align: right;\n",
              "    }\n",
              "</style>\n",
              "<table border=\"1\" class=\"dataframe\">\n",
              "  <thead>\n",
              "    <tr style=\"text-align: right;\">\n",
              "      <th></th>\n",
              "      <th>train_id</th>\n",
              "      <th>name</th>\n",
              "      <th>item_condition_id</th>\n",
              "      <th>category_name</th>\n",
              "      <th>brand_name</th>\n",
              "      <th>price</th>\n",
              "      <th>shipping</th>\n",
              "      <th>item_description</th>\n",
              "    </tr>\n",
              "  </thead>\n",
              "  <tbody>\n",
              "    <tr>\n",
              "      <th>0</th>\n",
              "      <td>0</td>\n",
              "      <td>MLB Cincinnati Reds T Shirt Size XL</td>\n",
              "      <td>3</td>\n",
              "      <td>Men/Tops/T-shirts</td>\n",
              "      <td>NaN</td>\n",
              "      <td>10.0</td>\n",
              "      <td>1</td>\n",
              "      <td>No description yet</td>\n",
              "    </tr>\n",
              "    <tr>\n",
              "      <th>1</th>\n",
              "      <td>1</td>\n",
              "      <td>Razer BlackWidow Chroma Keyboard</td>\n",
              "      <td>3</td>\n",
              "      <td>Electronics/Computers &amp; Tablets/Components &amp; P...</td>\n",
              "      <td>Razer</td>\n",
              "      <td>52.0</td>\n",
              "      <td>0</td>\n",
              "      <td>This keyboard is in great condition and works ...</td>\n",
              "    </tr>\n",
              "    <tr>\n",
              "      <th>2</th>\n",
              "      <td>2</td>\n",
              "      <td>AVA-VIV Blouse</td>\n",
              "      <td>1</td>\n",
              "      <td>Women/Tops &amp; Blouses/Blouse</td>\n",
              "      <td>Target</td>\n",
              "      <td>10.0</td>\n",
              "      <td>1</td>\n",
              "      <td>Adorable top with a hint of lace and a key hol...</td>\n",
              "    </tr>\n",
              "  </tbody>\n",
              "</table>\n",
              "</div>\n",
              "    <div class=\"colab-df-buttons\">\n",
              "\n",
              "  <div class=\"colab-df-container\">\n",
              "    <button class=\"colab-df-convert\" onclick=\"convertToInteractive('df-a6b4891b-94a0-4e7d-ae90-4bb6a1d28644')\"\n",
              "            title=\"Convert this dataframe to an interactive table.\"\n",
              "            style=\"display:none;\">\n",
              "\n",
              "  <svg xmlns=\"http://www.w3.org/2000/svg\" height=\"24px\" viewBox=\"0 -960 960 960\">\n",
              "    <path d=\"M120-120v-720h720v720H120Zm60-500h600v-160H180v160Zm220 220h160v-160H400v160Zm0 220h160v-160H400v160ZM180-400h160v-160H180v160Zm440 0h160v-160H620v160ZM180-180h160v-160H180v160Zm440 0h160v-160H620v160Z\"/>\n",
              "  </svg>\n",
              "    </button>\n",
              "\n",
              "  <style>\n",
              "    .colab-df-container {\n",
              "      display:flex;\n",
              "      gap: 12px;\n",
              "    }\n",
              "\n",
              "    .colab-df-convert {\n",
              "      background-color: #E8F0FE;\n",
              "      border: none;\n",
              "      border-radius: 50%;\n",
              "      cursor: pointer;\n",
              "      display: none;\n",
              "      fill: #1967D2;\n",
              "      height: 32px;\n",
              "      padding: 0 0 0 0;\n",
              "      width: 32px;\n",
              "    }\n",
              "\n",
              "    .colab-df-convert:hover {\n",
              "      background-color: #E2EBFA;\n",
              "      box-shadow: 0px 1px 2px rgba(60, 64, 67, 0.3), 0px 1px 3px 1px rgba(60, 64, 67, 0.15);\n",
              "      fill: #174EA6;\n",
              "    }\n",
              "\n",
              "    .colab-df-buttons div {\n",
              "      margin-bottom: 4px;\n",
              "    }\n",
              "\n",
              "    [theme=dark] .colab-df-convert {\n",
              "      background-color: #3B4455;\n",
              "      fill: #D2E3FC;\n",
              "    }\n",
              "\n",
              "    [theme=dark] .colab-df-convert:hover {\n",
              "      background-color: #434B5C;\n",
              "      box-shadow: 0px 1px 3px 1px rgba(0, 0, 0, 0.15);\n",
              "      filter: drop-shadow(0px 1px 2px rgba(0, 0, 0, 0.3));\n",
              "      fill: #FFFFFF;\n",
              "    }\n",
              "  </style>\n",
              "\n",
              "    <script>\n",
              "      const buttonEl =\n",
              "        document.querySelector('#df-a6b4891b-94a0-4e7d-ae90-4bb6a1d28644 button.colab-df-convert');\n",
              "      buttonEl.style.display =\n",
              "        google.colab.kernel.accessAllowed ? 'block' : 'none';\n",
              "\n",
              "      async function convertToInteractive(key) {\n",
              "        const element = document.querySelector('#df-a6b4891b-94a0-4e7d-ae90-4bb6a1d28644');\n",
              "        const dataTable =\n",
              "          await google.colab.kernel.invokeFunction('convertToInteractive',\n",
              "                                                    [key], {});\n",
              "        if (!dataTable) return;\n",
              "\n",
              "        const docLinkHtml = 'Like what you see? Visit the ' +\n",
              "          '<a target=\"_blank\" href=https://colab.research.google.com/notebooks/data_table.ipynb>data table notebook</a>'\n",
              "          + ' to learn more about interactive tables.';\n",
              "        element.innerHTML = '';\n",
              "        dataTable['output_type'] = 'display_data';\n",
              "        await google.colab.output.renderOutput(dataTable, element);\n",
              "        const docLink = document.createElement('div');\n",
              "        docLink.innerHTML = docLinkHtml;\n",
              "        element.appendChild(docLink);\n",
              "      }\n",
              "    </script>\n",
              "  </div>\n",
              "\n",
              "\n",
              "<div id=\"df-746fc707-ba20-4efc-ac5c-737b6a9a541c\">\n",
              "  <button class=\"colab-df-quickchart\" onclick=\"quickchart('df-746fc707-ba20-4efc-ac5c-737b6a9a541c')\"\n",
              "            title=\"Suggest charts\"\n",
              "            style=\"display:none;\">\n",
              "\n",
              "<svg xmlns=\"http://www.w3.org/2000/svg\" height=\"24px\"viewBox=\"0 0 24 24\"\n",
              "     width=\"24px\">\n",
              "    <g>\n",
              "        <path d=\"M19 3H5c-1.1 0-2 .9-2 2v14c0 1.1.9 2 2 2h14c1.1 0 2-.9 2-2V5c0-1.1-.9-2-2-2zM9 17H7v-7h2v7zm4 0h-2V7h2v10zm4 0h-2v-4h2v4z\"/>\n",
              "    </g>\n",
              "</svg>\n",
              "  </button>\n",
              "\n",
              "<style>\n",
              "  .colab-df-quickchart {\n",
              "      --bg-color: #E8F0FE;\n",
              "      --fill-color: #1967D2;\n",
              "      --hover-bg-color: #E2EBFA;\n",
              "      --hover-fill-color: #174EA6;\n",
              "      --disabled-fill-color: #AAA;\n",
              "      --disabled-bg-color: #DDD;\n",
              "  }\n",
              "\n",
              "  [theme=dark] .colab-df-quickchart {\n",
              "      --bg-color: #3B4455;\n",
              "      --fill-color: #D2E3FC;\n",
              "      --hover-bg-color: #434B5C;\n",
              "      --hover-fill-color: #FFFFFF;\n",
              "      --disabled-bg-color: #3B4455;\n",
              "      --disabled-fill-color: #666;\n",
              "  }\n",
              "\n",
              "  .colab-df-quickchart {\n",
              "    background-color: var(--bg-color);\n",
              "    border: none;\n",
              "    border-radius: 50%;\n",
              "    cursor: pointer;\n",
              "    display: none;\n",
              "    fill: var(--fill-color);\n",
              "    height: 32px;\n",
              "    padding: 0;\n",
              "    width: 32px;\n",
              "  }\n",
              "\n",
              "  .colab-df-quickchart:hover {\n",
              "    background-color: var(--hover-bg-color);\n",
              "    box-shadow: 0 1px 2px rgba(60, 64, 67, 0.3), 0 1px 3px 1px rgba(60, 64, 67, 0.15);\n",
              "    fill: var(--button-hover-fill-color);\n",
              "  }\n",
              "\n",
              "  .colab-df-quickchart-complete:disabled,\n",
              "  .colab-df-quickchart-complete:disabled:hover {\n",
              "    background-color: var(--disabled-bg-color);\n",
              "    fill: var(--disabled-fill-color);\n",
              "    box-shadow: none;\n",
              "  }\n",
              "\n",
              "  .colab-df-spinner {\n",
              "    border: 2px solid var(--fill-color);\n",
              "    border-color: transparent;\n",
              "    border-bottom-color: var(--fill-color);\n",
              "    animation:\n",
              "      spin 1s steps(1) infinite;\n",
              "  }\n",
              "\n",
              "  @keyframes spin {\n",
              "    0% {\n",
              "      border-color: transparent;\n",
              "      border-bottom-color: var(--fill-color);\n",
              "      border-left-color: var(--fill-color);\n",
              "    }\n",
              "    20% {\n",
              "      border-color: transparent;\n",
              "      border-left-color: var(--fill-color);\n",
              "      border-top-color: var(--fill-color);\n",
              "    }\n",
              "    30% {\n",
              "      border-color: transparent;\n",
              "      border-left-color: var(--fill-color);\n",
              "      border-top-color: var(--fill-color);\n",
              "      border-right-color: var(--fill-color);\n",
              "    }\n",
              "    40% {\n",
              "      border-color: transparent;\n",
              "      border-right-color: var(--fill-color);\n",
              "      border-top-color: var(--fill-color);\n",
              "    }\n",
              "    60% {\n",
              "      border-color: transparent;\n",
              "      border-right-color: var(--fill-color);\n",
              "    }\n",
              "    80% {\n",
              "      border-color: transparent;\n",
              "      border-right-color: var(--fill-color);\n",
              "      border-bottom-color: var(--fill-color);\n",
              "    }\n",
              "    90% {\n",
              "      border-color: transparent;\n",
              "      border-bottom-color: var(--fill-color);\n",
              "    }\n",
              "  }\n",
              "</style>\n",
              "\n",
              "  <script>\n",
              "    async function quickchart(key) {\n",
              "      const quickchartButtonEl =\n",
              "        document.querySelector('#' + key + ' button');\n",
              "      quickchartButtonEl.disabled = true;  // To prevent multiple clicks.\n",
              "      quickchartButtonEl.classList.add('colab-df-spinner');\n",
              "      try {\n",
              "        const charts = await google.colab.kernel.invokeFunction(\n",
              "            'suggestCharts', [key], {});\n",
              "      } catch (error) {\n",
              "        console.error('Error during call to suggestCharts:', error);\n",
              "      }\n",
              "      quickchartButtonEl.classList.remove('colab-df-spinner');\n",
              "      quickchartButtonEl.classList.add('colab-df-quickchart-complete');\n",
              "    }\n",
              "    (() => {\n",
              "      let quickchartButtonEl =\n",
              "        document.querySelector('#df-746fc707-ba20-4efc-ac5c-737b6a9a541c button');\n",
              "      quickchartButtonEl.style.display =\n",
              "        google.colab.kernel.accessAllowed ? 'block' : 'none';\n",
              "    })();\n",
              "  </script>\n",
              "</div>\n",
              "\n",
              "    </div>\n",
              "  </div>\n"
            ],
            "application/vnd.google.colaboratory.intrinsic+json": {
              "type": "dataframe",
              "variable_name": "mercari_df"
            }
          },
          "metadata": {},
          "execution_count": 1
        }
      ],
      "source": [
        "from sklearn.linear_model import Ridge, LogisticRegression\n",
        "from sklearn.model_selection import train_test_split, cross_val_score\n",
        "from sklearn.feature_extraction.text import CountVectorizer, TfidfVectorizer\n",
        "import pandas as pd\n",
        "\n",
        "mercari_df = pd.read_csv('/content/drive/MyDrive/Colab Notebooks/data/mercari_train.tsv', sep='\\t')\n",
        "print(mercari_df.shape)\n",
        "mercari_df.head(3)"
      ]
    },
    {
      "cell_type": "code",
      "execution_count": 2,
      "metadata": {
        "colab": {
          "base_uri": "https://localhost:8080/"
        },
        "id": "5muAhPOzpC9A",
        "outputId": "cf5f0fb8-7928-4b31-cb68-fb5ec3063b6d"
      },
      "outputs": [
        {
          "output_type": "stream",
          "name": "stdout",
          "text": [
            "<class 'pandas.core.frame.DataFrame'>\n",
            "RangeIndex: 1482535 entries, 0 to 1482534\n",
            "Data columns (total 8 columns):\n",
            " #   Column             Non-Null Count    Dtype  \n",
            "---  ------             --------------    -----  \n",
            " 0   train_id           1482535 non-null  int64  \n",
            " 1   name               1482535 non-null  object \n",
            " 2   item_condition_id  1482535 non-null  int64  \n",
            " 3   category_name      1476208 non-null  object \n",
            " 4   brand_name         849853 non-null   object \n",
            " 5   price              1482535 non-null  float64\n",
            " 6   shipping           1482535 non-null  int64  \n",
            " 7   item_description   1482529 non-null  object \n",
            "dtypes: float64(1), int64(3), object(4)\n",
            "memory usage: 90.5+ MB\n",
            "None\n"
          ]
        }
      ],
      "source": [
        "print(mercari_df.info())"
      ]
    },
    {
      "cell_type": "markdown",
      "source": [
        "- brand_name 칼럼 : 매우 많은 Null 값"
      ],
      "metadata": {
        "id": "FNEIcqtmHI4Z"
      }
    },
    {
      "cell_type": "code",
      "execution_count": 3,
      "metadata": {
        "colab": {
          "base_uri": "https://localhost:8080/",
          "height": 388
        },
        "id": "PcpmovkYpI4M",
        "outputId": "a224a09e-5701-4c86-c1a8-f6ddb1c2e999"
      },
      "outputs": [
        {
          "output_type": "display_data",
          "data": {
            "text/plain": [
              "<Figure size 600x400 with 1 Axes>"
            ],
            "image/png": "[encoded data removed]"
          },
          "metadata": {}
        }
      ],
      "source": [
        "import matplotlib.pyplot as plt\n",
        "import seaborn as sns\n",
        "\n",
        "y_train_df = mercari_df['price']\n",
        "plt.figure(figsize=(6,4))\n",
        "sns.histplot(y_train_df, bins=100)\n",
        "plt.show()"
      ]
    },
    {
      "cell_type": "markdown",
      "source": [
        "- price 칼럼 : 데이터 값이 왜곡된 상태로 분포"
      ],
      "metadata": {
        "id": "xstVn8UEHS4e"
      }
    },
    {
      "cell_type": "code",
      "execution_count": 4,
      "metadata": {
        "colab": {
          "base_uri": "https://localhost:8080/",
          "height": 449
        },
        "id": "g0oGFZ_aqBdj",
        "outputId": "5ac322e0-ed62-41d2-f8a9-5d61188eb99f"
      },
      "outputs": [
        {
          "output_type": "display_data",
          "data": {
            "text/plain": [
              "<Figure size 640x480 with 1 Axes>"
            ],
            "image/png": "[encoded data removed]"
          },
          "metadata": {}
        }
      ],
      "source": [
        "import numpy as np\n",
        "\n",
        "y_train_df = np.log1p(y_train_df)\n",
        "sns.histplot(y_train_df, bins=50)\n",
        "plt.show()"
      ]
    },
    {
      "cell_type": "markdown",
      "source": [
        "- 로그 변환 이후, 비교적 정규 분포에 가까운 데이터가 됨"
      ],
      "metadata": {
        "id": "qB0ftnukHagl"
      }
    },
    {
      "cell_type": "code",
      "execution_count": 5,
      "metadata": {
        "colab": {
          "base_uri": "https://localhost:8080/",
          "height": 178
        },
        "id": "4zR8nEP8tthG",
        "outputId": "c815c297-cf25-45ff-91bd-947beec7c6f2"
      },
      "outputs": [
        {
          "output_type": "execute_result",
          "data": {
            "text/plain": [
              "0    2.397895\n",
              "1    3.970292\n",
              "2    2.397895\n",
              "Name: price, dtype: float64"
            ],
            "text/html": [
              "<div>\n",
              "<style scoped>\n",
              "    .dataframe tbody tr th:only-of-type {\n",
              "        vertical-align: middle;\n",
              "    }\n",
              "\n",
              "    .dataframe tbody tr th {\n",
              "        vertical-align: top;\n",
              "    }\n",
              "\n",
              "    .dataframe thead th {\n",
              "        text-align: right;\n",
              "    }\n",
              "</style>\n",
              "<table border=\"1\" class=\"dataframe\">\n",
              "  <thead>\n",
              "    <tr style=\"text-align: right;\">\n",
              "      <th></th>\n",
              "      <th>price</th>\n",
              "    </tr>\n",
              "  </thead>\n",
              "  <tbody>\n",
              "    <tr>\n",
              "      <th>0</th>\n",
              "      <td>2.397895</td>\n",
              "    </tr>\n",
              "    <tr>\n",
              "      <th>1</th>\n",
              "      <td>3.970292</td>\n",
              "    </tr>\n",
              "    <tr>\n",
              "      <th>2</th>\n",
              "      <td>2.397895</td>\n",
              "    </tr>\n",
              "  </tbody>\n",
              "</table>\n",
              "</div><br><label><b>dtype:</b> float64</label>"
            ]
          },
          "metadata": {},
          "execution_count": 5
        }
      ],
      "source": [
        "mercari_df['price'] = np.log1p(mercari_df['price'])\n",
        "mercari_df['price'].head(3)"
      ]
    },
    {
      "cell_type": "code",
      "execution_count": 6,
      "metadata": {
        "colab": {
          "base_uri": "https://localhost:8080/"
        },
        "id": "ZYW9WvDZtzzK",
        "outputId": "5543dd87-1b9a-4ebc-f78e-3f3372ab065f"
      },
      "outputs": [
        {
          "output_type": "stream",
          "name": "stdout",
          "text": [
            "Shipping 값 유형:\n",
            " shipping\n",
            "0    819435\n",
            "1    663100\n",
            "Name: count, dtype: int64\n",
            "item_condition_id 값 유형:\n",
            " item_condition_id\n",
            "1    640549\n",
            "3    432161\n",
            "2    375479\n",
            "4     31962\n",
            "5      2384\n",
            "Name: count, dtype: int64\n"
          ]
        }
      ],
      "source": [
        "print('Shipping 값 유형:\\n', mercari_df['shipping'].value_counts())\n",
        "print('item_condition_id 값 유형:\\n', mercari_df['item_condition_id'].value_counts())"
      ]
    },
    {
      "cell_type": "markdown",
      "source": [
        "- Shipping 칼럼 : 값이 비교적 균일함\n",
        "- item_condition_id 칼럼 : 1,2,3 값이 주를 이룸"
      ],
      "metadata": {
        "id": "rysYvr5aHiJQ"
      }
    },
    {
      "cell_type": "code",
      "execution_count": 7,
      "metadata": {
        "colab": {
          "base_uri": "https://localhost:8080/"
        },
        "id": "NeAWptJbuNNL",
        "outputId": "e4690ff3-3511-43d8-d5db-da561d4e3b99"
      },
      "outputs": [
        {
          "output_type": "execute_result",
          "data": {
            "text/plain": [
              "82489"
            ]
          },
          "metadata": {},
          "execution_count": 7
        }
      ],
      "source": [
        "boolean_cond = mercari_df['item_description']=='No description yet'\n",
        "mercari_df[boolean_cond]['item_description'].count()"
      ]
    },
    {
      "cell_type": "markdown",
      "source": [
        "- description에 대한 별도 설명이 없는 경우 -> No description yet\n",
        "  - Null과 마찬가지로 의미 있는 속성값으로 사용 불가"
      ],
      "metadata": {
        "id": "Wqe9QsFkHucC"
      }
    },
    {
      "cell_type": "code",
      "execution_count": 8,
      "metadata": {
        "colab": {
          "base_uri": "https://localhost:8080/"
        },
        "id": "KpGRDdH7uYm-",
        "outputId": "654bd487-5bbb-4ed2-bc49-f5b21d6771a7"
      },
      "outputs": [
        {
          "output_type": "stream",
          "name": "stdout",
          "text": [
            "대분류 유형 : \n",
            " cat_dae\n",
            "Women                     664385\n",
            "Beauty                    207828\n",
            "Kids                      171689\n",
            "Electronics               122690\n",
            "Men                        93680\n",
            "Home                       67871\n",
            "Vintage & Collectibles     46530\n",
            "Other                      45351\n",
            "Handmade                   30842\n",
            "Sports & Outdoors          25342\n",
            "Other_Null                  6327\n",
            "Name: count, dtype: int64\n",
            "중분류 개수 : 114\n",
            "소분류 개수 : 871\n"
          ]
        }
      ],
      "source": [
        "# apply lambda에서 호출되는 대,중,소 분할 함수 생성, 대,중,소 값을 리스트로 반환\n",
        "def split_cat(category_name):\n",
        "  try:\n",
        "    return category_name.split('/')\n",
        "  except:\n",
        "    return ['Other_Null', 'Other_Null', 'Other_Null']\n",
        "\n",
        "# 위의 split_cat()을 apply lambda에서 호출해 대,중,소 칼럼을 mercari_df에 생성.\n",
        "mercari_df['cat_dae'], mercari_df['cat_jung'], mercari_df['cat_so'] = zip(*mercari_df['category_name'].apply(lambda x : split_cat(x)))\n",
        "\n",
        "# 대분류만 값의 유형과 건수를 살펴보고, 중분류, 소분류는 값의 유형이 많으므로 분류 개수만 추출\n",
        "print('대분류 유형 : \\n', mercari_df['cat_dae'].value_counts())\n",
        "print('중분류 개수 :', mercari_df['cat_jung'].nunique())\n",
        "print('소분류 개수 :', mercari_df['cat_so'].nunique())"
      ]
    },
    {
      "cell_type": "markdown",
      "source": [
        "- category_name : '/'로 분리된 카테고리를 하나의 문자열로 나타냄\n",
        "  - 따라서 '/'를 기준으로 단어 분리 -> split_cat()"
      ],
      "metadata": {
        "id": "4N4khNKTMJ6f"
      }
    },
    {
      "cell_type": "code",
      "execution_count": 9,
      "metadata": {
        "colab": {
          "base_uri": "https://localhost:8080/",
          "height": 429
        },
        "id": "_Ota1ScGxOwX",
        "outputId": "8c835545-71ac-4596-aefb-70e63bf635bb"
      },
      "outputs": [
        {
          "output_type": "execute_result",
          "data": {
            "text/plain": [
              "train_id             0\n",
              "name                 0\n",
              "item_condition_id    0\n",
              "category_name        0\n",
              "brand_name           0\n",
              "price                0\n",
              "shipping             0\n",
              "item_description     0\n",
              "cat_dae              0\n",
              "cat_jung             0\n",
              "cat_so               0\n",
              "dtype: int64"
            ],
            "text/html": [
              "<div>\n",
              "<style scoped>\n",
              "    .dataframe tbody tr th:only-of-type {\n",
              "        vertical-align: middle;\n",
              "    }\n",
              "\n",
              "    .dataframe tbody tr th {\n",
              "        vertical-align: top;\n",
              "    }\n",
              "\n",
              "    .dataframe thead th {\n",
              "        text-align: right;\n",
              "    }\n",
              "</style>\n",
              "<table border=\"1\" class=\"dataframe\">\n",
              "  <thead>\n",
              "    <tr style=\"text-align: right;\">\n",
              "      <th></th>\n",
              "      <th>0</th>\n",
              "    </tr>\n",
              "  </thead>\n",
              "  <tbody>\n",
              "    <tr>\n",
              "      <th>train_id</th>\n",
              "      <td>0</td>\n",
              "    </tr>\n",
              "    <tr>\n",
              "      <th>name</th>\n",
              "      <td>0</td>\n",
              "    </tr>\n",
              "    <tr>\n",
              "      <th>item_condition_id</th>\n",
              "      <td>0</td>\n",
              "    </tr>\n",
              "    <tr>\n",
              "      <th>category_name</th>\n",
              "      <td>0</td>\n",
              "    </tr>\n",
              "    <tr>\n",
              "      <th>brand_name</th>\n",
              "      <td>0</td>\n",
              "    </tr>\n",
              "    <tr>\n",
              "      <th>price</th>\n",
              "      <td>0</td>\n",
              "    </tr>\n",
              "    <tr>\n",
              "      <th>shipping</th>\n",
              "      <td>0</td>\n",
              "    </tr>\n",
              "    <tr>\n",
              "      <th>item_description</th>\n",
              "      <td>0</td>\n",
              "    </tr>\n",
              "    <tr>\n",
              "      <th>cat_dae</th>\n",
              "      <td>0</td>\n",
              "    </tr>\n",
              "    <tr>\n",
              "      <th>cat_jung</th>\n",
              "      <td>0</td>\n",
              "    </tr>\n",
              "    <tr>\n",
              "      <th>cat_so</th>\n",
              "      <td>0</td>\n",
              "    </tr>\n",
              "  </tbody>\n",
              "</table>\n",
              "</div><br><label><b>dtype:</b> int64</label>"
            ]
          },
          "metadata": {},
          "execution_count": 9
        }
      ],
      "source": [
        "mercari_df['brand_name'] = mercari_df['brand_name'].fillna(value='Other_Null')\n",
        "mercari_df['category_name'] = mercari_df['category_name'].fillna(value='Other_Null')\n",
        "mercari_df['item_description'] = mercari_df['item_description'].fillna(value='Other_Null')\n",
        "\n",
        "# 각 칼럼별로 Null 값 건수 확인. 모두 0이 나와야 합니다.\n",
        "mercari_df.isnull().sum()"
      ]
    },
    {
      "cell_type": "markdown",
      "source": [
        "- brand_name, category_name, item_description 칼럼의 Null 값은 일괄적으로 'Other Null'로 변경"
      ],
      "metadata": {
        "id": "vFh60GnsMqag"
      }
    },
    {
      "cell_type": "markdown",
      "metadata": {
        "id": "FioMXmkB1Fiu"
      },
      "source": [
        "### 피처 인코딩과 피처 벡터화"
      ]
    },
    {
      "cell_type": "markdown",
      "source": [
        "- 선형 회귀의 경우 원-핫 인코딩 적용이 훨씬 선호되므로 원-핫 인코딩 적용\n",
        "- 비교적 짧은 텍스트의 경우 Count 기반의 벡터화\n",
        "- 긴 텍스트는 TD-IDF 기반의 벡터화 적용"
      ],
      "metadata": {
        "id": "4ObDOJFvM5zB"
      }
    },
    {
      "cell_type": "code",
      "execution_count": 10,
      "metadata": {
        "colab": {
          "base_uri": "https://localhost:8080/"
        },
        "id": "tleQGRJy1Jss",
        "outputId": "45970b4d-09f7-494f-8773-a6068f75b6bd"
      },
      "outputs": [
        {
          "output_type": "stream",
          "name": "stdout",
          "text": [
            "brand name의 유형 건수 : 4810\n",
            "brand name sample 5건 :\n",
            " brand_name\n",
            "Other_Null           632682\n",
            "PINK                  54088\n",
            "Nike                  54043\n",
            "Victoria's Secret     48036\n",
            "LuLaRoe               31024\n",
            "Name: count, dtype: int64\n"
          ]
        }
      ],
      "source": [
        "print('brand name의 유형 건수 :', mercari_df['brand_name'].nunique())\n",
        "print('brand name sample 5건 :\\n', mercari_df['brand_name'].value_counts()[:5])"
      ]
    },
    {
      "cell_type": "markdown",
      "source": [
        "- brand_name : 원-핫 인코딩"
      ],
      "metadata": {
        "id": "n-wZNtR9NOOv"
      }
    },
    {
      "cell_type": "code",
      "execution_count": 11,
      "metadata": {
        "colab": {
          "base_uri": "https://localhost:8080/"
        },
        "id": "MSCht9U31b1-",
        "outputId": "a4729f7a-b732-49b9-d217-2c5c5318f5d6"
      },
      "outputs": [
        {
          "output_type": "stream",
          "name": "stdout",
          "text": [
            "name의 종류 건수 : 1225273\n",
            "name sample 7건 :\n",
            " 0    MLB Cincinnati Reds T Shirt Size XL\n",
            "1       Razer BlackWidow Chroma Keyboard\n",
            "2                         AVA-VIV Blouse\n",
            "3                  Leather Horse Statues\n",
            "4                   24K GOLD plated rose\n",
            "5       Bundled items requested for Ruie\n",
            "6     Acacia pacific tides santorini top\n",
            "Name: name, dtype: object\n"
          ]
        }
      ],
      "source": [
        "print('name의 종류 건수 :', mercari_df['name'].nunique())\n",
        "print('name sample 7건 :\\n', mercari_df['name'][:7])"
      ]
    },
    {
      "cell_type": "markdown",
      "source": [
        "- name : 종류와 데이터 개수에 차이가 많이 나지 않으므로 개별적으로 거의 고유한 상품명을 가짐을 알 수 있음\n",
        "  - 유형이 매우 많고, 적은 단어 위주의 텍스트 형태로 되어 있음\n",
        "  - 따라서, Count 기반 피처 벡터화\n",
        "- category_name : 원-핫 인코딩 적용\n",
        "- shipping, item_condition_id : 모두 원-핫 인코딩 적용"
      ],
      "metadata": {
        "id": "I88LgpOqNU43"
      }
    },
    {
      "cell_type": "code",
      "execution_count": 12,
      "metadata": {
        "colab": {
          "base_uri": "https://localhost:8080/",
          "height": 183
        },
        "id": "yftRVmJS1kX1",
        "outputId": "23a494b6-f404-4d13-be95-38ffa842f92a"
      },
      "outputs": [
        {
          "output_type": "stream",
          "name": "stdout",
          "text": [
            "item_description 평균 문자열 크기: 145.71139703278507\n"
          ]
        },
        {
          "output_type": "execute_result",
          "data": {
            "text/plain": [
              "0                                                                                                                                                                              No description yet\n",
              "1    This keyboard is in great condition and works like it came out of the box. All of the ports are tested and work perfectly. The lights are customizable via the Razer Synapse app on your PC.\n",
              "Name: item_description, dtype: object"
            ],
            "text/html": [
              "<div>\n",
              "<style scoped>\n",
              "    .dataframe tbody tr th:only-of-type {\n",
              "        vertical-align: middle;\n",
              "    }\n",
              "\n",
              "    .dataframe tbody tr th {\n",
              "        vertical-align: top;\n",
              "    }\n",
              "\n",
              "    .dataframe thead th {\n",
              "        text-align: right;\n",
              "    }\n",
              "</style>\n",
              "<table border=\"1\" class=\"dataframe\">\n",
              "  <thead>\n",
              "    <tr style=\"text-align: right;\">\n",
              "      <th></th>\n",
              "      <th>item_description</th>\n",
              "    </tr>\n",
              "  </thead>\n",
              "  <tbody>\n",
              "    <tr>\n",
              "      <th>0</th>\n",
              "      <td>No description yet</td>\n",
              "    </tr>\n",
              "    <tr>\n",
              "      <th>1</th>\n",
              "      <td>This keyboard is in great condition and works like it came out of the box. All of the ports are tested and work perfectly. The lights are customizable via the Razer Synapse app on your PC.</td>\n",
              "    </tr>\n",
              "  </tbody>\n",
              "</table>\n",
              "</div><br><label><b>dtype:</b> object</label>"
            ]
          },
          "metadata": {},
          "execution_count": 12
        }
      ],
      "source": [
        "pd.set_option('max_colwidth', 200)\n",
        "\n",
        "# item_description의 평균 문자열 크기\n",
        "print('item_description 평균 문자열 크기:', mercari_df['item_description'].str.len().mean())\n",
        "\n",
        "mercari_df['item_description'][:2]"
      ]
    },
    {
      "cell_type": "markdown",
      "source": [
        "- 문자열의 크기가 크므로, item_description 칼럼은 TF-IDF 변환"
      ],
      "metadata": {
        "id": "cxspFXF1N7cj"
      }
    },
    {
      "cell_type": "code",
      "execution_count": 13,
      "metadata": {
        "colab": {
          "base_uri": "https://localhost:8080/",
          "height": 545
        },
        "id": "pjyYVYFT3JZd",
        "outputId": "2b72268b-ca16-4962-c08d-f66235adee30"
      },
      "outputs": [
        {
          "output_type": "execute_result",
          "data": {
            "text/plain": [
              "0                                                                                                                                                                                    No description yet\n",
              "1          This keyboard is in great condition and works like it came out of the box. All of the ports are tested and work perfectly. The lights are customizable via the Razer Synapse app on your PC.\n",
              "2                                                                          Adorable top with a hint of lace and a key hole in the back! The pale pink is a 1X, and I also have a 3X available in white!\n",
              "3                         New with tags. Leather horses. Retail for [rm] each. Stand about a foot high. They are being sold as a pair. Any questions please ask. Free shipping. Just got out of storage\n",
              "4                                                                                                                                                             Complete with certificate of authenticity\n",
              "                                                                                                       ...                                                                                             \n",
              "1482530                                                                Lace, says size small but fits medium perfectly too. Never used. Super cute for all occasions ***not free people but looks exact\n",
              "1482531                                                                                                                                                Little mermaid handmade dress never worn size 2t\n",
              "1482532                                                                                                                                                       Used once or twice, still in great shape.\n",
              "1482533                                                                        There is 2 of each one that you see! So 2 red 2 orange and 2 of the big red and orange ones! They are from world market!\n",
              "1482534                                                                                                                                   New with tag, red with sparkle. Firm price, no free shipping.\n",
              "Name: item_description, Length: 1482535, dtype: object"
            ],
            "text/html": [
              "<div>\n",
              "<style scoped>\n",
              "    .dataframe tbody tr th:only-of-type {\n",
              "        vertical-align: middle;\n",
              "    }\n",
              "\n",
              "    .dataframe tbody tr th {\n",
              "        vertical-align: top;\n",
              "    }\n",
              "\n",
              "    .dataframe thead th {\n",
              "        text-align: right;\n",
              "    }\n",
              "</style>\n",
              "<table border=\"1\" class=\"dataframe\">\n",
              "  <thead>\n",
              "    <tr style=\"text-align: right;\">\n",
              "      <th></th>\n",
              "      <th>item_description</th>\n",
              "    </tr>\n",
              "  </thead>\n",
              "  <tbody>\n",
              "    <tr>\n",
              "      <th>0</th>\n",
              "      <td>No description yet</td>\n",
              "    </tr>\n",
              "    <tr>\n",
              "      <th>1</th>\n",
              "      <td>This keyboard is in great condition and works like it came out of the box. All of the ports are tested and work perfectly. The lights are customizable via the Razer Synapse app on your PC.</td>\n",
              "    </tr>\n",
              "    <tr>\n",
              "      <th>2</th>\n",
              "      <td>Adorable top with a hint of lace and a key hole in the back! The pale pink is a 1X, and I also have a 3X available in white!</td>\n",
              "    </tr>\n",
              "    <tr>\n",
              "      <th>3</th>\n",
              "      <td>New with tags. Leather horses. Retail for [rm] each. Stand about a foot high. They are being sold as a pair. Any questions please ask. Free shipping. Just got out of storage</td>\n",
              "    </tr>\n",
              "    <tr>\n",
              "      <th>4</th>\n",
              "      <td>Complete with certificate of authenticity</td>\n",
              "    </tr>\n",
              "    <tr>\n",
              "      <th>...</th>\n",
              "      <td>...</td>\n",
              "    </tr>\n",
              "    <tr>\n",
              "      <th>1482530</th>\n",
              "      <td>Lace, says size small but fits medium perfectly too. Never used. Super cute for all occasions ***not free people but looks exact</td>\n",
              "    </tr>\n",
              "    <tr>\n",
              "      <th>1482531</th>\n",
              "      <td>Little mermaid handmade dress never worn size 2t</td>\n",
              "    </tr>\n",
              "    <tr>\n",
              "      <th>1482532</th>\n",
              "      <td>Used once or twice, still in great shape.</td>\n",
              "    </tr>\n",
              "    <tr>\n",
              "      <th>1482533</th>\n",
              "      <td>There is 2 of each one that you see! So 2 red 2 orange and 2 of the big red and orange ones! They are from world market!</td>\n",
              "    </tr>\n",
              "    <tr>\n",
              "      <th>1482534</th>\n",
              "      <td>New with tag, red with sparkle. Firm price, no free shipping.</td>\n",
              "    </tr>\n",
              "  </tbody>\n",
              "</table>\n",
              "<p>1482535 rows × 1 columns</p>\n",
              "</div><br><label><b>dtype:</b> object</label>"
            ]
          },
          "metadata": {},
          "execution_count": 13
        }
      ],
      "source": [
        "mercari_df['item_description']"
      ]
    },
    {
      "cell_type": "code",
      "execution_count": 14,
      "metadata": {
        "id": "rO9CnnrP17bV"
      },
      "outputs": [],
      "source": [
        "# name 속성에 대한 피처 벡터화 변환\n",
        "cnt_vec = CountVectorizer()\n",
        "X_name = cnt_vec.fit_transform(mercari_df.name)\n",
        "\n",
        "# item_description에 대한 피처 벡터화 변환\n",
        "tfidf_descp = TfidfVectorizer(max_features = 50000, ngram_range=(1,3), stop_words='english')\n",
        "X_descp = tfidf_descp.fit_transform(mercari_df['item_description'])"
      ]
    },
    {
      "cell_type": "markdown",
      "source": [
        "- name : CountVectorizer\n",
        "- item_description : TfidfVectorizer"
      ],
      "metadata": {
        "id": "pItaLDvvOHI3"
      }
    },
    {
      "cell_type": "code",
      "execution_count": 15,
      "metadata": {
        "colab": {
          "base_uri": "https://localhost:8080/"
        },
        "id": "LC4Ul9N74f1E",
        "outputId": "1314e294-dad5-4b8c-ed27-4a9357bd4b0c"
      },
      "outputs": [
        {
          "output_type": "stream",
          "name": "stdout",
          "text": [
            "name vectorization shape: (1482535, 105757)\n",
            "item_description vectorization shape: (1482535, 50000)\n"
          ]
        }
      ],
      "source": [
        "print('name vectorization shape:', X_name.shape)\n",
        "print('item_description vectorization shape:', X_descp.shape)"
      ]
    },
    {
      "cell_type": "code",
      "execution_count": 16,
      "metadata": {
        "id": "S78r_aGl7Qcx"
      },
      "outputs": [],
      "source": [
        "from sklearn.preprocessing import LabelBinarizer\n",
        "\n",
        "# brand_name, item_condition_id, shipping 각 피처들을 희소 행렬 원-핫 인코딩 변환\n",
        "lb_brand_name = LabelBinarizer(sparse_output=True)\n",
        "X_brand = lb_brand_name.fit_transform(mercari_df['brand_name'])\n",
        "lb_item_cond_id = LabelBinarizer(sparse_output=True)\n",
        "X_item_cond_id = lb_item_cond_id.fit_transform(mercari_df['item_condition_id'])\n",
        "lb_shipping = LabelBinarizer(sparse_output=True)\n",
        "X_shipping = lb_shipping.fit_transform(mercari_df['shipping'])\n",
        "\n",
        "# cat_dae, cat_jung, cat_so 각 피처들을 희소 행렬 원-핫 인코딩 변환\n",
        "lb_cat_dae = LabelBinarizer(sparse_output=True)\n",
        "X_cat_dae = lb_cat_dae.fit_transform(mercari_df['cat_dae'])\n",
        "lb_cat_jung = LabelBinarizer(sparse_output=True)\n",
        "X_cat_jung = lb_cat_jung.fit_transform(mercari_df['cat_jung'])\n",
        "lb_cat_so = LabelBinarizer(sparse_output=True)\n",
        "X_cat_so = lb_cat_so.fit_transform(mercari_df['cat_so'])"
      ]
    },
    {
      "cell_type": "markdown",
      "source": [
        "- 원-핫 인코딩 : OneHotEncoder, LabelBinarizer\n",
        "  - LabelBinarizer : 희소 행렬 형태의 원-핫 인코딩 변환 지원 -> sparse_out = True로 설정"
      ],
      "metadata": {
        "id": "Kk1MU2KrOjP0"
      }
    },
    {
      "cell_type": "code",
      "execution_count": 17,
      "metadata": {
        "colab": {
          "base_uri": "https://localhost:8080/"
        },
        "id": "eTiLugjc8OYi",
        "outputId": "29a630dc-2b07-4449-8d0e-b8c7062acbb7"
      },
      "outputs": [
        {
          "output_type": "stream",
          "name": "stdout",
          "text": [
            "<class 'scipy.sparse._csr.csr_matrix'> <class 'scipy.sparse._csr.csr_matrix'> <class 'scipy.sparse._csr.csr_matrix'>\n",
            "X_brand shape:(1482535, 4810), X_itme_cond_id shape:(1482535, 5)\n",
            "X_shipping shape:(1482535, 1), X_cat_dae shape:(1482535, 11)\n",
            "X_cat_jung shape:(1482535, 114), X_cat_so shape:(1482535, 871)\n"
          ]
        }
      ],
      "source": [
        "print(type(X_brand), type(X_item_cond_id), type(X_shipping))\n",
        "print('X_brand shape:{0}, X_itme_cond_id shape:{1}'.format(X_brand.shape, X_item_cond_id.shape))\n",
        "print('X_shipping shape:{0}, X_cat_dae shape:{1}'.format(X_shipping.shape, X_cat_dae.shape))\n",
        "print('X_cat_jung shape:{0}, X_cat_so shape:{1}'.format(X_cat_jung.shape, X_cat_so.shape))"
      ]
    },
    {
      "cell_type": "markdown",
      "source": [
        "- 인코딩 변환된 데이터 세트는 CSR 형태로 변환된 csr_matrix 타입\n",
        "- 인코딩 칼럼이 매우 많이 생겼지만, 피처 벡터화로 텍스트 형태의 문자열이 가지는 벡터 형태의 매우 많은 칼럼과 함께 결합되므로 크게 문제되지 X"
      ],
      "metadata": {
        "id": "tErT1oRPPat1"
      }
    },
    {
      "cell_type": "code",
      "execution_count": 18,
      "metadata": {
        "id": "rjyYILcP8w6O",
        "colab": {
          "base_uri": "https://localhost:8080/"
        },
        "outputId": "ce21e264-0e5b-4bf3-fbb4-74ca587a2ed1"
      },
      "outputs": [
        {
          "output_type": "stream",
          "name": "stdout",
          "text": [
            "<class 'scipy.sparse._csr.csr_matrix'> (1482535, 160698)\n"
          ]
        },
        {
          "output_type": "execute_result",
          "data": {
            "text/plain": [
              "0"
            ]
          },
          "metadata": {},
          "execution_count": 18
        }
      ],
      "source": [
        "from scipy.sparse import hstack\n",
        "import gc\n",
        "\n",
        "sparse_matrix_list = (X_name, X_descp, X_brand, X_item_cond_id, \\\n",
        "                      X_shipping, X_cat_dae, X_cat_jung)\n",
        "\n",
        "# hstack 함수를 이용해 인코딩과 벡터화를 수행한 데이터 세트를 모두 결합.\n",
        "X_features_sparse = hstack(sparse_matrix_list).tocsr()\n",
        "print(type(X_features_sparse), X_features_sparse.shape)\n",
        "\n",
        "# 데이터 세트가 메모리를 많이 차지하므로 사용 목적이 끝났으면 바로 메모리에서 삭제.\n",
        "del X_features_sparse\n",
        "gc.collect()"
      ]
    },
    {
      "cell_type": "markdown",
      "source": [
        "- 사이파이 패키지 sparse 모듈의 hstack() 함수 이용하여 개별 칼럼으로 만들어진 희소 행렬 결합"
      ],
      "metadata": {
        "id": "dZM04_ZmO52K"
      }
    },
    {
      "cell_type": "markdown",
      "metadata": {
        "id": "WDgu4siJ9UwL"
      },
      "source": [
        "### 릿지 회귀 모델 구축 및 평가"
      ]
    },
    {
      "cell_type": "markdown",
      "source": [
        "- 평가지표 : RMSLE\n",
        "  - 낮은 가격보다 높은 가격에서 오류가 발생할 경우 오류 값이 커지는 것을 억제하기 위해 RMSLE 사용\n",
        "  ![image.png](data:image/png;base64,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)"
      ],
      "metadata": {
        "id": "1eF4rdPAPtFF"
      }
    },
    {
      "cell_type": "markdown",
      "source": [
        "- price 칼럼을 로그 변환하였으므로, 학습 모델을 통해 예측된 price 값은 지수 변환을 통해 원복 필요(exmpm1)"
      ],
      "metadata": {
        "id": "OQ5MgQZyQNPM"
      }
    },
    {
      "cell_type": "code",
      "execution_count": 19,
      "metadata": {
        "id": "kflcphEf9XDv"
      },
      "outputs": [],
      "source": [
        "def rmsle(y, y_pred):\n",
        "  # underflow, overflow를 막기 위해 log가 아닌 log1p로 rmsle 계산\n",
        "  return np.sqrt(np.mean(np.power(np.log1p(y) - np.log1p(y_pred), 2)))\n",
        "\n",
        "def evaluate_org_price(y_test, preds):\n",
        "\n",
        "  # 원본 데이터는 log1p로 변환되었으므로 exmpm1로 원복 필요.\n",
        "  preds_exmpm = np.expm1(preds)\n",
        "  y_test_exmpm = np.expm1(y_test)\n",
        "\n",
        "  # rmsle로 RMSLE 값 추출\n",
        "  rmsle_result = rmsle(y_test_exmpm, preds_exmpm)\n",
        "  return rmsle_result"
      ]
    },
    {
      "cell_type": "code",
      "execution_count": 20,
      "metadata": {
        "id": "it5kPHtC94BC"
      },
      "outputs": [],
      "source": [
        "import gc\n",
        "from scipy.sparse import hstack\n",
        "\n",
        "def model_train_predict(model, matrix_list):\n",
        "  # scipy.sparse 모듈의 hstack을 이용해 희소 행렬 결합\n",
        "  X = hstack(matrix_list).tocsr()\n",
        "\n",
        "  X_train, X_test, y_train, y_test = train_test_split(X, mercari_df['price'],\n",
        "                                                      test_size=0.2, random_state=156)\n",
        "  # 모델 학습 및 예측\n",
        "  model.fit(X_train, y_train)\n",
        "  preds = model.predict(X_test)\n",
        "\n",
        "  del X, X_train, X_test, y_train\n",
        "  gc.collect()\n",
        "\n",
        "  return preds, y_test"
      ]
    },
    {
      "cell_type": "code",
      "execution_count": 21,
      "metadata": {
        "id": "xFR7Nb49-W1_",
        "colab": {
          "base_uri": "https://localhost:8080/"
        },
        "outputId": "15ed0240-1afd-4da4-a44e-ca55609e46b3"
      },
      "outputs": [
        {
          "output_type": "stream",
          "name": "stdout",
          "text": [
            "Item Description을 제외했을 때 rmsle 값: 0.49844642739555695\n",
            "Item Description을 포함한 rmsle 값: 0.4681338129466161\n"
          ]
        }
      ],
      "source": [
        "linear_model = Ridge(solver = \"lsqr\", fit_intercept=False)\n",
        "\n",
        "sparse_matrix_list = (X_name, X_brand, X_item_cond_id, \\\n",
        "                      X_shipping, X_cat_dae, X_cat_jung, X_cat_so)\n",
        "linear_preds, y_test = model_train_predict(model=linear_model, matrix_list=sparse_matrix_list)\n",
        "print('Item Description을 제외했을 때 rmsle 값:', evaluate_org_price(y_test, linear_preds))\n",
        "\n",
        "sparse_matrix_list = (X_descp, X_name, X_brand, X_item_cond_id, \\\n",
        "                      X_shipping, X_cat_dae, X_cat_jung, X_cat_so)\n",
        "linear_preds, y_test = model_train_predict(model=linear_model, matrix_list=sparse_matrix_list)\n",
        "print('Item Description을 포함한 rmsle 값:', evaluate_org_price(y_test, linear_preds))"
      ]
    },
    {
      "cell_type": "markdown",
      "source": [
        "- Item description을 포함했을 때, rmsle 값이 많이 감소\n",
        "  - Item description 영향이 중요함을 알 수 있음"
      ],
      "metadata": {
        "id": "y2MZfdvGQlJH"
      }
    },
    {
      "cell_type": "markdown",
      "metadata": {
        "id": "9qJ7qbnoAYke"
      },
      "source": [
        "### LightGBM 회귀 모델 구축과 앙상블을 이용한 최종 예측 평가"
      ]
    },
    {
      "cell_type": "code",
      "execution_count": 27,
      "metadata": {
        "id": "58QpPNHaAXhd",
        "colab": {
          "base_uri": "https://localhost:8080/"
        },
        "outputId": "e51925e5-3818-4686-d0c8-5bb1e4e18877"
      },
      "outputs": [
        {
          "output_type": "stream",
          "name": "stdout",
          "text": [
            "[LightGBM] [Info] Auto-choosing row-wise multi-threading, the overhead of testing was 45.712908 seconds.\n",
            "You can set `force_row_wise=true` to remove the overhead.\n",
            "And if memory is not enough, you can set `force_col_wise=true`.\n",
            "[LightGBM] [Info] Total Bins 1068409\n",
            "[LightGBM] [Info] Number of data points in the train set: 1186028, number of used features: 65338\n",
            "[LightGBM] [Info] Start training from score 2.979514\n",
            "LightGBM rmsle 값: 0.4563757852336539\n"
          ]
        }
      ],
      "source": [
        "from lightgbm import LGBMRegressor\n",
        "\n",
        "sparse_matrix_list = (X_descp, X_name, X_brand, X_item_cond_id,\n",
        "                      X_shipping, X_cat_dae, X_cat_jung, X_cat_so)\n",
        "lgbm_model = LGBMRegressor(n_estimators=200, learning_rate=0.5, num_leaves=125, random_state=156)\n",
        "lgbm_preds, y_test = model_train_predict(model=lgbm_model, matrix_list=sparse_matrix_list)\n",
        "print('LightGBM rmsle 값:', evaluate_org_price(y_test, lgbm_preds))"
      ]
    },
    {
      "cell_type": "markdown",
      "source": [
        "- Ridge보다 예측성능이 더 나아짐"
      ],
      "metadata": {
        "id": "z7v1piOUQw16"
      }
    },
    {
      "cell_type": "code",
      "execution_count": 28,
      "metadata": {
        "id": "I1CGP9GyA7Ry",
        "colab": {
          "base_uri": "https://localhost:8080/"
        },
        "outputId": "8725a566-9b54-438e-bae9-40ac718c7108"
      },
      "outputs": [
        {
          "output_type": "stream",
          "name": "stdout",
          "text": [
            "LightGBM과 Ridge를 ensembel한 최종 rmsle 값: 0.4465714193914377\n"
          ]
        }
      ],
      "source": [
        "preds = lgbm_preds * 0.45 + linear_preds * 0.55\n",
        "print('LightGBM과 Ridge를 ensembel한 최종 rmsle 값:', evaluate_org_price(y_test, preds))"
      ]
    },
    {
      "cell_type": "markdown",
      "source": [
        "- Ridge와 LGBM 앙상블 : 예측성능이 더 개선됨"
      ],
      "metadata": {
        "id": "kYMHkTSTQ02K"
      }
    },
    {
      "cell_type": "markdown",
      "metadata": {
        "id": "CqytFFivBKWB"
      },
      "source": [
        "## 8.11 정리"
      ]
    },
    {
      "cell_type": "markdown",
      "metadata": {
        "id": "AwkFuB8UBPF6"
      },
      "source": [
        "- 머신러닝 기반의 텍스트 분석 프로세스\n",
        "  1. 텍스트 정규화 작업\n",
        "  2. 단어들을 피처 벡터화로 변환\n",
        "  3. 생성된 피처 벡터 데이터 세트에 머신러닝 모델을 학습, 예측, 평가\n",
        "\n",
        "  -  텍스트 정규화 작업\n",
        "    - 텍스트 클렌징\n",
        "    - 대소문자 변경\n",
        "    - 단어 토큰화\n",
        "    - 의미 없는 단어 필터링\n",
        "    - 어근 추출\n",
        "  - 피처 벡터화(BOW)\n",
        "    - Count 기반\n",
        "    - TF-IDF 기반 : 일반적으로 문서의 문장이 긴 경우 더 정확한 결과 도출\n",
        "    - 피처 벡터 데이터 세트 : 희소 행렬\n",
        "\n",
        "- 텍스트 분류\n",
        "  - 문서들을 피처 벡터화한 후, 로지스틱 회귀를 적용해 문서를 지도학습 방식으로 예측 분류\n",
        "\n",
        "- 감성 분석\n",
        "  - 지도 학습 기반으로 긍정/부정 이진 분류 이용한 방식\n",
        "  - SentiWordNet, Vader와 같은 감성 사전 Lexicon 이용한 방식\n",
        "\n",
        "- 토픽 모델링\n",
        "  - LDA(Latent Dirichlet Allocation)을 이용해 뉴스 그룹 내의 많은 문서들이 공통적으로 가지는 토픽 추출\n",
        "- 텍스트 군집화\n",
        "  - K-평균 군집화 이용해 비슷한 문서들끼리 군집화\n",
        "- 텍스트 유사도 측정\n",
        "  - 코사인 유사도를 이용해 문서들끼리 얼마나 비슷한지 측정"
      ]
    }
  ]
}