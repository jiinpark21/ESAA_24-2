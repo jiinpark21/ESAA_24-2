{
  "nbformat": 4,
  "nbformat_minor": 0,
  "metadata": {
    "colab": {
      "provenance": [],
      "authorship_tag": "ABX9TyN0gAJqoycdFzoEg2PPwGRH",
      "include_colab_link": true
    },
    "kernelspec": {
      "name": "python3",
      "display_name": "Python 3"
    },
    "language_info": {
      "name": "python"
    }
  },
  "cells": [
    {
      "cell_type": "markdown",
      "metadata": {
        "id": "view-in-github",
        "colab_type": "text"
      },
      "source": [
        "<a href=\"https://colab.research.google.com/github/jiinpark21/ESAA_24-2/blob/main/16%EC%A3%BC%EC%B0%A8_%EA%B3%BC%EC%A0%9C_1216_%ED%8C%8C%EC%9D%B4%ED%86%A0%EC%B9%98_2.ipynb\" target=\"_parent\"><img src=\"https://colab.research.google.com/assets/colab-badge.svg\" alt=\"Open In Colab\"/></a>"
      ]
    },
    {
      "cell_type": "markdown",
      "source": [
        "Pytorch로 시작하는 딥 러닝 입문\n",
        "\n",
        "ch4. 01-02, ch5. 01-04"
      ],
      "metadata": {
        "id": "XXa_6li74bPo"
      }
    },
    {
      "cell_type": "markdown",
      "source": [
        "# [Chapter 4] 로지스틱 회귀"
      ],
      "metadata": {
        "id": "vpHbU-Ss1ijI"
      }
    },
    {
      "cell_type": "markdown",
      "source": [
        "## 4-1 로지스틱 회귀(Logistic Regression)"
      ],
      "metadata": {
        "id": "Roo7ICXJ1nAL"
      }
    },
    {
      "cell_type": "markdown",
      "source": [
        "이진 분류(Binary Classification)의 대표적인 알고리즘\n",
        "- **로지스틱 회귀**(Logistic Regression)"
      ],
      "metadata": {
        "id": "G0_Evnj-4tLl"
      }
    },
    {
      "cell_type": "markdown",
      "source": [
        "### **1.이진 분류(Binary Classification)**"
      ],
      "metadata": {
        "id": "8cRPpus41rW3"
      }
    },
    {
      "cell_type": "markdown",
      "source": [
        "로지스틱 회귀\n",
        "- 선형 회귀 때의 $H(x) = Wx + b$가 아니라, S자 모양의 그래프를 만들 수 있는 특정 함수 $f$를 사용하여 $H(x) = f(Wx + b)$의 가설 사용\n",
        "- $f$ : 시그모이드 함수"
      ],
      "metadata": {
        "id": "nxtVr_hM41Ym"
      }
    },
    {
      "cell_type": "markdown",
      "source": [
        "### **2.시그모이드 함수(Sigmoid function)**"
      ],
      "metadata": {
        "id": "HPI2Yfx81uON"
      }
    },
    {
      "cell_type": "markdown",
      "source": [
        "$H(x) = sigmoid(Wx + b) = \\frac{1}{1+e^-(Wx+b)} = \\sigma(Wx + b)$"
      ],
      "metadata": {
        "id": "RHb3g6755ew0"
      }
    },
    {
      "cell_type": "code",
      "source": [
        "%matplotlib inline\n",
        "import numpy as np # 넘파이 사용\n",
        "import matplotlib.pyplot as plt # 맷플롯립사용"
      ],
      "metadata": {
        "id": "70PbVKje1y-N"
      },
      "execution_count": null,
      "outputs": []
    },
    {
      "cell_type": "code",
      "source": [
        "def sigmoid(x): # 시그모이드 함수 정의\n",
        "    return 1/(1+np.exp(-x))"
      ],
      "metadata": {
        "id": "6BsoCoM610UX"
      },
      "execution_count": null,
      "outputs": []
    },
    {
      "cell_type": "markdown",
      "source": [
        "#### 1) W=1, b=0인 그래프"
      ],
      "metadata": {
        "id": "vYi1HRfx12z_"
      }
    },
    {
      "cell_type": "code",
      "source": [
        "x = np.arange(-5.0, 5.0, 0.1)\n",
        "y = sigmoid(x)\n",
        "\n",
        "plt.plot(x, y, 'g')\n",
        "plt.plot([0,0],[1.0,0.0], ':') # 가운데 점선 추가\n",
        "plt.title('Sigmoid Function')\n",
        "plt.show()"
      ],
      "metadata": {
        "colab": {
          "base_uri": "https://localhost:8080/",
          "height": 452
        },
        "id": "fKz-Pw1j1140",
        "outputId": "dcaaaac1-b249-4974-fec8-39c14de92883"
      },
      "execution_count": null,
      "outputs": [
        {
          "output_type": "display_data",
          "data": {
            "text/plain": [
              "<Figure size 640x480 with 1 Axes>"
            ],
            "image/png": "[encoded data removed]"
          },
          "metadata": {}
        }
      ]
    },
    {
      "cell_type": "markdown",
      "source": [
        "#### 2) W값의 변화에 따른 경사도의 변화"
      ],
      "metadata": {
        "id": "vbikG19w1-_U"
      }
    },
    {
      "cell_type": "code",
      "source": [
        "x = np.arange(-5.0, 5.0, 0.1)\n",
        "y1 = sigmoid(0.5*x)\n",
        "y2 = sigmoid(x)\n",
        "y3 = sigmoid(2*x)\n",
        "\n",
        "plt.plot(x, y1, 'r', linestyle='--') # W의 값이 0.5일때\n",
        "plt.plot(x, y2, 'g') # W의 값이 1일때\n",
        "plt.plot(x, y3, 'b', linestyle='--') # W의 값이 2일때\n",
        "plt.plot([0,0],[1.0,0.0], ':') # 가운데 점선 추가\n",
        "plt.title('Sigmoid Function')\n",
        "plt.show()"
      ],
      "metadata": {
        "colab": {
          "base_uri": "https://localhost:8080/",
          "height": 452
        },
        "id": "Y6FzZUGC1__v",
        "outputId": "a16ebf3d-ac47-4f15-f509-2cd5dfbdf40a"
      },
      "execution_count": null,
      "outputs": [
        {
          "output_type": "display_data",
          "data": {
            "text/plain": [
              "<Figure size 640x480 with 1 Axes>"
            ],
            "image/png": "[encoded data removed]"
          },
          "metadata": {}
        }
      ]
    },
    {
      "cell_type": "markdown",
      "source": [
        "#### 3) b값의 변화에 따른 좌, 우 이동"
      ],
      "metadata": {
        "id": "XQM-H4h92Csj"
      }
    },
    {
      "cell_type": "code",
      "source": [
        "x = np.arange(-5.0, 5.0, 0.1)\n",
        "y1 = sigmoid(x+0.5)\n",
        "y2 = sigmoid(x+1)\n",
        "y3 = sigmoid(x+1.5)\n",
        "\n",
        "plt.plot(x, y1, 'r', linestyle='--') # x + 0.5\n",
        "plt.plot(x, y2, 'g') # x + 1\n",
        "plt.plot(x, y3, 'b', linestyle='--') # x + 1.5\n",
        "plt.plot([0,0],[1.0,0.0], ':') # 가운데 점선 추가\n",
        "plt.title('Sigmoid Function')\n",
        "plt.show()"
      ],
      "metadata": {
        "colab": {
          "base_uri": "https://localhost:8080/",
          "height": 452
        },
        "id": "-lyFGF6h2Dgl",
        "outputId": "6d258f89-d5e5-45ef-8f6c-d7b8dbe077bb"
      },
      "execution_count": null,
      "outputs": [
        {
          "output_type": "display_data",
          "data": {
            "text/plain": [
              "<Figure size 640x480 with 1 Axes>"
            ],
            "image/png": "[encoded data removed]"
          },
          "metadata": {}
        }
      ]
    },
    {
      "cell_type": "markdown",
      "source": [
        "#### 4) 시그모이드 함수를 이용한 분류"
      ],
      "metadata": {
        "id": "kDThjjwR2F8N"
      }
    },
    {
      "cell_type": "markdown",
      "source": [
        "- 시그모이드 함수는 입력값이 한없이 커지면 1에 수렴, 입력값이 한없이 작아지면 0에 수렴\n",
        "- 임계값을 설정하여 임계값 이상이면 1(True), 이하면 0(False)로 분류 가능"
      ],
      "metadata": {
        "id": "ImiO2dD06VZA"
      }
    },
    {
      "cell_type": "markdown",
      "source": [
        "### **3.비용 함수(Cost function)**"
      ],
      "metadata": {
        "id": "Q5cw6ZdW1wI0"
      }
    },
    {
      "cell_type": "markdown",
      "source": [
        "![image.png](data:image/png;base64,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)\n",
        "\n",
        "[하나의 식으로 통합]\n",
        "\n",
        "![image.png](data:image/png;base64,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)"
      ],
      "metadata": {
        "id": "Jy5UtMAE6SdA"
      }
    },
    {
      "cell_type": "markdown",
      "source": [
        "### **4.파이토치로 로지스틱 회귀 구현하기**"
      ],
      "metadata": {
        "id": "7U91u4Xj2KA2"
      }
    },
    {
      "cell_type": "code",
      "source": [
        "import torch\n",
        "import torch.nn as nn\n",
        "import torch.nn.functional as F\n",
        "import torch.optim as optim"
      ],
      "metadata": {
        "id": "CA0Es-3b2MxS"
      },
      "execution_count": null,
      "outputs": []
    },
    {
      "cell_type": "code",
      "execution_count": null,
      "metadata": {
        "id": "PqkLNMn34KFe",
        "colab": {
          "base_uri": "https://localhost:8080/"
        },
        "outputId": "52098cf0-9b4d-4313-d9f9-bd11c8932894"
      },
      "outputs": [
        {
          "output_type": "execute_result",
          "data": {
            "text/plain": [
              "<torch._C.Generator at 0x7e3c38bf8810>"
            ]
          },
          "metadata": {},
          "execution_count": 7
        }
      ],
      "source": [
        "torch.manual_seed(1)"
      ]
    },
    {
      "cell_type": "code",
      "source": [
        "x_data = [[1, 2], [2, 3], [3, 1], [4, 3], [5, 3], [6, 2]]\n",
        "y_data = [[0], [0], [0], [1], [1], [1]]\n",
        "x_train = torch.FloatTensor(x_data)\n",
        "y_train = torch.FloatTensor(y_data)"
      ],
      "metadata": {
        "id": "bm5KOwpU2Oh4"
      },
      "execution_count": null,
      "outputs": []
    },
    {
      "cell_type": "code",
      "source": [
        "print(x_train.shape)\n",
        "print(y_train.shape)"
      ],
      "metadata": {
        "colab": {
          "base_uri": "https://localhost:8080/"
        },
        "id": "Ns_-G7vp2P8n",
        "outputId": "4e4ebca0-f184-422d-a4fd-6254e3dbb8fb"
      },
      "execution_count": null,
      "outputs": [
        {
          "output_type": "stream",
          "name": "stdout",
          "text": [
            "torch.Size([6, 2])\n",
            "torch.Size([6, 1])\n"
          ]
        }
      ]
    },
    {
      "cell_type": "code",
      "source": [
        "W = torch.zeros((2, 1), requires_grad=True) # 크기는 2 x 1\n",
        "b = torch.zeros(1, requires_grad=True)"
      ],
      "metadata": {
        "id": "mUdL48B02P3h"
      },
      "execution_count": null,
      "outputs": []
    },
    {
      "cell_type": "code",
      "source": [
        "hypothesis = 1 / (1 + torch.exp(-(x_train.matmul(W) + b)))"
      ],
      "metadata": {
        "id": "QS2tSqUJ2Pxz"
      },
      "execution_count": null,
      "outputs": []
    },
    {
      "cell_type": "code",
      "source": [
        "print(hypothesis) # 예측값인 H(x) 출력"
      ],
      "metadata": {
        "colab": {
          "base_uri": "https://localhost:8080/"
        },
        "id": "3A6jmbUq2PsD",
        "outputId": "8dac141c-f533-4800-fde4-a248c4f32bb8"
      },
      "execution_count": null,
      "outputs": [
        {
          "output_type": "stream",
          "name": "stdout",
          "text": [
            "tensor([[0.5000],\n",
            "        [0.5000],\n",
            "        [0.5000],\n",
            "        [0.5000],\n",
            "        [0.5000],\n",
            "        [0.5000]], grad_fn=<MulBackward0>)\n"
          ]
        }
      ]
    },
    {
      "cell_type": "code",
      "source": [
        "hypothesis = torch.sigmoid(x_train.matmul(W) + b)"
      ],
      "metadata": {
        "id": "rhx8yd_g2Pil"
      },
      "execution_count": null,
      "outputs": []
    },
    {
      "cell_type": "code",
      "source": [
        "print(hypothesis)"
      ],
      "metadata": {
        "colab": {
          "base_uri": "https://localhost:8080/"
        },
        "id": "R-CeGaH-2PYg",
        "outputId": "109b3573-cdac-49c2-beb1-4e4b928fe0a0"
      },
      "execution_count": null,
      "outputs": [
        {
          "output_type": "stream",
          "name": "stdout",
          "text": [
            "tensor([[0.5000],\n",
            "        [0.5000],\n",
            "        [0.5000],\n",
            "        [0.5000],\n",
            "        [0.5000],\n",
            "        [0.5000]], grad_fn=<SigmoidBackward0>)\n"
          ]
        }
      ]
    },
    {
      "cell_type": "markdown",
      "source": [
        "![image.png](data:image/png;base64,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)"
      ],
      "metadata": {
        "id": "_VYmc2TM7CqS"
      }
    },
    {
      "cell_type": "code",
      "source": [
        "print(hypothesis)\n",
        "print(y_train)"
      ],
      "metadata": {
        "colab": {
          "base_uri": "https://localhost:8080/"
        },
        "id": "m9mb-l7Q2Yg4",
        "outputId": "33efcf25-c4bb-4e2c-e5f1-8682b54b7ca4"
      },
      "execution_count": null,
      "outputs": [
        {
          "output_type": "stream",
          "name": "stdout",
          "text": [
            "tensor([[0.5000],\n",
            "        [0.5000],\n",
            "        [0.5000],\n",
            "        [0.5000],\n",
            "        [0.5000],\n",
            "        [0.5000]], grad_fn=<SigmoidBackward0>)\n",
            "tensor([[0.],\n",
            "        [0.],\n",
            "        [0.],\n",
            "        [1.],\n",
            "        [1.],\n",
            "        [1.]])\n"
          ]
        }
      ]
    },
    {
      "cell_type": "code",
      "source": [
        "-(y_train[0] * torch.log(hypothesis[0]) +\n",
        "  (1 - y_train[0]) * torch.log(1 - hypothesis[0]))"
      ],
      "metadata": {
        "colab": {
          "base_uri": "https://localhost:8080/"
        },
        "id": "REXMgpVk2YaU",
        "outputId": "9d2cff66-b195-4bd7-9d78-43d3b2984db5"
      },
      "execution_count": null,
      "outputs": [
        {
          "output_type": "execute_result",
          "data": {
            "text/plain": [
              "tensor([0.6931], grad_fn=<NegBackward0>)"
            ]
          },
          "metadata": {},
          "execution_count": 16
        }
      ]
    },
    {
      "cell_type": "code",
      "source": [
        "losses = -(y_train * torch.log(hypothesis) +\n",
        "           (1 - y_train) * torch.log(1 - hypothesis))\n",
        "print(losses)"
      ],
      "metadata": {
        "colab": {
          "base_uri": "https://localhost:8080/"
        },
        "id": "Ehccu8_h2YTu",
        "outputId": "dc5d8121-154f-4825-ca94-b0875e224ab7"
      },
      "execution_count": null,
      "outputs": [
        {
          "output_type": "stream",
          "name": "stdout",
          "text": [
            "tensor([[0.6931],\n",
            "        [0.6931],\n",
            "        [0.6931],\n",
            "        [0.6931],\n",
            "        [0.6931],\n",
            "        [0.6931]], grad_fn=<NegBackward0>)\n"
          ]
        }
      ]
    },
    {
      "cell_type": "code",
      "source": [
        "cost = losses.mean()\n",
        "print(cost)"
      ],
      "metadata": {
        "colab": {
          "base_uri": "https://localhost:8080/"
        },
        "id": "iuJOruY_2YMq",
        "outputId": "f52f02ba-b580-4264-95e3-520fdbe9be5f"
      },
      "execution_count": null,
      "outputs": [
        {
          "output_type": "stream",
          "name": "stdout",
          "text": [
            "tensor(0.6931, grad_fn=<MeanBackward0>)\n"
          ]
        }
      ]
    },
    {
      "cell_type": "code",
      "source": [
        "F.binary_cross_entropy(hypothesis, y_train)"
      ],
      "metadata": {
        "colab": {
          "base_uri": "https://localhost:8080/"
        },
        "id": "17VoHvaK2YGD",
        "outputId": "89762117-6b8f-4212-e4c2-541bd12d5db2"
      },
      "execution_count": null,
      "outputs": [
        {
          "output_type": "execute_result",
          "data": {
            "text/plain": [
              "tensor(0.6931, grad_fn=<BinaryCrossEntropyBackward0>)"
            ]
          },
          "metadata": {},
          "execution_count": 19
        }
      ]
    },
    {
      "cell_type": "code",
      "source": [
        "x_data = [[1, 2], [2, 3], [3, 1], [4, 3], [5, 3], [6, 2]]\n",
        "y_data = [[0], [0], [0], [1], [1], [1]]\n",
        "x_train = torch.FloatTensor(x_data)\n",
        "y_train = torch.FloatTensor(y_data)"
      ],
      "metadata": {
        "id": "TTPelQ0C2X9z"
      },
      "execution_count": null,
      "outputs": []
    },
    {
      "cell_type": "code",
      "source": [
        "# 모델 초기화\n",
        "W = torch.zeros((2, 1), requires_grad=True)\n",
        "b = torch.zeros(1, requires_grad=True)\n",
        "# optimizer 설정\n",
        "optimizer = optim.SGD([W, b], lr=1)\n",
        "\n",
        "nb_epochs = 1000\n",
        "for epoch in range(nb_epochs + 1):\n",
        "\n",
        "    # Cost 계산\n",
        "    hypothesis = torch.sigmoid(x_train.matmul(W) + b)\n",
        "    cost = -(y_train * torch.log(hypothesis) +\n",
        "             (1 - y_train) * torch.log(1 - hypothesis)).mean()\n",
        "\n",
        "    # cost로 H(x) 개선\n",
        "    optimizer.zero_grad()\n",
        "    cost.backward()\n",
        "    optimizer.step()\n",
        "\n",
        "    # 100번마다 로그 출력\n",
        "    if epoch % 100 == 0:\n",
        "        print('Epoch {:4d}/{} Cost: {:.6f}'.format(\n",
        "            epoch, nb_epochs, cost.item()\n",
        "        ))"
      ],
      "metadata": {
        "colab": {
          "base_uri": "https://localhost:8080/"
        },
        "id": "MzTVH-TC2i9T",
        "outputId": "6bf9c1d8-82e3-4177-dd29-49e158e9cc7e"
      },
      "execution_count": null,
      "outputs": [
        {
          "output_type": "stream",
          "name": "stdout",
          "text": [
            "Epoch    0/1000 Cost: 0.693147\n",
            "Epoch  100/1000 Cost: 0.134722\n",
            "Epoch  200/1000 Cost: 0.080643\n",
            "Epoch  300/1000 Cost: 0.057900\n",
            "Epoch  400/1000 Cost: 0.045300\n",
            "Epoch  500/1000 Cost: 0.037261\n",
            "Epoch  600/1000 Cost: 0.031673\n",
            "Epoch  700/1000 Cost: 0.027556\n",
            "Epoch  800/1000 Cost: 0.024394\n",
            "Epoch  900/1000 Cost: 0.021888\n",
            "Epoch 1000/1000 Cost: 0.019852\n"
          ]
        }
      ]
    },
    {
      "cell_type": "code",
      "source": [
        "hypothesis = torch.sigmoid(x_train.matmul(W) + b)\n",
        "print(hypothesis)"
      ],
      "metadata": {
        "colab": {
          "base_uri": "https://localhost:8080/"
        },
        "id": "NoQ5o0lV2isH",
        "outputId": "6dad0f62-ce59-4779-d5fa-a58a40230d08"
      },
      "execution_count": null,
      "outputs": [
        {
          "output_type": "stream",
          "name": "stdout",
          "text": [
            "tensor([[2.7648e-04],\n",
            "        [3.1608e-02],\n",
            "        [3.8977e-02],\n",
            "        [9.5622e-01],\n",
            "        [9.9823e-01],\n",
            "        [9.9969e-01]], grad_fn=<SigmoidBackward0>)\n"
          ]
        }
      ]
    },
    {
      "cell_type": "code",
      "source": [
        "prediction = hypothesis >= torch.FloatTensor([0.5])\n",
        "print(prediction)"
      ],
      "metadata": {
        "colab": {
          "base_uri": "https://localhost:8080/"
        },
        "id": "946Yv7JO2im9",
        "outputId": "0029558d-d156-4436-864f-fe2efa71d71e"
      },
      "execution_count": null,
      "outputs": [
        {
          "output_type": "stream",
          "name": "stdout",
          "text": [
            "tensor([[False],\n",
            "        [False],\n",
            "        [False],\n",
            "        [ True],\n",
            "        [ True],\n",
            "        [ True]])\n"
          ]
        }
      ]
    },
    {
      "cell_type": "code",
      "source": [
        "print(W)\n",
        "print(b)"
      ],
      "metadata": {
        "colab": {
          "base_uri": "https://localhost:8080/"
        },
        "id": "jbc5B8dq2ihw",
        "outputId": "c97e9235-5805-4e55-f132-dce587200665"
      },
      "execution_count": null,
      "outputs": [
        {
          "output_type": "stream",
          "name": "stdout",
          "text": [
            "tensor([[3.2530],\n",
            "        [1.5179]], requires_grad=True)\n",
            "tensor([-14.4819], requires_grad=True)\n"
          ]
        }
      ]
    },
    {
      "cell_type": "markdown",
      "source": [
        "## 4-2 nn.Module과 클래스로 구현하는 로지스틱 회귀"
      ],
      "metadata": {
        "id": "ocJWv4z23BZ3"
      }
    },
    {
      "cell_type": "markdown",
      "source": [
        "### **1.파이토치의 nn.Linear와 nn.Sigmoid로 로지스틱 회귀 구현하기**"
      ],
      "metadata": {
        "id": "SMyf463F3EPo"
      }
    },
    {
      "cell_type": "code",
      "source": [
        "import torch\n",
        "import torch.nn as nn\n",
        "import torch.nn.functional as F\n",
        "import torch.optim as optim"
      ],
      "metadata": {
        "id": "QvKU9BUp2ibR"
      },
      "execution_count": null,
      "outputs": []
    },
    {
      "cell_type": "code",
      "source": [
        "torch.manual_seed(1)"
      ],
      "metadata": {
        "colab": {
          "base_uri": "https://localhost:8080/"
        },
        "id": "muesz93w3NzG",
        "outputId": "2a20d914-084a-4712-930f-dc1a956f303c"
      },
      "execution_count": null,
      "outputs": [
        {
          "output_type": "execute_result",
          "data": {
            "text/plain": [
              "<torch._C.Generator at 0x7e3c38bf8810>"
            ]
          },
          "metadata": {},
          "execution_count": 26
        }
      ]
    },
    {
      "cell_type": "code",
      "source": [
        "x_data = [[1, 2], [2, 3], [3, 1], [4, 3], [5, 3], [6, 2]]\n",
        "y_data = [[0], [0], [0], [1], [1], [1]]\n",
        "x_train = torch.FloatTensor(x_data)\n",
        "y_train = torch.FloatTensor(y_data)"
      ],
      "metadata": {
        "id": "y6BQXss63Nve"
      },
      "execution_count": null,
      "outputs": []
    },
    {
      "cell_type": "code",
      "source": [
        "model = nn.Sequential(\n",
        "   nn.Linear(2, 1), # input_dim = 2, output_dim = 1\n",
        "   nn.Sigmoid() # 출력은 시그모이드 함수를 거친다\n",
        ")"
      ],
      "metadata": {
        "id": "D0iQoqvP3NpV"
      },
      "execution_count": null,
      "outputs": []
    },
    {
      "cell_type": "code",
      "source": [
        "model(x_train)"
      ],
      "metadata": {
        "colab": {
          "base_uri": "https://localhost:8080/"
        },
        "id": "wzlZ3L3T3NjA",
        "outputId": "3b24925e-16ea-472d-c4aa-794408aa4a83"
      },
      "execution_count": null,
      "outputs": [
        {
          "output_type": "execute_result",
          "data": {
            "text/plain": [
              "tensor([[0.4020],\n",
              "        [0.4147],\n",
              "        [0.6556],\n",
              "        [0.5948],\n",
              "        [0.6788],\n",
              "        [0.8061]], grad_fn=<SigmoidBackward0>)"
            ]
          },
          "metadata": {},
          "execution_count": 29
        }
      ]
    },
    {
      "cell_type": "code",
      "source": [
        "# optimizer 설정\n",
        "optimizer = optim.SGD(model.parameters(), lr=1)\n",
        "\n",
        "nb_epochs = 1000\n",
        "for epoch in range(nb_epochs + 1):\n",
        "\n",
        "    # H(x) 계산\n",
        "    hypothesis = model(x_train)\n",
        "\n",
        "    # cost 계산\n",
        "    cost = F.binary_cross_entropy(hypothesis, y_train)\n",
        "\n",
        "    # cost로 H(x) 개선\n",
        "    optimizer.zero_grad()\n",
        "    cost.backward()\n",
        "    optimizer.step()\n",
        "\n",
        "    # 20번마다 로그 출력\n",
        "    if epoch % 10 == 0:\n",
        "        prediction = hypothesis >= torch.FloatTensor([0.5]) # 예측값이 0.5를 넘으면 True로 간주\n",
        "        correct_prediction = prediction.float() == y_train # 실제값과 일치하는 경우만 True로 간주\n",
        "        accuracy = correct_prediction.sum().item() / len(correct_prediction) # 정확도를 계산\n",
        "        print('Epoch {:4d}/{} Cost: {:.6f} Accuracy {:2.2f}%'.format( # 각 에포크마다 정확도를 출력\n",
        "            epoch, nb_epochs, cost.item(), accuracy * 100,\n",
        "        ))"
      ],
      "metadata": {
        "colab": {
          "base_uri": "https://localhost:8080/"
        },
        "id": "ymxjwfti3Ncv",
        "outputId": "90e5ba74-ae84-474c-85b9-04a1464a4cac"
      },
      "execution_count": null,
      "outputs": [
        {
          "output_type": "stream",
          "name": "stdout",
          "text": [
            "Epoch    0/1000 Cost: 0.539713 Accuracy 83.33%\n",
            "Epoch   10/1000 Cost: 0.614853 Accuracy 66.67%\n",
            "Epoch   20/1000 Cost: 0.441875 Accuracy 66.67%\n",
            "Epoch   30/1000 Cost: 0.373145 Accuracy 83.33%\n",
            "Epoch   40/1000 Cost: 0.316358 Accuracy 83.33%\n",
            "Epoch   50/1000 Cost: 0.266094 Accuracy 83.33%\n",
            "Epoch   60/1000 Cost: 0.220498 Accuracy 100.00%\n",
            "Epoch   70/1000 Cost: 0.182095 Accuracy 100.00%\n",
            "Epoch   80/1000 Cost: 0.157299 Accuracy 100.00%\n",
            "Epoch   90/1000 Cost: 0.144091 Accuracy 100.00%\n",
            "Epoch  100/1000 Cost: 0.134272 Accuracy 100.00%\n",
            "Epoch  110/1000 Cost: 0.125769 Accuracy 100.00%\n",
            "Epoch  120/1000 Cost: 0.118297 Accuracy 100.00%\n",
            "Epoch  130/1000 Cost: 0.111680 Accuracy 100.00%\n",
            "Epoch  140/1000 Cost: 0.105779 Accuracy 100.00%\n",
            "Epoch  150/1000 Cost: 0.100483 Accuracy 100.00%\n",
            "Epoch  160/1000 Cost: 0.095704 Accuracy 100.00%\n",
            "Epoch  170/1000 Cost: 0.091369 Accuracy 100.00%\n",
            "Epoch  180/1000 Cost: 0.087420 Accuracy 100.00%\n",
            "Epoch  190/1000 Cost: 0.083806 Accuracy 100.00%\n",
            "Epoch  200/1000 Cost: 0.080486 Accuracy 100.00%\n",
            "Epoch  210/1000 Cost: 0.077425 Accuracy 100.00%\n",
            "Epoch  220/1000 Cost: 0.074595 Accuracy 100.00%\n",
            "Epoch  230/1000 Cost: 0.071969 Accuracy 100.00%\n",
            "Epoch  240/1000 Cost: 0.069526 Accuracy 100.00%\n",
            "Epoch  250/1000 Cost: 0.067248 Accuracy 100.00%\n",
            "Epoch  260/1000 Cost: 0.065118 Accuracy 100.00%\n",
            "Epoch  270/1000 Cost: 0.063122 Accuracy 100.00%\n",
            "Epoch  280/1000 Cost: 0.061247 Accuracy 100.00%\n",
            "Epoch  290/1000 Cost: 0.059483 Accuracy 100.00%\n",
            "Epoch  300/1000 Cost: 0.057820 Accuracy 100.00%\n",
            "Epoch  310/1000 Cost: 0.056250 Accuracy 100.00%\n",
            "Epoch  320/1000 Cost: 0.054764 Accuracy 100.00%\n",
            "Epoch  330/1000 Cost: 0.053357 Accuracy 100.00%\n",
            "Epoch  340/1000 Cost: 0.052022 Accuracy 100.00%\n",
            "Epoch  350/1000 Cost: 0.050753 Accuracy 100.00%\n",
            "Epoch  360/1000 Cost: 0.049546 Accuracy 100.00%\n",
            "Epoch  370/1000 Cost: 0.048396 Accuracy 100.00%\n",
            "Epoch  380/1000 Cost: 0.047299 Accuracy 100.00%\n",
            "Epoch  390/1000 Cost: 0.046252 Accuracy 100.00%\n",
            "Epoch  400/1000 Cost: 0.045251 Accuracy 100.00%\n",
            "Epoch  410/1000 Cost: 0.044294 Accuracy 100.00%\n",
            "Epoch  420/1000 Cost: 0.043376 Accuracy 100.00%\n",
            "Epoch  430/1000 Cost: 0.042497 Accuracy 100.00%\n",
            "Epoch  440/1000 Cost: 0.041653 Accuracy 100.00%\n",
            "Epoch  450/1000 Cost: 0.040843 Accuracy 100.00%\n",
            "Epoch  460/1000 Cost: 0.040064 Accuracy 100.00%\n",
            "Epoch  470/1000 Cost: 0.039315 Accuracy 100.00%\n",
            "Epoch  480/1000 Cost: 0.038593 Accuracy 100.00%\n",
            "Epoch  490/1000 Cost: 0.037898 Accuracy 100.00%\n",
            "Epoch  500/1000 Cost: 0.037228 Accuracy 100.00%\n",
            "Epoch  510/1000 Cost: 0.036582 Accuracy 100.00%\n",
            "Epoch  520/1000 Cost: 0.035958 Accuracy 100.00%\n",
            "Epoch  530/1000 Cost: 0.035356 Accuracy 100.00%\n",
            "Epoch  540/1000 Cost: 0.034773 Accuracy 100.00%\n",
            "Epoch  550/1000 Cost: 0.034210 Accuracy 100.00%\n",
            "Epoch  560/1000 Cost: 0.033664 Accuracy 100.00%\n",
            "Epoch  570/1000 Cost: 0.033137 Accuracy 100.00%\n",
            "Epoch  580/1000 Cost: 0.032625 Accuracy 100.00%\n",
            "Epoch  590/1000 Cost: 0.032130 Accuracy 100.00%\n",
            "Epoch  600/1000 Cost: 0.031649 Accuracy 100.00%\n",
            "Epoch  610/1000 Cost: 0.031183 Accuracy 100.00%\n",
            "Epoch  620/1000 Cost: 0.030730 Accuracy 100.00%\n",
            "Epoch  630/1000 Cost: 0.030291 Accuracy 100.00%\n",
            "Epoch  640/1000 Cost: 0.029864 Accuracy 100.00%\n",
            "Epoch  650/1000 Cost: 0.029449 Accuracy 100.00%\n",
            "Epoch  660/1000 Cost: 0.029046 Accuracy 100.00%\n",
            "Epoch  670/1000 Cost: 0.028654 Accuracy 100.00%\n",
            "Epoch  680/1000 Cost: 0.028272 Accuracy 100.00%\n",
            "Epoch  690/1000 Cost: 0.027900 Accuracy 100.00%\n",
            "Epoch  700/1000 Cost: 0.027538 Accuracy 100.00%\n",
            "Epoch  710/1000 Cost: 0.027186 Accuracy 100.00%\n",
            "Epoch  720/1000 Cost: 0.026842 Accuracy 100.00%\n",
            "Epoch  730/1000 Cost: 0.026507 Accuracy 100.00%\n",
            "Epoch  740/1000 Cost: 0.026181 Accuracy 100.00%\n",
            "Epoch  750/1000 Cost: 0.025862 Accuracy 100.00%\n",
            "Epoch  760/1000 Cost: 0.025552 Accuracy 100.00%\n",
            "Epoch  770/1000 Cost: 0.025248 Accuracy 100.00%\n",
            "Epoch  780/1000 Cost: 0.024952 Accuracy 100.00%\n",
            "Epoch  790/1000 Cost: 0.024663 Accuracy 100.00%\n",
            "Epoch  800/1000 Cost: 0.024381 Accuracy 100.00%\n",
            "Epoch  810/1000 Cost: 0.024104 Accuracy 100.00%\n",
            "Epoch  820/1000 Cost: 0.023835 Accuracy 100.00%\n",
            "Epoch  830/1000 Cost: 0.023571 Accuracy 100.00%\n",
            "Epoch  840/1000 Cost: 0.023313 Accuracy 100.00%\n",
            "Epoch  850/1000 Cost: 0.023061 Accuracy 100.00%\n",
            "Epoch  860/1000 Cost: 0.022814 Accuracy 100.00%\n",
            "Epoch  870/1000 Cost: 0.022572 Accuracy 100.00%\n",
            "Epoch  880/1000 Cost: 0.022336 Accuracy 100.00%\n",
            "Epoch  890/1000 Cost: 0.022104 Accuracy 100.00%\n",
            "Epoch  900/1000 Cost: 0.021877 Accuracy 100.00%\n",
            "Epoch  910/1000 Cost: 0.021655 Accuracy 100.00%\n",
            "Epoch  920/1000 Cost: 0.021437 Accuracy 100.00%\n",
            "Epoch  930/1000 Cost: 0.021224 Accuracy 100.00%\n",
            "Epoch  940/1000 Cost: 0.021015 Accuracy 100.00%\n",
            "Epoch  950/1000 Cost: 0.020810 Accuracy 100.00%\n",
            "Epoch  960/1000 Cost: 0.020609 Accuracy 100.00%\n",
            "Epoch  970/1000 Cost: 0.020412 Accuracy 100.00%\n",
            "Epoch  980/1000 Cost: 0.020219 Accuracy 100.00%\n",
            "Epoch  990/1000 Cost: 0.020029 Accuracy 100.00%\n",
            "Epoch 1000/1000 Cost: 0.019843 Accuracy 100.00%\n"
          ]
        }
      ]
    },
    {
      "cell_type": "code",
      "source": [
        "model(x_train)"
      ],
      "metadata": {
        "colab": {
          "base_uri": "https://localhost:8080/"
        },
        "id": "gaLxyx153NUn",
        "outputId": "8bef237f-2dd7-47c4-c81e-6edf1991ab5b"
      },
      "execution_count": null,
      "outputs": [
        {
          "output_type": "execute_result",
          "data": {
            "text/plain": [
              "tensor([[2.7616e-04],\n",
              "        [3.1595e-02],\n",
              "        [3.8959e-02],\n",
              "        [9.5624e-01],\n",
              "        [9.9823e-01],\n",
              "        [9.9969e-01]], grad_fn=<SigmoidBackward0>)"
            ]
          },
          "metadata": {},
          "execution_count": 31
        }
      ]
    },
    {
      "cell_type": "code",
      "source": [
        "print(list(model.parameters()))"
      ],
      "metadata": {
        "colab": {
          "base_uri": "https://localhost:8080/"
        },
        "id": "X4fxLP7p2hhu",
        "outputId": "9f8b8fdd-ab36-43fd-d117-fd2c1a433e6b"
      },
      "execution_count": null,
      "outputs": [
        {
          "output_type": "stream",
          "name": "stdout",
          "text": [
            "[Parameter containing:\n",
            "tensor([[3.2534, 1.5181]], requires_grad=True), Parameter containing:\n",
            "tensor([-14.4839], requires_grad=True)]\n"
          ]
        }
      ]
    },
    {
      "cell_type": "markdown",
      "source": [
        "### **2.인공 신경망으로 표현되는 로지스틱 회귀**"
      ],
      "metadata": {
        "id": "_1WtcDP83ZYl"
      }
    },
    {
      "cell_type": "markdown",
      "source": [
        "![image.png](data:image/png;base64,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)"
      ],
      "metadata": {
        "id": "_A1apWD97OBZ"
      }
    },
    {
      "cell_type": "markdown",
      "source": [
        "위 그림의 인공 신경망은 다음과 같은 다중 로지스틱 회귀 포함\n",
        "\n",
        "$H(x) = sigmoid(x_1w_1 + x_2w_2 + b)$"
      ],
      "metadata": {
        "id": "aK3t2uiL7UzF"
      }
    },
    {
      "cell_type": "markdown",
      "source": [
        "### **3.모델을 클래스로 구현하기**"
      ],
      "metadata": {
        "id": "SOKTD_Qv3fl4"
      }
    },
    {
      "cell_type": "code",
      "source": [
        "model = nn.Sequential(\n",
        "   nn.Linear(2, 1), # input_dim = 2, output_dim = 1\n",
        "   nn.Sigmoid() # 출력은 시그모이드 함수를 거친다\n",
        ")"
      ],
      "metadata": {
        "id": "uIcyL3uu3Yph"
      },
      "execution_count": null,
      "outputs": []
    },
    {
      "cell_type": "code",
      "source": [
        "class BinaryClassifier(nn.Module):\n",
        "    def __init__(self):\n",
        "        super().__init__()\n",
        "        self.linear = nn.Linear(2, 1)\n",
        "        self.sigmoid = nn.Sigmoid()\n",
        "\n",
        "    def forward(self, x):\n",
        "        return self.sigmoid(self.linear(x))"
      ],
      "metadata": {
        "id": "wW0qh5xi3Yi-"
      },
      "execution_count": null,
      "outputs": []
    },
    {
      "cell_type": "markdown",
      "source": [
        "### **4.로지스틱 회귀 클래스로 구현하기**"
      ],
      "metadata": {
        "id": "l6VjJHZO3lja"
      }
    },
    {
      "cell_type": "code",
      "source": [
        "import torch\n",
        "import torch.nn as nn\n",
        "import torch.nn.functional as F\n",
        "import torch.optim as optim"
      ],
      "metadata": {
        "id": "rf54cyN73Yc0"
      },
      "execution_count": null,
      "outputs": []
    },
    {
      "cell_type": "code",
      "source": [
        "torch.manual_seed(1)"
      ],
      "metadata": {
        "colab": {
          "base_uri": "https://localhost:8080/"
        },
        "id": "GG5zXyve3YW2",
        "outputId": "801b49c6-b2e6-4eab-9314-31ebf71f4264"
      },
      "execution_count": null,
      "outputs": [
        {
          "output_type": "execute_result",
          "data": {
            "text/plain": [
              "<torch._C.Generator at 0x7e3c38bf8810>"
            ]
          },
          "metadata": {},
          "execution_count": 36
        }
      ]
    },
    {
      "cell_type": "code",
      "source": [
        "x_data = [[1, 2], [2, 3], [3, 1], [4, 3], [5, 3], [6, 2]]\n",
        "y_data = [[0], [0], [0], [1], [1], [1]]\n",
        "x_train = torch.FloatTensor(x_data)\n",
        "y_train = torch.FloatTensor(y_data)"
      ],
      "metadata": {
        "id": "LhYjCYan3YP7"
      },
      "execution_count": null,
      "outputs": []
    },
    {
      "cell_type": "code",
      "source": [
        "class BinaryClassifier(nn.Module):\n",
        "    def __init__(self):\n",
        "        super().__init__()\n",
        "        self.linear = nn.Linear(2, 1)\n",
        "        self.sigmoid = nn.Sigmoid()\n",
        "\n",
        "    def forward(self, x):\n",
        "        return self.sigmoid(self.linear(x))\n",
        "\n",
        "model = BinaryClassifier()"
      ],
      "metadata": {
        "id": "ZL5CEiFD3YKL"
      },
      "execution_count": null,
      "outputs": []
    },
    {
      "cell_type": "code",
      "source": [
        "# optimizer 설정\n",
        "optimizer = optim.SGD(model.parameters(), lr=1)\n",
        "\n",
        "nb_epochs = 1000\n",
        "for epoch in range(nb_epochs + 1):\n",
        "\n",
        "    # H(x) 계산\n",
        "    hypothesis = model(x_train)\n",
        "\n",
        "    # cost 계산\n",
        "    cost = F.binary_cross_entropy(hypothesis, y_train)\n",
        "\n",
        "    # cost로 H(x) 개선\n",
        "    optimizer.zero_grad()\n",
        "    cost.backward()\n",
        "    optimizer.step()\n",
        "\n",
        "    # 20번마다 로그 출력\n",
        "    if epoch % 10 == 0:\n",
        "        prediction = hypothesis >= torch.FloatTensor([0.5]) # 예측값이 0.5를 넘으면 True로 간주\n",
        "        correct_prediction = prediction.float() == y_train # 실제값과 일치하는 경우만 True로 간주\n",
        "        accuracy = correct_prediction.sum().item() / len(correct_prediction) # 정확도를 계산\n",
        "        print('Epoch {:4d}/{} Cost: {:.6f} Accuracy {:2.2f}%'.format( # 각 에포크마다 정확도를 출력\n",
        "            epoch, nb_epochs, cost.item(), accuracy * 100,\n",
        "        ))"
      ],
      "metadata": {
        "colab": {
          "base_uri": "https://localhost:8080/"
        },
        "id": "bHXTAd653uRC",
        "outputId": "b401be9d-7a9d-48d4-b87e-ce71e9368bfc"
      },
      "execution_count": null,
      "outputs": [
        {
          "output_type": "stream",
          "name": "stdout",
          "text": [
            "Epoch    0/1000 Cost: 0.539713 Accuracy 83.33%\n",
            "Epoch   10/1000 Cost: 0.614853 Accuracy 66.67%\n",
            "Epoch   20/1000 Cost: 0.441875 Accuracy 66.67%\n",
            "Epoch   30/1000 Cost: 0.373145 Accuracy 83.33%\n",
            "Epoch   40/1000 Cost: 0.316358 Accuracy 83.33%\n",
            "Epoch   50/1000 Cost: 0.266094 Accuracy 83.33%\n",
            "Epoch   60/1000 Cost: 0.220498 Accuracy 100.00%\n",
            "Epoch   70/1000 Cost: 0.182095 Accuracy 100.00%\n",
            "Epoch   80/1000 Cost: 0.157299 Accuracy 100.00%\n",
            "Epoch   90/1000 Cost: 0.144091 Accuracy 100.00%\n",
            "Epoch  100/1000 Cost: 0.134272 Accuracy 100.00%\n",
            "Epoch  110/1000 Cost: 0.125769 Accuracy 100.00%\n",
            "Epoch  120/1000 Cost: 0.118297 Accuracy 100.00%\n",
            "Epoch  130/1000 Cost: 0.111680 Accuracy 100.00%\n",
            "Epoch  140/1000 Cost: 0.105779 Accuracy 100.00%\n",
            "Epoch  150/1000 Cost: 0.100483 Accuracy 100.00%\n",
            "Epoch  160/1000 Cost: 0.095704 Accuracy 100.00%\n",
            "Epoch  170/1000 Cost: 0.091369 Accuracy 100.00%\n",
            "Epoch  180/1000 Cost: 0.087420 Accuracy 100.00%\n",
            "Epoch  190/1000 Cost: 0.083806 Accuracy 100.00%\n",
            "Epoch  200/1000 Cost: 0.080486 Accuracy 100.00%\n",
            "Epoch  210/1000 Cost: 0.077425 Accuracy 100.00%\n",
            "Epoch  220/1000 Cost: 0.074595 Accuracy 100.00%\n",
            "Epoch  230/1000 Cost: 0.071969 Accuracy 100.00%\n",
            "Epoch  240/1000 Cost: 0.069526 Accuracy 100.00%\n",
            "Epoch  250/1000 Cost: 0.067248 Accuracy 100.00%\n",
            "Epoch  260/1000 Cost: 0.065118 Accuracy 100.00%\n",
            "Epoch  270/1000 Cost: 0.063122 Accuracy 100.00%\n",
            "Epoch  280/1000 Cost: 0.061247 Accuracy 100.00%\n",
            "Epoch  290/1000 Cost: 0.059483 Accuracy 100.00%\n",
            "Epoch  300/1000 Cost: 0.057820 Accuracy 100.00%\n",
            "Epoch  310/1000 Cost: 0.056250 Accuracy 100.00%\n",
            "Epoch  320/1000 Cost: 0.054764 Accuracy 100.00%\n",
            "Epoch  330/1000 Cost: 0.053357 Accuracy 100.00%\n",
            "Epoch  340/1000 Cost: 0.052022 Accuracy 100.00%\n",
            "Epoch  350/1000 Cost: 0.050753 Accuracy 100.00%\n",
            "Epoch  360/1000 Cost: 0.049546 Accuracy 100.00%\n",
            "Epoch  370/1000 Cost: 0.048396 Accuracy 100.00%\n",
            "Epoch  380/1000 Cost: 0.047299 Accuracy 100.00%\n",
            "Epoch  390/1000 Cost: 0.046252 Accuracy 100.00%\n",
            "Epoch  400/1000 Cost: 0.045251 Accuracy 100.00%\n",
            "Epoch  410/1000 Cost: 0.044294 Accuracy 100.00%\n",
            "Epoch  420/1000 Cost: 0.043376 Accuracy 100.00%\n",
            "Epoch  430/1000 Cost: 0.042497 Accuracy 100.00%\n",
            "Epoch  440/1000 Cost: 0.041653 Accuracy 100.00%\n",
            "Epoch  450/1000 Cost: 0.040843 Accuracy 100.00%\n",
            "Epoch  460/1000 Cost: 0.040064 Accuracy 100.00%\n",
            "Epoch  470/1000 Cost: 0.039315 Accuracy 100.00%\n",
            "Epoch  480/1000 Cost: 0.038593 Accuracy 100.00%\n",
            "Epoch  490/1000 Cost: 0.037898 Accuracy 100.00%\n",
            "Epoch  500/1000 Cost: 0.037228 Accuracy 100.00%\n",
            "Epoch  510/1000 Cost: 0.036582 Accuracy 100.00%\n",
            "Epoch  520/1000 Cost: 0.035958 Accuracy 100.00%\n",
            "Epoch  530/1000 Cost: 0.035356 Accuracy 100.00%\n",
            "Epoch  540/1000 Cost: 0.034773 Accuracy 100.00%\n",
            "Epoch  550/1000 Cost: 0.034210 Accuracy 100.00%\n",
            "Epoch  560/1000 Cost: 0.033664 Accuracy 100.00%\n",
            "Epoch  570/1000 Cost: 0.033137 Accuracy 100.00%\n",
            "Epoch  580/1000 Cost: 0.032625 Accuracy 100.00%\n",
            "Epoch  590/1000 Cost: 0.032130 Accuracy 100.00%\n",
            "Epoch  600/1000 Cost: 0.031649 Accuracy 100.00%\n",
            "Epoch  610/1000 Cost: 0.031183 Accuracy 100.00%\n",
            "Epoch  620/1000 Cost: 0.030730 Accuracy 100.00%\n",
            "Epoch  630/1000 Cost: 0.030291 Accuracy 100.00%\n",
            "Epoch  640/1000 Cost: 0.029864 Accuracy 100.00%\n",
            "Epoch  650/1000 Cost: 0.029449 Accuracy 100.00%\n",
            "Epoch  660/1000 Cost: 0.029046 Accuracy 100.00%\n",
            "Epoch  670/1000 Cost: 0.028654 Accuracy 100.00%\n",
            "Epoch  680/1000 Cost: 0.028272 Accuracy 100.00%\n",
            "Epoch  690/1000 Cost: 0.027900 Accuracy 100.00%\n",
            "Epoch  700/1000 Cost: 0.027538 Accuracy 100.00%\n",
            "Epoch  710/1000 Cost: 0.027186 Accuracy 100.00%\n",
            "Epoch  720/1000 Cost: 0.026842 Accuracy 100.00%\n",
            "Epoch  730/1000 Cost: 0.026507 Accuracy 100.00%\n",
            "Epoch  740/1000 Cost: 0.026181 Accuracy 100.00%\n",
            "Epoch  750/1000 Cost: 0.025862 Accuracy 100.00%\n",
            "Epoch  760/1000 Cost: 0.025552 Accuracy 100.00%\n",
            "Epoch  770/1000 Cost: 0.025248 Accuracy 100.00%\n",
            "Epoch  780/1000 Cost: 0.024952 Accuracy 100.00%\n",
            "Epoch  790/1000 Cost: 0.024663 Accuracy 100.00%\n",
            "Epoch  800/1000 Cost: 0.024381 Accuracy 100.00%\n",
            "Epoch  810/1000 Cost: 0.024104 Accuracy 100.00%\n",
            "Epoch  820/1000 Cost: 0.023835 Accuracy 100.00%\n",
            "Epoch  830/1000 Cost: 0.023571 Accuracy 100.00%\n",
            "Epoch  840/1000 Cost: 0.023313 Accuracy 100.00%\n",
            "Epoch  850/1000 Cost: 0.023061 Accuracy 100.00%\n",
            "Epoch  860/1000 Cost: 0.022814 Accuracy 100.00%\n",
            "Epoch  870/1000 Cost: 0.022572 Accuracy 100.00%\n",
            "Epoch  880/1000 Cost: 0.022336 Accuracy 100.00%\n",
            "Epoch  890/1000 Cost: 0.022104 Accuracy 100.00%\n",
            "Epoch  900/1000 Cost: 0.021877 Accuracy 100.00%\n",
            "Epoch  910/1000 Cost: 0.021655 Accuracy 100.00%\n",
            "Epoch  920/1000 Cost: 0.021437 Accuracy 100.00%\n",
            "Epoch  930/1000 Cost: 0.021224 Accuracy 100.00%\n",
            "Epoch  940/1000 Cost: 0.021015 Accuracy 100.00%\n",
            "Epoch  950/1000 Cost: 0.020810 Accuracy 100.00%\n",
            "Epoch  960/1000 Cost: 0.020609 Accuracy 100.00%\n",
            "Epoch  970/1000 Cost: 0.020412 Accuracy 100.00%\n",
            "Epoch  980/1000 Cost: 0.020219 Accuracy 100.00%\n",
            "Epoch  990/1000 Cost: 0.020029 Accuracy 100.00%\n",
            "Epoch 1000/1000 Cost: 0.019843 Accuracy 100.00%\n"
          ]
        }
      ]
    },
    {
      "cell_type": "markdown",
      "source": [
        "# [Chapter 5] 소프트맥스 회귀(Softmax Regression)"
      ],
      "metadata": {
        "id": "QA2n5A5y3wFw"
      }
    },
    {
      "cell_type": "markdown",
      "source": [
        "## 5-1 원-핫 인코딩(One-Hot Encoding)"
      ],
      "metadata": {
        "id": "gRQ6zpyn31QN"
      }
    },
    {
      "cell_type": "markdown",
      "source": [
        "### **1.원-핫 인코딩이란?**"
      ],
      "metadata": {
        "id": "XDDCkU2f34YO"
      }
    },
    {
      "cell_type": "markdown",
      "source": [
        "원-핫 인코딩 : 선택해야 하는 선택지의 개수만큼의 차원을 가지면서, 각 선택지의 인덱스에 해당하는 원소에는 1, 나머지 원소는 0의 값을 가지도록 하는 표현 방법"
      ],
      "metadata": {
        "id": "-jRQsFRM73wA"
      }
    },
    {
      "cell_type": "markdown",
      "source": [
        "### **2.원-핫 벡터의 무작위성**"
      ],
      "metadata": {
        "id": "bT4zI-8337ga"
      }
    },
    {
      "cell_type": "markdown",
      "source": [
        "- 일반적인 분류 문제에서 각 클래스는 순서의 의미를 갖고 있지 않음\n",
        "- 따라서 각 클래스 간의 오차는 균등해야 함\n",
        "- 정수 인코딩과 달리 원-핫 인코딩은 모든 클래스 간의 관계를 균등하게 분배\n",
        "> 원-핫 벡터는 무작위성을 가짐"
      ],
      "metadata": {
        "id": "5oy_em_E79ML"
      }
    },
    {
      "cell_type": "markdown",
      "source": [
        "## 5-2 소프트맥스 회귀 이해하기"
      ],
      "metadata": {
        "id": "Y-phi90U3-Dn"
      }
    },
    {
      "cell_type": "markdown",
      "source": [
        "### **1.다중 클래스 분류(Multi-class Classification)**"
      ],
      "metadata": {
        "id": "fQj56A3t4B4L"
      }
    },
    {
      "cell_type": "markdown",
      "source": [
        "#### 1) 로지스틱 회귀"
      ],
      "metadata": {
        "id": "5GZl6t5r4LWf"
      }
    },
    {
      "cell_type": "markdown",
      "source": [
        "- 시그모이드 함수의 예측값 : 0과 1 사이의 값\n",
        "\n",
        "![image.png](data:image/png;base64,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)"
      ],
      "metadata": {
        "id": "crI43SAf8c5m"
      }
    },
    {
      "cell_type": "markdown",
      "source": [
        "#### 2) 소프트맥스 회귀"
      ],
      "metadata": {
        "id": "rs1RORR64OMh"
      }
    },
    {
      "cell_type": "markdown",
      "source": [
        "-  확률의 총 합이 1이 되도록 다중 클래스 분류 문제에 적용\n",
        "\n",
        "![image.png](data:image/png;base64,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)"
      ],
      "metadata": {
        "id": "iMja2eaL8dXK"
      }
    },
    {
      "cell_type": "markdown",
      "source": [
        "### **2.소프트맥스 함수(Softmax function)**"
      ],
      "metadata": {
        "id": "5_VgLyi54PyE"
      }
    },
    {
      "cell_type": "markdown",
      "source": [
        "#### 1) 소프트맥스 함수의 이해"
      ],
      "metadata": {
        "id": "FlC9rUsS4QMu"
      }
    },
    {
      "cell_type": "markdown",
      "source": [
        "- $z_i$ : k차원의 벡터에서 i번째 원소\n",
        "- $p_i$ : i번째 클래스가 정답일 확률\n",
        "\n",
        "![image.png](data:image/png;base64,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)"
      ],
      "metadata": {
        "id": "lUZykme_8wrB"
      }
    },
    {
      "cell_type": "markdown",
      "source": [
        "#### 2) 그림을 통한 이해"
      ],
      "metadata": {
        "id": "WLdP3FQD4WJt"
      }
    },
    {
      "cell_type": "markdown",
      "source": [
        "![image.png](data:image/png;base64,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)"
      ],
      "metadata": {
        "id": "L-jHQhEk9COm"
      }
    },
    {
      "cell_type": "markdown",
      "source": [
        "![image.png](data:image/png;base64,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)"
      ],
      "metadata": {
        "id": "o1FmiVrz9FOG"
      }
    },
    {
      "cell_type": "markdown",
      "source": [
        "![image.png](data:image/png;base64,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)"
      ],
      "metadata": {
        "id": "0OBMEQxB9NRS"
      }
    },
    {
      "cell_type": "markdown",
      "source": [
        "### **3.붓꽃 품종 분류하기 행렬 연산으로 이해하기**"
      ],
      "metadata": {
        "id": "vZsEUebE4YGF"
      }
    },
    {
      "cell_type": "markdown",
      "source": [
        "$\\hat{Y} = softmax(XW + B)$\n",
        "\n",
        "![image.png](data:image/png;base64,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)"
      ],
      "metadata": {
        "id": "T0QgQChK9QfD"
      }
    },
    {
      "cell_type": "markdown",
      "source": [
        "### **4.비용 함수(Cost function)**"
      ],
      "metadata": {
        "id": "risV6j8V4agg"
      }
    },
    {
      "cell_type": "markdown",
      "source": [
        "#### 1) 크로스 엔트로피 함수"
      ],
      "metadata": {
        "id": "zh118Yj44csH"
      }
    },
    {
      "cell_type": "markdown",
      "source": [
        "$cost(W) = -\\sum\\limits_{j=1}^k y_jlog(p_j)$\n",
        "\n",
        "- $y$ = 실제값\n",
        "- $k$ = 클래스의 개수\n",
        "- $y_j$ = 실제값 원-핫 벡터의 j번째 인덱스를 의미\n",
        "- $p_j$ = 샘플 데이터가 j번째 클래스일 확률\n",
        "\n",
        "  - 값을 최소화하는 방향으로 학습"
      ],
      "metadata": {
        "id": "MEU4cjtB9kA2"
      }
    },
    {
      "cell_type": "markdown",
      "source": [
        "#### 2) 이진 분류에서의 크로스 엔트로피 함수"
      ],
      "metadata": {
        "id": "4WrJKD1J4elL"
      }
    },
    {
      "cell_type": "markdown",
      "source": [
        "![image.png](data:image/png;base64,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)"
      ],
      "metadata": {
        "id": "7dNE-68p-hnQ"
      }
    },
    {
      "cell_type": "markdown",
      "source": [
        "## 5-3 소프트맥스 회귀 다양한 방법으로 구현하기"
      ],
      "metadata": {
        "id": "FOoUEBlx4hFM"
      }
    },
    {
      "cell_type": "markdown",
      "source": [
        "### **1.소프트맥스 회귀의 비용 함수 구현**"
      ],
      "metadata": {
        "id": "9abAVtzL4kOg"
      }
    },
    {
      "cell_type": "code",
      "source": [
        "import torch\n",
        "import torch.nn.functional as F"
      ],
      "metadata": {
        "id": "-QlTIqCE4sV6"
      },
      "execution_count": null,
      "outputs": []
    },
    {
      "cell_type": "code",
      "source": [
        "torch.manual_seed(1)"
      ],
      "metadata": {
        "colab": {
          "base_uri": "https://localhost:8080/"
        },
        "id": "Jc_juWlL4t-d",
        "outputId": "65cd81a1-1ef3-4249-c539-059b0a453411"
      },
      "execution_count": null,
      "outputs": [
        {
          "output_type": "execute_result",
          "data": {
            "text/plain": [
              "<torch._C.Generator at 0x7e3c38bf8810>"
            ]
          },
          "metadata": {},
          "execution_count": 42
        }
      ]
    },
    {
      "cell_type": "markdown",
      "source": [
        "#### 1) 파이토치로 소프트맥스의 비용 함수 구현하기 (로우-레벨)"
      ],
      "metadata": {
        "id": "TEIrdp2n4l_0"
      }
    },
    {
      "cell_type": "code",
      "source": [
        "z = torch.FloatTensor([1, 2, 3])"
      ],
      "metadata": {
        "id": "TOAV2d0T4v0i"
      },
      "execution_count": null,
      "outputs": []
    },
    {
      "cell_type": "code",
      "source": [
        "hypothesis = F.softmax(z, dim=0)\n",
        "print(hypothesis)"
      ],
      "metadata": {
        "colab": {
          "base_uri": "https://localhost:8080/"
        },
        "id": "DydcBh9_4vuT",
        "outputId": "1b1d6ea8-be6c-4ea0-9240-dfe93e03fbb1"
      },
      "execution_count": null,
      "outputs": [
        {
          "output_type": "stream",
          "name": "stdout",
          "text": [
            "tensor([0.0900, 0.2447, 0.6652])\n"
          ]
        }
      ]
    },
    {
      "cell_type": "code",
      "source": [
        "hypothesis.sum()"
      ],
      "metadata": {
        "colab": {
          "base_uri": "https://localhost:8080/"
        },
        "id": "aw8jLkoT4vnr",
        "outputId": "364f78be-414d-4e87-c405-c4a619514eec"
      },
      "execution_count": null,
      "outputs": [
        {
          "output_type": "execute_result",
          "data": {
            "text/plain": [
              "tensor(1.)"
            ]
          },
          "metadata": {},
          "execution_count": 45
        }
      ]
    },
    {
      "cell_type": "code",
      "source": [
        "z = torch.rand(3, 5, requires_grad=True)"
      ],
      "metadata": {
        "id": "nNgKuTjz5DYh"
      },
      "execution_count": null,
      "outputs": []
    },
    {
      "cell_type": "code",
      "source": [
        "hypothesis = F.softmax(z, dim=1)\n",
        "print(hypothesis)"
      ],
      "metadata": {
        "colab": {
          "base_uri": "https://localhost:8080/"
        },
        "id": "QhjY3hDa5DPH",
        "outputId": "20981807-c572-44e0-a748-c9182c5ca71d"
      },
      "execution_count": null,
      "outputs": [
        {
          "output_type": "stream",
          "name": "stdout",
          "text": [
            "tensor([[0.2645, 0.1639, 0.1855, 0.2585, 0.1277],\n",
            "        [0.2430, 0.1624, 0.2322, 0.1930, 0.1694],\n",
            "        [0.2226, 0.1986, 0.2326, 0.1594, 0.1868]], grad_fn=<SoftmaxBackward0>)\n"
          ]
        }
      ]
    },
    {
      "cell_type": "code",
      "source": [
        "y = torch.randint(5, (3,)).long()\n",
        "print(y)"
      ],
      "metadata": {
        "colab": {
          "base_uri": "https://localhost:8080/"
        },
        "id": "MDIRu0Pg5DKv",
        "outputId": "06d2f5cd-141a-48fa-d381-c6d1144328e7"
      },
      "execution_count": null,
      "outputs": [
        {
          "output_type": "stream",
          "name": "stdout",
          "text": [
            "tensor([0, 2, 1])\n"
          ]
        }
      ]
    },
    {
      "cell_type": "code",
      "source": [
        "# 모든 원소가 0의 값을 가진 3 × 5 텐서 생성\n",
        "y_one_hot = torch.zeros_like(hypothesis)\n",
        "y_one_hot.scatter_(1, y.unsqueeze(1), 1)"
      ],
      "metadata": {
        "colab": {
          "base_uri": "https://localhost:8080/"
        },
        "id": "MInIN54u5G-o",
        "outputId": "bda612ce-1b73-481c-f7c6-3a7e65f18c75"
      },
      "execution_count": null,
      "outputs": [
        {
          "output_type": "execute_result",
          "data": {
            "text/plain": [
              "tensor([[1., 0., 0., 0., 0.],\n",
              "        [0., 0., 1., 0., 0.],\n",
              "        [0., 1., 0., 0., 0.]])"
            ]
          },
          "metadata": {},
          "execution_count": 49
        }
      ]
    },
    {
      "cell_type": "code",
      "source": [
        "print(y.unsqueeze(1))"
      ],
      "metadata": {
        "colab": {
          "base_uri": "https://localhost:8080/"
        },
        "id": "WESwvahq5G3Q",
        "outputId": "a0ad457c-fd04-4604-f7d2-80537e679b85"
      },
      "execution_count": null,
      "outputs": [
        {
          "output_type": "stream",
          "name": "stdout",
          "text": [
            "tensor([[0],\n",
            "        [2],\n",
            "        [1]])\n"
          ]
        }
      ]
    },
    {
      "cell_type": "code",
      "source": [
        "print(y_one_hot)"
      ],
      "metadata": {
        "colab": {
          "base_uri": "https://localhost:8080/"
        },
        "id": "IoVX_lRo5JoY",
        "outputId": "8ca9d515-ec62-4e0e-fd45-c0cdc2087e3e"
      },
      "execution_count": null,
      "outputs": [
        {
          "output_type": "stream",
          "name": "stdout",
          "text": [
            "tensor([[1., 0., 0., 0., 0.],\n",
            "        [0., 0., 1., 0., 0.],\n",
            "        [0., 1., 0., 0., 0.]])\n"
          ]
        }
      ]
    },
    {
      "cell_type": "code",
      "source": [
        "cost = (y_one_hot * -torch.log(hypothesis)).sum(dim=1).mean()\n",
        "print(cost)"
      ],
      "metadata": {
        "colab": {
          "base_uri": "https://localhost:8080/"
        },
        "id": "bBx5obRz5JgX",
        "outputId": "a9fad2ec-149d-4ebc-a782-f4545fbe00e9"
      },
      "execution_count": null,
      "outputs": [
        {
          "output_type": "stream",
          "name": "stdout",
          "text": [
            "tensor(1.4689, grad_fn=<MeanBackward0>)\n"
          ]
        }
      ]
    },
    {
      "cell_type": "markdown",
      "source": [
        "#### 2) 파이토치로 소프트맥스의 비용 함수 구현하기 (하이-레벨)"
      ],
      "metadata": {
        "id": "3mnXunjS4mdM"
      }
    },
    {
      "cell_type": "code",
      "source": [
        "# Low level\n",
        "torch.log(F.softmax(z, dim=1))"
      ],
      "metadata": {
        "colab": {
          "base_uri": "https://localhost:8080/"
        },
        "id": "amJMY8No5Jac",
        "outputId": "adc842df-21cd-4593-c4fb-b259982c4b1c"
      },
      "execution_count": null,
      "outputs": [
        {
          "output_type": "execute_result",
          "data": {
            "text/plain": [
              "tensor([[-1.3301, -1.8084, -1.6846, -1.3530, -2.0584],\n",
              "        [-1.4147, -1.8174, -1.4602, -1.6450, -1.7758],\n",
              "        [-1.5025, -1.6165, -1.4586, -1.8360, -1.6776]], grad_fn=<LogBackward0>)"
            ]
          },
          "metadata": {},
          "execution_count": 53
        }
      ]
    },
    {
      "cell_type": "code",
      "source": [
        "# High level\n",
        "F.log_softmax(z, dim=1)"
      ],
      "metadata": {
        "colab": {
          "base_uri": "https://localhost:8080/"
        },
        "id": "aks5S_GV5QUd",
        "outputId": "d39d22f9-3800-45c1-bb31-af5e83c70bcd"
      },
      "execution_count": null,
      "outputs": [
        {
          "output_type": "execute_result",
          "data": {
            "text/plain": [
              "tensor([[-1.3301, -1.8084, -1.6846, -1.3530, -2.0584],\n",
              "        [-1.4147, -1.8174, -1.4602, -1.6450, -1.7758],\n",
              "        [-1.5025, -1.6165, -1.4586, -1.8360, -1.6776]],\n",
              "       grad_fn=<LogSoftmaxBackward0>)"
            ]
          },
          "metadata": {},
          "execution_count": 54
        }
      ]
    },
    {
      "cell_type": "code",
      "source": [
        "# Low level\n",
        "# 첫번째 수식\n",
        "(y_one_hot * -torch.log(F.softmax(z, dim=1))).sum(dim=1).mean()"
      ],
      "metadata": {
        "colab": {
          "base_uri": "https://localhost:8080/"
        },
        "id": "AJq13Nvg5QOP",
        "outputId": "637106b9-9791-4bfe-98a9-358c439c08a6"
      },
      "execution_count": null,
      "outputs": [
        {
          "output_type": "execute_result",
          "data": {
            "text/plain": [
              "tensor(1.4689, grad_fn=<MeanBackward0>)"
            ]
          },
          "metadata": {},
          "execution_count": 55
        }
      ]
    },
    {
      "cell_type": "code",
      "source": [
        "# 두번째 수식\n",
        "(y_one_hot * - F.log_softmax(z, dim=1)).sum(dim=1).mean()"
      ],
      "metadata": {
        "colab": {
          "base_uri": "https://localhost:8080/"
        },
        "id": "jUiSb-aR5QGL",
        "outputId": "1f78d157-63b7-4609-e157-5ed0915fce73"
      },
      "execution_count": null,
      "outputs": [
        {
          "output_type": "execute_result",
          "data": {
            "text/plain": [
              "tensor(1.4689, grad_fn=<MeanBackward0>)"
            ]
          },
          "metadata": {},
          "execution_count": 56
        }
      ]
    },
    {
      "cell_type": "code",
      "source": [
        "# High level\n",
        "# 세번째 수식\n",
        "F.nll_loss(F.log_softmax(z, dim=1), y)"
      ],
      "metadata": {
        "colab": {
          "base_uri": "https://localhost:8080/"
        },
        "id": "XXLXaqDV5VR1",
        "outputId": "0382fba8-3770-458a-8577-114af3153d94"
      },
      "execution_count": null,
      "outputs": [
        {
          "output_type": "execute_result",
          "data": {
            "text/plain": [
              "tensor(1.4689, grad_fn=<NllLossBackward0>)"
            ]
          },
          "metadata": {},
          "execution_count": 57
        }
      ]
    },
    {
      "cell_type": "code",
      "source": [
        "# 네번째 수식\n",
        "F.cross_entropy(z, y)"
      ],
      "metadata": {
        "colab": {
          "base_uri": "https://localhost:8080/"
        },
        "id": "g_r79LEL5VHM",
        "outputId": "356bba31-1cb5-4d44-d019-217705e0302a"
      },
      "execution_count": null,
      "outputs": [
        {
          "output_type": "execute_result",
          "data": {
            "text/plain": [
              "tensor(1.4689, grad_fn=<NllLossBackward0>)"
            ]
          },
          "metadata": {},
          "execution_count": 58
        }
      ]
    },
    {
      "cell_type": "markdown",
      "source": [
        "### **2.소프트맥스 회귀 구현하기**"
      ],
      "metadata": {
        "id": "vtYoezad4mzK"
      }
    },
    {
      "cell_type": "markdown",
      "source": [
        "#### 1) 데이터셋 준비"
      ],
      "metadata": {
        "id": "uX-F0iVK5aF7"
      }
    },
    {
      "cell_type": "code",
      "source": [
        "import torch\n",
        "import torch.nn as nn\n",
        "import torch.nn.functional as F\n",
        "import torch.optim as optim"
      ],
      "metadata": {
        "id": "PSNvu6UH5ce8"
      },
      "execution_count": null,
      "outputs": []
    },
    {
      "cell_type": "code",
      "source": [
        "torch.manual_seed(1)"
      ],
      "metadata": {
        "colab": {
          "base_uri": "https://localhost:8080/"
        },
        "id": "WldJCT4v5cXM",
        "outputId": "e58f1e13-956a-45f8-90d0-36c78e16fa5b"
      },
      "execution_count": null,
      "outputs": [
        {
          "output_type": "execute_result",
          "data": {
            "text/plain": [
              "<torch._C.Generator at 0x7e3c38bf8810>"
            ]
          },
          "metadata": {},
          "execution_count": 60
        }
      ]
    },
    {
      "cell_type": "code",
      "source": [
        "x_train = [[1, 2, 1, 1],\n",
        "           [2, 1, 3, 2],\n",
        "           [3, 1, 3, 4],\n",
        "           [4, 1, 5, 5],\n",
        "           [1, 7, 5, 5],\n",
        "           [1, 2, 5, 6],\n",
        "           [1, 6, 6, 6],\n",
        "           [1, 7, 7, 7]]\n",
        "y_train = [2, 2, 2, 1, 1, 1, 0, 0]\n",
        "x_train = torch.FloatTensor(x_train)\n",
        "y_train = torch.LongTensor(y_train)"
      ],
      "metadata": {
        "id": "bstWzTUl5mEo"
      },
      "execution_count": null,
      "outputs": []
    },
    {
      "cell_type": "markdown",
      "source": [
        "#### 2) 소프트맥스 회귀 구현하기(로우-레벨)"
      ],
      "metadata": {
        "id": "qEm5XHBQ5gIE"
      }
    },
    {
      "cell_type": "code",
      "source": [
        "print(x_train.shape)\n",
        "print(y_train.shape)"
      ],
      "metadata": {
        "colab": {
          "base_uri": "https://localhost:8080/"
        },
        "id": "u0gexlcf5fPf",
        "outputId": "22c5f733-4f88-48d2-9d82-f97410c5520d"
      },
      "execution_count": null,
      "outputs": [
        {
          "output_type": "stream",
          "name": "stdout",
          "text": [
            "torch.Size([8, 4])\n",
            "torch.Size([8])\n"
          ]
        }
      ]
    },
    {
      "cell_type": "code",
      "source": [
        "y_one_hot = torch.zeros(8, 3)\n",
        "y_one_hot.scatter_(1, y_train.unsqueeze(1), 1)\n",
        "print(y_one_hot.shape)"
      ],
      "metadata": {
        "colab": {
          "base_uri": "https://localhost:8080/"
        },
        "id": "epkmnY5M5fJd",
        "outputId": "cc86540c-4c34-430b-ce44-23ff1eeb7060"
      },
      "execution_count": null,
      "outputs": [
        {
          "output_type": "stream",
          "name": "stdout",
          "text": [
            "torch.Size([8, 3])\n"
          ]
        }
      ]
    },
    {
      "cell_type": "code",
      "source": [
        "# 모델 초기화\n",
        "W = torch.zeros((4, 3), requires_grad=True)\n",
        "b = torch.zeros((1, 3), requires_grad=True)\n",
        "# optimizer 설정\n",
        "optimizer = optim.SGD([W, b], lr=0.1)"
      ],
      "metadata": {
        "id": "MTdL7x-T5fED"
      },
      "execution_count": null,
      "outputs": []
    },
    {
      "cell_type": "code",
      "source": [
        "nb_epochs = 1000\n",
        "for epoch in range(nb_epochs + 1):\n",
        "\n",
        "    # 가설\n",
        "    hypothesis = F.softmax(x_train.matmul(W) + b, dim=1)\n",
        "\n",
        "    # 비용 함수\n",
        "    cost = (y_one_hot * -torch.log(hypothesis)).sum(dim=1).mean()\n",
        "\n",
        "    # cost로 H(x) 개선\n",
        "    optimizer.zero_grad()\n",
        "    cost.backward()\n",
        "    optimizer.step()\n",
        "\n",
        "    # 100번마다 로그 출력\n",
        "    if epoch % 100 == 0:\n",
        "        print('Epoch {:4d}/{} Cost: {:.6f}'.format(\n",
        "            epoch, nb_epochs, cost.item()\n",
        "        ))"
      ],
      "metadata": {
        "colab": {
          "base_uri": "https://localhost:8080/"
        },
        "id": "aSGJsNsU5e-o",
        "outputId": "3d6ead2c-f2dc-4ce1-9b31-b906488c52b4"
      },
      "execution_count": null,
      "outputs": [
        {
          "output_type": "stream",
          "name": "stdout",
          "text": [
            "Epoch    0/1000 Cost: 1.098612\n",
            "Epoch  100/1000 Cost: 0.704199\n",
            "Epoch  200/1000 Cost: 0.622999\n",
            "Epoch  300/1000 Cost: 0.565717\n",
            "Epoch  400/1000 Cost: 0.515291\n",
            "Epoch  500/1000 Cost: 0.467661\n",
            "Epoch  600/1000 Cost: 0.421278\n",
            "Epoch  700/1000 Cost: 0.375402\n",
            "Epoch  800/1000 Cost: 0.329766\n",
            "Epoch  900/1000 Cost: 0.285072\n",
            "Epoch 1000/1000 Cost: 0.248155\n"
          ]
        }
      ]
    },
    {
      "cell_type": "markdown",
      "source": [
        "#### 3) 소프트맥스 회귀 구현하기(하이-레벨)"
      ],
      "metadata": {
        "id": "NMPIjT2t5srY"
      }
    },
    {
      "cell_type": "code",
      "source": [
        "# 모델 초기화\n",
        "W = torch.zeros((4, 3), requires_grad=True)\n",
        "b = torch.zeros((1, 3), requires_grad=True)\n",
        "# optimizer 설정\n",
        "optimizer = optim.SGD([W, b], lr=0.1)\n",
        "\n",
        "nb_epochs = 1000\n",
        "for epoch in range(nb_epochs + 1):\n",
        "\n",
        "    # Cost 계산\n",
        "    z = x_train.matmul(W) + b\n",
        "    cost = F.cross_entropy(z, y_train)\n",
        "\n",
        "    # cost로 H(x) 개선\n",
        "    optimizer.zero_grad()\n",
        "    cost.backward()\n",
        "    optimizer.step()\n",
        "\n",
        "    # 100번마다 로그 출력\n",
        "    if epoch % 100 == 0:\n",
        "        print('Epoch {:4d}/{} Cost: {:.6f}'.format(\n",
        "            epoch, nb_epochs, cost.item()\n",
        "        ))"
      ],
      "metadata": {
        "colab": {
          "base_uri": "https://localhost:8080/"
        },
        "id": "GSMaJSoc5t-6",
        "outputId": "c7fb336a-ebf4-4b60-d48c-997ef6bbb37d"
      },
      "execution_count": null,
      "outputs": [
        {
          "output_type": "stream",
          "name": "stdout",
          "text": [
            "Epoch    0/1000 Cost: 1.098612\n",
            "Epoch  100/1000 Cost: 0.704199\n",
            "Epoch  200/1000 Cost: 0.623000\n",
            "Epoch  300/1000 Cost: 0.565717\n",
            "Epoch  400/1000 Cost: 0.515291\n",
            "Epoch  500/1000 Cost: 0.467662\n",
            "Epoch  600/1000 Cost: 0.421278\n",
            "Epoch  700/1000 Cost: 0.375402\n",
            "Epoch  800/1000 Cost: 0.329766\n",
            "Epoch  900/1000 Cost: 0.285073\n",
            "Epoch 1000/1000 Cost: 0.248155\n"
          ]
        }
      ]
    },
    {
      "cell_type": "markdown",
      "source": [
        "#### 4) 소프트맥스 회귀 nn.Module로 구현하기"
      ],
      "metadata": {
        "id": "iSdksMGI5wKp"
      }
    },
    {
      "cell_type": "code",
      "source": [
        "# 모델을 선언 및 초기화. 4개의 특성을 가지고 3개의 클래스로 분류. input_dim=4, output_dim=3.\n",
        "model = nn.Linear(4, 3)"
      ],
      "metadata": {
        "id": "Zf4pDVkF5xo8"
      },
      "execution_count": null,
      "outputs": []
    },
    {
      "cell_type": "code",
      "source": [
        "# optimizer 설정\n",
        "optimizer = optim.SGD(model.parameters(), lr=0.1)\n",
        "\n",
        "nb_epochs = 1000\n",
        "for epoch in range(nb_epochs + 1):\n",
        "\n",
        "    # H(x) 계산\n",
        "    prediction = model(x_train)\n",
        "\n",
        "    # cost 계산\n",
        "    cost = F.cross_entropy(prediction, y_train)\n",
        "\n",
        "    # cost로 H(x) 개선\n",
        "    optimizer.zero_grad()\n",
        "    cost.backward()\n",
        "    optimizer.step()\n",
        "\n",
        "    # 20번마다 로그 출력\n",
        "    if epoch % 100 == 0:\n",
        "        print('Epoch {:4d}/{} Cost: {:.6f}'.format(\n",
        "            epoch, nb_epochs, cost.item()\n",
        "        ))"
      ],
      "metadata": {
        "colab": {
          "base_uri": "https://localhost:8080/"
        },
        "id": "fIcE7W9y5zMh",
        "outputId": "4c9577f9-0198-466a-db8b-488894958838"
      },
      "execution_count": null,
      "outputs": [
        {
          "output_type": "stream",
          "name": "stdout",
          "text": [
            "Epoch    0/1000 Cost: 1.616785\n",
            "Epoch  100/1000 Cost: 0.658891\n",
            "Epoch  200/1000 Cost: 0.573443\n",
            "Epoch  300/1000 Cost: 0.518151\n",
            "Epoch  400/1000 Cost: 0.473265\n",
            "Epoch  500/1000 Cost: 0.433516\n",
            "Epoch  600/1000 Cost: 0.396563\n",
            "Epoch  700/1000 Cost: 0.360914\n",
            "Epoch  800/1000 Cost: 0.325392\n",
            "Epoch  900/1000 Cost: 0.289178\n",
            "Epoch 1000/1000 Cost: 0.254148\n"
          ]
        }
      ]
    },
    {
      "cell_type": "markdown",
      "source": [
        "#### 5) 소프트맥스 회귀 클래스로 구현하기"
      ],
      "metadata": {
        "id": "1_6Qb8fZ51C3"
      }
    },
    {
      "cell_type": "code",
      "source": [
        "class SoftmaxClassifierModel(nn.Module):\n",
        "    def __init__(self):\n",
        "        super().__init__()\n",
        "        self.linear = nn.Linear(4, 3) # Output이 3!\n",
        "\n",
        "    def forward(self, x):\n",
        "        return self.linear(x)"
      ],
      "metadata": {
        "id": "dtaxxjmb52jH"
      },
      "execution_count": null,
      "outputs": []
    },
    {
      "cell_type": "code",
      "source": [
        "model = SoftmaxClassifierModel()\n",
        "\n",
        "# optimizer 설정\n",
        "optimizer = optim.SGD(model.parameters(), lr=0.1)"
      ],
      "metadata": {
        "id": "lUUSWHYm5zH8"
      },
      "execution_count": null,
      "outputs": []
    },
    {
      "cell_type": "code",
      "source": [
        "nb_epochs = 1000\n",
        "for epoch in range(nb_epochs + 1):\n",
        "\n",
        "    # H(x) 계산\n",
        "    prediction = model(x_train)\n",
        "\n",
        "    # cost 계산\n",
        "    cost = F.cross_entropy(prediction, y_train)\n",
        "\n",
        "    # cost로 H(x) 개선\n",
        "    optimizer.zero_grad()\n",
        "    cost.backward()\n",
        "    optimizer.step()\n",
        "\n",
        "    # 20번마다 로그 출력\n",
        "    if epoch % 100 == 0:\n",
        "        print('Epoch {:4d}/{} Cost: {:.6f}'.format(\n",
        "            epoch, nb_epochs, cost.item()\n",
        "        ))"
      ],
      "metadata": {
        "colab": {
          "base_uri": "https://localhost:8080/"
        },
        "id": "gMConqDw5zBM",
        "outputId": "9917ffec-ead9-4bae-cbed-9cbe819c6b66"
      },
      "execution_count": null,
      "outputs": [
        {
          "output_type": "stream",
          "name": "stdout",
          "text": [
            "Epoch    0/1000 Cost: 2.637636\n",
            "Epoch  100/1000 Cost: 0.647903\n",
            "Epoch  200/1000 Cost: 0.564643\n",
            "Epoch  300/1000 Cost: 0.511043\n",
            "Epoch  400/1000 Cost: 0.467249\n",
            "Epoch  500/1000 Cost: 0.428280\n",
            "Epoch  600/1000 Cost: 0.391924\n",
            "Epoch  700/1000 Cost: 0.356742\n",
            "Epoch  800/1000 Cost: 0.321577\n",
            "Epoch  900/1000 Cost: 0.285617\n",
            "Epoch 1000/1000 Cost: 0.250818\n"
          ]
        }
      ]
    },
    {
      "cell_type": "markdown",
      "source": [
        "## 5-4 소프트맥스 회귀로 MNIST 데이터 분류하기"
      ],
      "metadata": {
        "id": "o2sk-D5N5782"
      }
    },
    {
      "cell_type": "markdown",
      "source": [
        "### **1.MNIST 데이터 이해하기**"
      ],
      "metadata": {
        "id": "cdXGUuIF4nQm"
      }
    },
    {
      "cell_type": "code",
      "source": [
        "for X, Y in data_loader:\n",
        "  # 입력 이미지를 [batch_size × 784]의 크기로 reshape\n",
        "  # 레이블은 원-핫 인코딩\n",
        "  X = X.view(-1, 28*28)"
      ],
      "metadata": {
        "id": "BI6NZZx26EHC"
      },
      "execution_count": null,
      "outputs": []
    },
    {
      "cell_type": "markdown",
      "source": [
        "### **2.토치비전(torchvision) 소개하기**"
      ],
      "metadata": {
        "id": "N3f0bRSQ4nqx"
      }
    },
    {
      "cell_type": "markdown",
      "source": [
        "- torchvision : 유명한 데이터셋들, 이미 구현되어져 있는 유명한 모델들, 일반적인 이미지 전처리 도구들을 포함하고 있는 패키지\n",
        "- https://pytorch.org/docs/stable/torchvision/index.html"
      ],
      "metadata": {
        "id": "fjIF7b9h-0ok"
      }
    },
    {
      "cell_type": "markdown",
      "source": [
        "### **3.분류기 구현을 위한 사전 설정**"
      ],
      "metadata": {
        "id": "NgnLCoXr6Guq"
      }
    },
    {
      "cell_type": "code",
      "source": [
        "import torch\n",
        "import torchvision.datasets as dsets\n",
        "import torchvision.transforms as transforms\n",
        "from torch.utils.data import DataLoader\n",
        "import torch.nn as nn\n",
        "import matplotlib.pyplot as plt\n",
        "import random"
      ],
      "metadata": {
        "id": "wLLYSFgW3wYA"
      },
      "execution_count": null,
      "outputs": []
    },
    {
      "cell_type": "code",
      "source": [
        "USE_CUDA = torch.cuda.is_available() # GPU를 사용가능하면 True, 아니라면 False를 리턴\n",
        "device = torch.device(\"cuda\" if USE_CUDA else \"cpu\") # GPU 사용 가능하면 사용하고 아니면 CPU 사용\n",
        "print(\"다음 기기로 학습합니다:\", device)"
      ],
      "metadata": {
        "colab": {
          "base_uri": "https://localhost:8080/"
        },
        "id": "eFIJMoOB3xEZ",
        "outputId": "e18dd1d2-6eb6-4572-ce11-c51e0a3a0402"
      },
      "execution_count": null,
      "outputs": [
        {
          "output_type": "stream",
          "name": "stdout",
          "text": [
            "다음 기기로 학습합니다: cpu\n"
          ]
        }
      ]
    },
    {
      "cell_type": "code",
      "source": [
        "# for reproducibility\n",
        "random.seed(777)\n",
        "torch.manual_seed(777)\n",
        "if device == 'cuda':\n",
        "    torch.cuda.manual_seed_all(777)"
      ],
      "metadata": {
        "id": "V4UeBTRp3w_A"
      },
      "execution_count": null,
      "outputs": []
    },
    {
      "cell_type": "code",
      "source": [
        "# hyperparameters\n",
        "training_epochs = 15\n",
        "batch_size = 100"
      ],
      "metadata": {
        "id": "Gq8L4NCv6Ouu"
      },
      "execution_count": null,
      "outputs": []
    },
    {
      "cell_type": "markdown",
      "source": [
        "### **4.MNIST 분류기 구현하기**"
      ],
      "metadata": {
        "id": "Acmhkd_i6J44"
      }
    },
    {
      "cell_type": "code",
      "source": [
        "# MNIST dataset\n",
        "mnist_train = dsets.MNIST(root='MNIST_data/',\n",
        "                          train=True,\n",
        "                          transform=transforms.ToTensor(),\n",
        "                          download=True)\n",
        "\n",
        "mnist_test = dsets.MNIST(root='MNIST_data/',\n",
        "                         train=False,\n",
        "                         transform=transforms.ToTensor(),\n",
        "                         download=True)"
      ],
      "metadata": {
        "colab": {
          "base_uri": "https://localhost:8080/"
        },
        "id": "XjdpqU2O6SAS",
        "outputId": "0dd24a84-4653-4082-bc18-0d548c419039"
      },
      "execution_count": null,
      "outputs": [
        {
          "output_type": "stream",
          "name": "stdout",
          "text": [
            "Downloading http://yann.lecun.com/exdb/mnist/train-images-idx3-ubyte.gz\n",
            "Failed to download (trying next):\n",
            "HTTP Error 403: Forbidden\n",
            "\n",
            "Downloading https://ossci-datasets.s3.amazonaws.com/mnist/train-images-idx3-ubyte.gz\n",
            "Downloading https://ossci-datasets.s3.amazonaws.com/mnist/train-images-idx3-ubyte.gz to MNIST_data/MNIST/raw/train-images-idx3-ubyte.gz\n"
          ]
        },
        {
          "output_type": "stream",
          "name": "stderr",
          "text": [
            "100%|██████████| 9.91M/9.91M [00:00<00:00, 107MB/s]\n"
          ]
        },
        {
          "output_type": "stream",
          "name": "stdout",
          "text": [
            "Extracting MNIST_data/MNIST/raw/train-images-idx3-ubyte.gz to MNIST_data/MNIST/raw\n",
            "\n",
            "Downloading http://yann.lecun.com/exdb/mnist/train-labels-idx1-ubyte.gz\n",
            "Failed to download (trying next):\n",
            "HTTP Error 403: Forbidden\n",
            "\n",
            "Downloading https://ossci-datasets.s3.amazonaws.com/mnist/train-labels-idx1-ubyte.gz\n",
            "Downloading https://ossci-datasets.s3.amazonaws.com/mnist/train-labels-idx1-ubyte.gz to MNIST_data/MNIST/raw/train-labels-idx1-ubyte.gz\n"
          ]
        },
        {
          "output_type": "stream",
          "name": "stderr",
          "text": [
            "100%|██████████| 28.9k/28.9k [00:00<00:00, 25.1MB/s]"
          ]
        },
        {
          "output_type": "stream",
          "name": "stdout",
          "text": [
            "Extracting MNIST_data/MNIST/raw/train-labels-idx1-ubyte.gz to MNIST_data/MNIST/raw\n",
            "\n",
            "Downloading http://yann.lecun.com/exdb/mnist/t10k-images-idx3-ubyte.gz\n"
          ]
        },
        {
          "output_type": "stream",
          "name": "stderr",
          "text": [
            "\n"
          ]
        },
        {
          "output_type": "stream",
          "name": "stdout",
          "text": [
            "Failed to download (trying next):\n",
            "HTTP Error 403: Forbidden\n",
            "\n",
            "Downloading https://ossci-datasets.s3.amazonaws.com/mnist/t10k-images-idx3-ubyte.gz\n",
            "Downloading https://ossci-datasets.s3.amazonaws.com/mnist/t10k-images-idx3-ubyte.gz to MNIST_data/MNIST/raw/t10k-images-idx3-ubyte.gz\n"
          ]
        },
        {
          "output_type": "stream",
          "name": "stderr",
          "text": [
            "100%|██████████| 1.65M/1.65M [00:00<00:00, 55.2MB/s]\n"
          ]
        },
        {
          "output_type": "stream",
          "name": "stdout",
          "text": [
            "Extracting MNIST_data/MNIST/raw/t10k-images-idx3-ubyte.gz to MNIST_data/MNIST/raw\n",
            "\n",
            "Downloading http://yann.lecun.com/exdb/mnist/t10k-labels-idx1-ubyte.gz\n",
            "Failed to download (trying next):\n",
            "HTTP Error 403: Forbidden\n",
            "\n",
            "Downloading https://ossci-datasets.s3.amazonaws.com/mnist/t10k-labels-idx1-ubyte.gz\n",
            "Downloading https://ossci-datasets.s3.amazonaws.com/mnist/t10k-labels-idx1-ubyte.gz to MNIST_data/MNIST/raw/t10k-labels-idx1-ubyte.gz\n"
          ]
        },
        {
          "output_type": "stream",
          "name": "stderr",
          "text": [
            "100%|██████████| 4.54k/4.54k [00:00<00:00, 6.27MB/s]"
          ]
        },
        {
          "output_type": "stream",
          "name": "stdout",
          "text": [
            "Extracting MNIST_data/MNIST/raw/t10k-labels-idx1-ubyte.gz to MNIST_data/MNIST/raw\n",
            "\n"
          ]
        },
        {
          "output_type": "stream",
          "name": "stderr",
          "text": [
            "\n"
          ]
        }
      ]
    },
    {
      "cell_type": "code",
      "source": [
        "# dataset loader\n",
        "data_loader = DataLoader(dataset=mnist_train,\n",
        "                                          batch_size=batch_size, # 배치 크기는 100\n",
        "                                          shuffle=True,\n",
        "                                          drop_last=True)"
      ],
      "metadata": {
        "id": "qRhNNVdU6R6K"
      },
      "execution_count": null,
      "outputs": []
    },
    {
      "cell_type": "code",
      "source": [
        "# MNIST data image of shape 28 * 28 = 784\n",
        "linear = nn.Linear(784, 10, bias=True).to(device)"
      ],
      "metadata": {
        "id": "QZrSwUcW6Rjf"
      },
      "execution_count": null,
      "outputs": []
    },
    {
      "cell_type": "code",
      "source": [
        "# 비용 함수와 옵티마이저 정의\n",
        "criterion = nn.CrossEntropyLoss().to(device) # 내부적으로 소프트맥스 함수를 포함하고 있음.\n",
        "optimizer = torch.optim.SGD(linear.parameters(), lr=0.1)"
      ],
      "metadata": {
        "id": "xCpnWlGG6Vv3"
      },
      "execution_count": null,
      "outputs": []
    },
    {
      "cell_type": "code",
      "source": [
        "for epoch in range(training_epochs): # 앞서 training_epochs의 값은 15로 지정함.\n",
        "    avg_cost = 0\n",
        "    total_batch = len(data_loader)\n",
        "\n",
        "    for X, Y in data_loader:\n",
        "        # 배치 크기가 100이므로 아래의 연산에서 X는 (100, 784)의 텐서가 된다.\n",
        "        X = X.view(-1, 28 * 28).to(device)\n",
        "        # 레이블은 원-핫 인코딩이 된 상태가 아니라 0 ~ 9의 정수.\n",
        "        Y = Y.to(device)\n",
        "\n",
        "        optimizer.zero_grad()\n",
        "        hypothesis = linear(X)\n",
        "        cost = criterion(hypothesis, Y)\n",
        "        cost.backward()\n",
        "        optimizer.step()\n",
        "\n",
        "        avg_cost += cost / total_batch\n",
        "\n",
        "    print('Epoch:', '%04d' % (epoch + 1), 'cost =', '{:.9f}'.format(avg_cost))\n",
        "\n",
        "print('Learning finished')"
      ],
      "metadata": {
        "colab": {
          "base_uri": "https://localhost:8080/"
        },
        "id": "T1O2winQ6Vqc",
        "outputId": "771bd737-5e8f-4e2f-e2b9-b10bdb0df195"
      },
      "execution_count": null,
      "outputs": [
        {
          "output_type": "stream",
          "name": "stdout",
          "text": [
            "Epoch: 0001 cost = 0.535150588\n",
            "Epoch: 0002 cost = 0.359577775\n",
            "Epoch: 0003 cost = 0.331264287\n",
            "Epoch: 0004 cost = 0.316404670\n",
            "Epoch: 0005 cost = 0.307107031\n",
            "Epoch: 0006 cost = 0.300456554\n",
            "Epoch: 0007 cost = 0.294933408\n",
            "Epoch: 0008 cost = 0.290956199\n",
            "Epoch: 0009 cost = 0.287074089\n",
            "Epoch: 0010 cost = 0.284515619\n",
            "Epoch: 0011 cost = 0.281914055\n",
            "Epoch: 0012 cost = 0.279526889\n",
            "Epoch: 0013 cost = 0.277636588\n",
            "Epoch: 0014 cost = 0.275874764\n",
            "Epoch: 0015 cost = 0.274422795\n",
            "Learning finished\n"
          ]
        }
      ]
    },
    {
      "cell_type": "code",
      "source": [
        "# 테스트 데이터를 사용하여 모델을 테스트한다.\n",
        "with torch.no_grad(): # torch.no_grad()를 하면 gradient 계산을 수행하지 않는다.\n",
        "    X_test = mnist_test.test_data.view(-1, 28 * 28).float().to(device)\n",
        "    Y_test = mnist_test.test_labels.to(device)\n",
        "\n",
        "    prediction = linear(X_test)\n",
        "    correct_prediction = torch.argmax(prediction, 1) == Y_test\n",
        "    accuracy = correct_prediction.float().mean()\n",
        "    print('Accuracy:', accuracy.item())\n",
        "\n",
        "    # MNIST 테스트 데이터에서 무작위로 하나를 뽑아서 예측을 해본다\n",
        "    r = random.randint(0, len(mnist_test) - 1)\n",
        "    X_single_data = mnist_test.test_data[r:r + 1].view(-1, 28 * 28).float().to(device)\n",
        "    Y_single_data = mnist_test.test_labels[r:r + 1].to(device)\n",
        "\n",
        "    print('Label: ', Y_single_data.item())\n",
        "    single_prediction = linear(X_single_data)\n",
        "    print('Prediction: ', torch.argmax(single_prediction, 1).item())\n",
        "\n",
        "    plt.imshow(mnist_test.test_data[r:r + 1].view(28, 28), cmap='Greys', interpolation='nearest')\n",
        "    plt.show()"
      ],
      "metadata": {
        "colab": {
          "base_uri": "https://localhost:8080/",
          "height": 579
        },
        "id": "xtp1cPXx6Vj4",
        "outputId": "c2b0db4a-cfe3-4ddc-f0f8-c8d33e9d542a"
      },
      "execution_count": null,
      "outputs": [
        {
          "output_type": "stream",
          "name": "stderr",
          "text": [
            "/usr/local/lib/python3.10/dist-packages/torchvision/datasets/mnist.py:81: UserWarning: test_data has been renamed data\n",
            "  warnings.warn(\"test_data has been renamed data\")\n",
            "/usr/local/lib/python3.10/dist-packages/torchvision/datasets/mnist.py:71: UserWarning: test_labels has been renamed targets\n",
            "  warnings.warn(\"test_labels has been renamed targets\")\n"
          ]
        },
        {
          "output_type": "stream",
          "name": "stdout",
          "text": [
            "Accuracy: 0.8883000016212463\n",
            "Label:  8\n",
            "Prediction:  3\n"
          ]
        },
        {
          "output_type": "display_data",
          "data": {
            "text/plain": [
              "<Figure size 640x480 with 1 Axes>"
            ],
            "image/png": "[encoded data removed]"
          },
          "metadata": {}
        }
      ]
    }
  ]
}